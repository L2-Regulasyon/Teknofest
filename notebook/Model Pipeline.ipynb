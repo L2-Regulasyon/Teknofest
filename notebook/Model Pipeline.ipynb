{
 "cells": [
  {
   "cell_type": "code",
   "execution_count": 1,
   "id": "ca75bdd1",
   "metadata": {},
   "outputs": [],
   "source": [
    "%load_ext autoreload\n",
    "%autoreload 2"
   ]
  },
  {
   "cell_type": "code",
   "execution_count": 2,
   "id": "bfae0f24",
   "metadata": {},
   "outputs": [],
   "source": [
    "import warnings\n",
    "warnings.filterwarnings(\"ignore\")"
   ]
  },
  {
   "cell_type": "code",
   "execution_count": 3,
   "id": "1c8cef16",
   "metadata": {},
   "outputs": [],
   "source": [
    "import sys\n",
    "sys.path.append('../src')"
   ]
  },
  {
   "cell_type": "code",
   "execution_count": 4,
   "id": "3cf5fa45",
   "metadata": {},
   "outputs": [],
   "source": [
    "import unidecode\n",
    "import pandas as pd\n",
    "import numpy as np\n",
    "import re\n",
    "from tqdm.notebook import tqdm\n",
    "tqdm.pandas()\n",
    "\n",
    "from model import AcikhackModel"
   ]
  },
  {
   "cell_type": "code",
   "execution_count": 5,
   "id": "70166991",
   "metadata": {},
   "outputs": [],
   "source": [
    "df = pd.read_csv(\"../data/kanunum-nlp-doc-analysis-dataset.csv\")"
   ]
  },
  {
   "cell_type": "code",
   "execution_count": 6,
   "id": "ab07f8c0",
   "metadata": {},
   "outputs": [],
   "source": [
    "subm_null_df = df.copy()\n",
    "\n",
    "comparison_cols = [\n",
    "# 'baslik', \n",
    "# 'kurum',\n",
    "# 'url',\n",
    "# 'kanunum_url'\n",
    "    \n",
    "    \n",
    "## THESE SHOULD BE ENABLED vvv\n",
    "    \n",
    "    'rega_no',\n",
    "    'sira_no',\n",
    "    'mukerrer_no',\n",
    "    'donem',\n",
    "    'kategori',\n",
    "    'rega_tarihi',\n",
    "    'mevzuat_no',\n",
    "    'belge_sayi',\n",
    "    'mevzuat_tarihi', \n",
    "    'madde_sayisi',\n",
    "]\n",
    "\n",
    "subm_null_df[comparison_cols] = np.nan\n",
    "subm_null_df[[\"mukerrer_no\", \"madde_sayisi\"]] = 0\n",
    "df[\"mukerrer_no\"].fillna(0, inplace=True)\n",
    "df[\"madde_sayisi\"].fillna(0, inplace=True)"
   ]
  },
  {
   "cell_type": "code",
   "execution_count": 7,
   "id": "d291db02",
   "metadata": {},
   "outputs": [
    {
     "name": "stdout",
     "output_type": "stream",
     "text": [
      "Yarisma submission modu: ACIK\n",
      "Yarisma submission modu: ACIK\n",
      "Yarisma submission modu: ACIK\n",
      "Yarisma submission modu: ACIK\n",
      "Yarisma submission modu: ACIK\n",
      "Yarisma submission modu: ACIK\n",
      "Yarisma submission modu: ACIK\n",
      "Yarisma submission modu: ACIK\n",
      "Yarisma submission modu: ACIK\n"
     ]
    }
   ],
   "source": [
    "ah_model = AcikhackModel(checkpoint_path=\"../models\")"
   ]
  },
  {
   "cell_type": "code",
   "execution_count": 8,
   "id": "002489ec",
   "metadata": {
    "scrolled": true
   },
   "outputs": [
    {
     "name": "stdout",
     "output_type": "stream",
     "text": [
      "Kategori cikariliyor...\n",
      "'belge_sayi' cikariliyor... -> 'belge_sayi'\n"
     ]
    },
    {
     "data": {
      "application/vnd.jupyter.widget-view+json": {
       "model_id": "57fc7a1465924383b4c96b9dbe985a28",
       "version_major": 2,
       "version_minor": 0
      },
      "text/plain": [
       "  0%|          | 0/407 [00:00<?, ?it/s]"
      ]
     },
     "metadata": {},
     "output_type": "display_data"
    },
    {
     "name": "stdout",
     "output_type": "stream",
     "text": [
      "'sira_no' cikariliyor... -> 'sira_no'\n"
     ]
    },
    {
     "data": {
      "application/vnd.jupyter.widget-view+json": {
       "model_id": "cb162fb3778841708c64392e87dc8376",
       "version_major": 2,
       "version_minor": 0
      },
      "text/plain": [
       "  0%|          | 0/496 [00:00<?, ?it/s]"
      ]
     },
     "metadata": {},
     "output_type": "display_data"
    },
    {
     "name": "stdout",
     "output_type": "stream",
     "text": [
      "'rega_no' cikariliyor... -> 'rega_no'\n"
     ]
    },
    {
     "data": {
      "application/vnd.jupyter.widget-view+json": {
       "model_id": "b95763828f294ff583023c6fd3c9351f",
       "version_major": 2,
       "version_minor": 0
      },
      "text/plain": [
       "  0%|          | 0/2509 [00:00<?, ?it/s]"
      ]
     },
     "metadata": {},
     "output_type": "display_data"
    },
    {
     "name": "stdout",
     "output_type": "stream",
     "text": [
      "'mukerrer_no' cikariliyor... -> 'mukerrer_no'\n"
     ]
    },
    {
     "data": {
      "application/vnd.jupyter.widget-view+json": {
       "model_id": "4fce3807cf4c46cebc2052cc8815c32e",
       "version_major": 2,
       "version_minor": 0
      },
      "text/plain": [
       "  0%|          | 0/2509 [00:00<?, ?it/s]"
      ]
     },
     "metadata": {},
     "output_type": "display_data"
    },
    {
     "name": "stdout",
     "output_type": "stream",
     "text": [
      "'madde_sayisi' cikariliyor... -> 'madde_sayisi'\n"
     ]
    },
    {
     "data": {
      "application/vnd.jupyter.widget-view+json": {
       "model_id": "8b13541d141d4ad3b86e07a1fcef2765",
       "version_major": 2,
       "version_minor": 0
      },
      "text/plain": [
       "  0%|          | 0/1368 [00:00<?, ?it/s]"
      ]
     },
     "metadata": {},
     "output_type": "display_data"
    },
    {
     "name": "stdout",
     "output_type": "stream",
     "text": [
      "'rega_tarihi' cikariliyor... -> 'rega_tarihi'\n"
     ]
    },
    {
     "data": {
      "application/vnd.jupyter.widget-view+json": {
       "model_id": "221cd5ee0720497b9ab5ee55660dcf45",
       "version_major": 2,
       "version_minor": 0
      },
      "text/plain": [
       "  0%|          | 0/2509 [00:00<?, ?it/s]"
      ]
     },
     "metadata": {},
     "output_type": "display_data"
    },
    {
     "name": "stdout",
     "output_type": "stream",
     "text": [
      "'mevzuat_no' cikariliyor... -> 'mevzuat_no'\n"
     ]
    },
    {
     "data": {
      "application/vnd.jupyter.widget-view+json": {
       "model_id": "c73eea21beb74747a10b1753286e8602",
       "version_major": 2,
       "version_minor": 0
      },
      "text/plain": [
       "  0%|          | 0/1775 [00:00<?, ?it/s]"
      ]
     },
     "metadata": {},
     "output_type": "display_data"
    },
    {
     "name": "stdout",
     "output_type": "stream",
     "text": [
      "'mevzuat_tarihi' cikariliyor... -> 'mevzuat_tarihi'\n"
     ]
    },
    {
     "data": {
      "application/vnd.jupyter.widget-view+json": {
       "model_id": "78376acd434945ad93049f3ad52d338a",
       "version_major": 2,
       "version_minor": 0
      },
      "text/plain": [
       "  0%|          | 0/1900 [00:00<?, ?it/s]"
      ]
     },
     "metadata": {},
     "output_type": "display_data"
    },
    {
     "name": "stdout",
     "output_type": "stream",
     "text": [
      "'donem' cikariliyor... -> 'donem'\n"
     ]
    },
    {
     "data": {
      "application/vnd.jupyter.widget-view+json": {
       "model_id": "f560520633124b4a846b660b95f03702",
       "version_major": 2,
       "version_minor": 0
      },
      "text/plain": [
       "  0%|          | 0/496 [00:00<?, ?it/s]"
      ]
     },
     "metadata": {},
     "output_type": "display_data"
    }
   ],
   "source": [
    "submission_df = ah_model.run_pipeline(subm_null_df)"
   ]
  },
  {
   "cell_type": "code",
   "execution_count": 9,
   "id": "48f819db",
   "metadata": {
    "scrolled": true
   },
   "outputs": [
    {
     "data": {
      "text/html": [
       "<div>\n",
       "<style scoped>\n",
       "    .dataframe tbody tr th:only-of-type {\n",
       "        vertical-align: middle;\n",
       "    }\n",
       "\n",
       "    .dataframe tbody tr th {\n",
       "        vertical-align: top;\n",
       "    }\n",
       "\n",
       "    .dataframe thead th {\n",
       "        text-align: right;\n",
       "    }\n",
       "</style>\n",
       "<table border=\"1\" class=\"dataframe\">\n",
       "  <thead>\n",
       "    <tr style=\"text-align: right;\">\n",
       "      <th></th>\n",
       "      <th>id</th>\n",
       "      <th>kategori</th>\n",
       "      <th>baslik</th>\n",
       "      <th>rega_no</th>\n",
       "      <th>mukerrer_no</th>\n",
       "      <th>rega_tarihi</th>\n",
       "      <th>kurum</th>\n",
       "      <th>mevzuat_no</th>\n",
       "      <th>belge_sayi</th>\n",
       "      <th>mevzuat_tarihi</th>\n",
       "      <th>donem</th>\n",
       "      <th>sira_no</th>\n",
       "      <th>madde_sayisi</th>\n",
       "      <th>data_text</th>\n",
       "      <th>url</th>\n",
       "      <th>kanunum_url</th>\n",
       "    </tr>\n",
       "  </thead>\n",
       "  <tbody>\n",
       "    <tr>\n",
       "      <th>0</th>\n",
       "      <td>3</td>\n",
       "      <td>Kanun</td>\n",
       "      <td>BÜTÇE KANUNLARINDA YER ALAN BAZI HÜKÜMLERİN İL...</td>\n",
       "      <td>28350</td>\n",
       "      <td>0</td>\n",
       "      <td>2012-07-11</td>\n",
       "      <td>NaN</td>\n",
       "      <td>6338</td>\n",
       "      <td>NaN</td>\n",
       "      <td>2012-06-29</td>\n",
       "      <td>NaN</td>\n",
       "      <td>NaN</td>\n",
       "      <td>19</td>\n",
       "      <td>Resmî Gazete Tarihi: 11.07.2012 Resmî Gazete S...</td>\n",
       "      <td>https://www.resmigazete.gov.tr/eskiler/2012/07...</td>\n",
       "      <td>https://www.kanunum.com/content/344634</td>\n",
       "    </tr>\n",
       "    <tr>\n",
       "      <th>1</th>\n",
       "      <td>5</td>\n",
       "      <td>Kanun</td>\n",
       "      <td>SAĞLIK BAKANLIĞI VE BAĞLI KURULUŞLARININ TEŞKİ...</td>\n",
       "      <td>28886</td>\n",
       "      <td>0</td>\n",
       "      <td>2014-01-18</td>\n",
       "      <td>NaN</td>\n",
       "      <td>6514</td>\n",
       "      <td>NaN</td>\n",
       "      <td>2014-01-02</td>\n",
       "      <td>NaN</td>\n",
       "      <td>NaN</td>\n",
       "      <td>56</td>\n",
       "      <td>Resmî Gazete Tarihi: 18.01.2014 Resmî Gazete S...</td>\n",
       "      <td>https://www.resmigazete.gov.tr/eskiler/2014/01...</td>\n",
       "      <td>https://www.kanunum.com/content/942558</td>\n",
       "    </tr>\n",
       "    <tr>\n",
       "      <th>2</th>\n",
       "      <td>9</td>\n",
       "      <td>Kanun</td>\n",
       "      <td>İŞ KANUNU İLE BAZI KANUN VE KANUN HÜKMÜNDE KAR...</td>\n",
       "      <td>29116</td>\n",
       "      <td>1</td>\n",
       "      <td>2014-09-11</td>\n",
       "      <td>NaN</td>\n",
       "      <td>6552</td>\n",
       "      <td>NaN</td>\n",
       "      <td>2014-09-10</td>\n",
       "      <td>NaN</td>\n",
       "      <td>NaN</td>\n",
       "      <td>149</td>\n",
       "      <td>Resmî Gazete Tarihi: 11.09.2014 Resmî Gazete S...</td>\n",
       "      <td>https://www.mevzuat.gov.tr/mevzuat?MevzuatNo=6...</td>\n",
       "      <td>https://www.kanunum.com/content/1233870</td>\n",
       "    </tr>\n",
       "    <tr>\n",
       "      <th>3</th>\n",
       "      <td>14</td>\n",
       "      <td>Kanun</td>\n",
       "      <td>YÜKSEKÖĞRETİM KURUMLARI TEŞKİLATI KANUNU İLE  ...</td>\n",
       "      <td>29335</td>\n",
       "      <td>0</td>\n",
       "      <td>2015-04-23</td>\n",
       "      <td>NaN</td>\n",
       "      <td>6640</td>\n",
       "      <td>NaN</td>\n",
       "      <td>2015-03-31</td>\n",
       "      <td>NaN</td>\n",
       "      <td>NaN</td>\n",
       "      <td>16</td>\n",
       "      <td>Resmî Gazete Tarihi: 23.04.2015 Resmî Gazete S...</td>\n",
       "      <td>https://www.resmigazete.gov.tr/eskiler/2015/04...</td>\n",
       "      <td>https://www.kanunum.com/content/1495629</td>\n",
       "    </tr>\n",
       "    <tr>\n",
       "      <th>4</th>\n",
       "      <td>15</td>\n",
       "      <td>Kanun</td>\n",
       "      <td>ASKERLİK KANUNU VE BAZI KANUNLARDA DEĞİŞİKLİK ...</td>\n",
       "      <td>29606</td>\n",
       "      <td>0</td>\n",
       "      <td>2016-01-27</td>\n",
       "      <td>NaN</td>\n",
       "      <td>6661</td>\n",
       "      <td>NaN</td>\n",
       "      <td>2016-01-14</td>\n",
       "      <td>NaN</td>\n",
       "      <td>NaN</td>\n",
       "      <td>21</td>\n",
       "      <td>Resmî Gazete Tarihi: 27.01.2016 Resmî Gazete S...</td>\n",
       "      <td>https://www.resmigazete.gov.tr/eskiler/2016/01...</td>\n",
       "      <td>https://www.kanunum.com/content/2414283</td>\n",
       "    </tr>\n",
       "  </tbody>\n",
       "</table>\n",
       "</div>"
      ],
      "text/plain": [
       "   id kategori                                             baslik rega_no  \\\n",
       "0   3    Kanun  BÜTÇE KANUNLARINDA YER ALAN BAZI HÜKÜMLERİN İL...   28350   \n",
       "1   5    Kanun  SAĞLIK BAKANLIĞI VE BAĞLI KURULUŞLARININ TEŞKİ...   28886   \n",
       "2   9    Kanun  İŞ KANUNU İLE BAZI KANUN VE KANUN HÜKMÜNDE KAR...   29116   \n",
       "3  14    Kanun  YÜKSEKÖĞRETİM KURUMLARI TEŞKİLATI KANUNU İLE  ...   29335   \n",
       "4  15    Kanun  ASKERLİK KANUNU VE BAZI KANUNLARDA DEĞİŞİKLİK ...   29606   \n",
       "\n",
       "   mukerrer_no rega_tarihi kurum mevzuat_no belge_sayi mevzuat_tarihi donem  \\\n",
       "0            0  2012-07-11   NaN       6338        NaN     2012-06-29   NaN   \n",
       "1            0  2014-01-18   NaN       6514        NaN     2014-01-02   NaN   \n",
       "2            1  2014-09-11   NaN       6552        NaN     2014-09-10   NaN   \n",
       "3            0  2015-04-23   NaN       6640        NaN     2015-03-31   NaN   \n",
       "4            0  2016-01-27   NaN       6661        NaN     2016-01-14   NaN   \n",
       "\n",
       "  sira_no  madde_sayisi                                          data_text  \\\n",
       "0     NaN            19  Resmî Gazete Tarihi: 11.07.2012 Resmî Gazete S...   \n",
       "1     NaN            56  Resmî Gazete Tarihi: 18.01.2014 Resmî Gazete S...   \n",
       "2     NaN           149  Resmî Gazete Tarihi: 11.09.2014 Resmî Gazete S...   \n",
       "3     NaN            16  Resmî Gazete Tarihi: 23.04.2015 Resmî Gazete S...   \n",
       "4     NaN            21  Resmî Gazete Tarihi: 27.01.2016 Resmî Gazete S...   \n",
       "\n",
       "                                                 url  \\\n",
       "0  https://www.resmigazete.gov.tr/eskiler/2012/07...   \n",
       "1  https://www.resmigazete.gov.tr/eskiler/2014/01...   \n",
       "2  https://www.mevzuat.gov.tr/mevzuat?MevzuatNo=6...   \n",
       "3  https://www.resmigazete.gov.tr/eskiler/2015/04...   \n",
       "4  https://www.resmigazete.gov.tr/eskiler/2016/01...   \n",
       "\n",
       "                               kanunum_url  \n",
       "0   https://www.kanunum.com/content/344634  \n",
       "1   https://www.kanunum.com/content/942558  \n",
       "2  https://www.kanunum.com/content/1233870  \n",
       "3  https://www.kanunum.com/content/1495629  \n",
       "4  https://www.kanunum.com/content/2414283  "
      ]
     },
     "execution_count": 9,
     "metadata": {},
     "output_type": "execute_result"
    }
   ],
   "source": [
    "submission_df.head()"
   ]
  },
  {
   "cell_type": "code",
   "execution_count": 10,
   "id": "b775c122",
   "metadata": {
    "scrolled": true
   },
   "outputs": [
    {
     "data": {
      "text/html": [
       "<div>\n",
       "<style scoped>\n",
       "    .dataframe tbody tr th:only-of-type {\n",
       "        vertical-align: middle;\n",
       "    }\n",
       "\n",
       "    .dataframe tbody tr th {\n",
       "        vertical-align: top;\n",
       "    }\n",
       "\n",
       "    .dataframe thead th {\n",
       "        text-align: right;\n",
       "    }\n",
       "</style>\n",
       "<table border=\"1\" class=\"dataframe\">\n",
       "  <thead>\n",
       "    <tr style=\"text-align: right;\">\n",
       "      <th></th>\n",
       "      <th>id</th>\n",
       "      <th>kategori</th>\n",
       "      <th>baslik</th>\n",
       "      <th>rega_no</th>\n",
       "      <th>mukerrer_no</th>\n",
       "      <th>rega_tarihi</th>\n",
       "      <th>kurum</th>\n",
       "      <th>mevzuat_no</th>\n",
       "      <th>belge_sayi</th>\n",
       "      <th>mevzuat_tarihi</th>\n",
       "      <th>donem</th>\n",
       "      <th>sira_no</th>\n",
       "      <th>madde_sayisi</th>\n",
       "      <th>data_text</th>\n",
       "      <th>url</th>\n",
       "      <th>kanunum_url</th>\n",
       "    </tr>\n",
       "  </thead>\n",
       "  <tbody>\n",
       "    <tr>\n",
       "      <th>0</th>\n",
       "      <td>3</td>\n",
       "      <td>Kanun</td>\n",
       "      <td>BÜTÇE KANUNLARINDA YER ALAN BAZI HÜKÜMLERİN İL...</td>\n",
       "      <td>28350</td>\n",
       "      <td>0.0</td>\n",
       "      <td>2012-07-11</td>\n",
       "      <td>NaN</td>\n",
       "      <td>6338</td>\n",
       "      <td>NaN</td>\n",
       "      <td>2012-06-29</td>\n",
       "      <td>NaN</td>\n",
       "      <td>NaN</td>\n",
       "      <td>19</td>\n",
       "      <td>Resmî Gazete Tarihi: 11.07.2012 Resmî Gazete S...</td>\n",
       "      <td>https://www.resmigazete.gov.tr/eskiler/2012/07...</td>\n",
       "      <td>https://www.kanunum.com/content/344634</td>\n",
       "    </tr>\n",
       "    <tr>\n",
       "      <th>1</th>\n",
       "      <td>5</td>\n",
       "      <td>Kanun</td>\n",
       "      <td>SAĞLIK BAKANLIĞI VE BAĞLI KURULUŞLARININ TEŞKİ...</td>\n",
       "      <td>28886</td>\n",
       "      <td>0.0</td>\n",
       "      <td>2014-01-18</td>\n",
       "      <td>NaN</td>\n",
       "      <td>6514</td>\n",
       "      <td>NaN</td>\n",
       "      <td>2014-01-02</td>\n",
       "      <td>NaN</td>\n",
       "      <td>NaN</td>\n",
       "      <td>56</td>\n",
       "      <td>Resmî Gazete Tarihi: 18.01.2014 Resmî Gazete S...</td>\n",
       "      <td>https://www.resmigazete.gov.tr/eskiler/2014/01...</td>\n",
       "      <td>https://www.kanunum.com/content/942558</td>\n",
       "    </tr>\n",
       "    <tr>\n",
       "      <th>2</th>\n",
       "      <td>9</td>\n",
       "      <td>Kanun</td>\n",
       "      <td>İŞ KANUNU İLE BAZI KANUN VE KANUN HÜKMÜNDE KAR...</td>\n",
       "      <td>29116</td>\n",
       "      <td>1.0</td>\n",
       "      <td>2014-09-11</td>\n",
       "      <td>NaN</td>\n",
       "      <td>6552</td>\n",
       "      <td>NaN</td>\n",
       "      <td>2014-09-10</td>\n",
       "      <td>NaN</td>\n",
       "      <td>NaN</td>\n",
       "      <td>149</td>\n",
       "      <td>Resmî Gazete Tarihi: 11.09.2014 Resmî Gazete S...</td>\n",
       "      <td>https://www.mevzuat.gov.tr/mevzuat?MevzuatNo=6...</td>\n",
       "      <td>https://www.kanunum.com/content/1233870</td>\n",
       "    </tr>\n",
       "    <tr>\n",
       "      <th>3</th>\n",
       "      <td>14</td>\n",
       "      <td>Kanun</td>\n",
       "      <td>YÜKSEKÖĞRETİM KURUMLARI TEŞKİLATI KANUNU İLE  ...</td>\n",
       "      <td>29335</td>\n",
       "      <td>0.0</td>\n",
       "      <td>2015-04-23</td>\n",
       "      <td>NaN</td>\n",
       "      <td>6640</td>\n",
       "      <td>NaN</td>\n",
       "      <td>2015-03-31</td>\n",
       "      <td>NaN</td>\n",
       "      <td>NaN</td>\n",
       "      <td>11</td>\n",
       "      <td>Resmî Gazete Tarihi: 23.04.2015 Resmî Gazete S...</td>\n",
       "      <td>https://www.resmigazete.gov.tr/eskiler/2015/04...</td>\n",
       "      <td>https://www.kanunum.com/content/1495629</td>\n",
       "    </tr>\n",
       "    <tr>\n",
       "      <th>4</th>\n",
       "      <td>15</td>\n",
       "      <td>Kanun</td>\n",
       "      <td>ASKERLİK KANUNU VE BAZI KANUNLARDA DEĞİŞİKLİK ...</td>\n",
       "      <td>29606</td>\n",
       "      <td>0.0</td>\n",
       "      <td>2016-01-27</td>\n",
       "      <td>NaN</td>\n",
       "      <td>6661</td>\n",
       "      <td>NaN</td>\n",
       "      <td>2016-01-14</td>\n",
       "      <td>NaN</td>\n",
       "      <td>NaN</td>\n",
       "      <td>21</td>\n",
       "      <td>Resmî Gazete Tarihi: 27.01.2016 Resmî Gazete S...</td>\n",
       "      <td>https://www.resmigazete.gov.tr/eskiler/2016/01...</td>\n",
       "      <td>https://www.kanunum.com/content/2414283</td>\n",
       "    </tr>\n",
       "  </tbody>\n",
       "</table>\n",
       "</div>"
      ],
      "text/plain": [
       "   id kategori                                             baslik rega_no  \\\n",
       "0   3    Kanun  BÜTÇE KANUNLARINDA YER ALAN BAZI HÜKÜMLERİN İL...   28350   \n",
       "1   5    Kanun  SAĞLIK BAKANLIĞI VE BAĞLI KURULUŞLARININ TEŞKİ...   28886   \n",
       "2   9    Kanun  İŞ KANUNU İLE BAZI KANUN VE KANUN HÜKMÜNDE KAR...   29116   \n",
       "3  14    Kanun  YÜKSEKÖĞRETİM KURUMLARI TEŞKİLATI KANUNU İLE  ...   29335   \n",
       "4  15    Kanun  ASKERLİK KANUNU VE BAZI KANUNLARDA DEĞİŞİKLİK ...   29606   \n",
       "\n",
       "   mukerrer_no rega_tarihi kurum mevzuat_no belge_sayi mevzuat_tarihi donem  \\\n",
       "0          0.0  2012-07-11   NaN       6338        NaN     2012-06-29   NaN   \n",
       "1          0.0  2014-01-18   NaN       6514        NaN     2014-01-02   NaN   \n",
       "2          1.0  2014-09-11   NaN       6552        NaN     2014-09-10   NaN   \n",
       "3          0.0  2015-04-23   NaN       6640        NaN     2015-03-31   NaN   \n",
       "4          0.0  2016-01-27   NaN       6661        NaN     2016-01-14   NaN   \n",
       "\n",
       "  sira_no  madde_sayisi                                          data_text  \\\n",
       "0     NaN            19  Resmî Gazete Tarihi: 11.07.2012 Resmî Gazete S...   \n",
       "1     NaN            56  Resmî Gazete Tarihi: 18.01.2014 Resmî Gazete S...   \n",
       "2     NaN           149  Resmî Gazete Tarihi: 11.09.2014 Resmî Gazete S...   \n",
       "3     NaN            11  Resmî Gazete Tarihi: 23.04.2015 Resmî Gazete S...   \n",
       "4     NaN            21  Resmî Gazete Tarihi: 27.01.2016 Resmî Gazete S...   \n",
       "\n",
       "                                                 url  \\\n",
       "0  https://www.resmigazete.gov.tr/eskiler/2012/07...   \n",
       "1  https://www.resmigazete.gov.tr/eskiler/2014/01...   \n",
       "2  https://www.mevzuat.gov.tr/mevzuat?MevzuatNo=6...   \n",
       "3  https://www.resmigazete.gov.tr/eskiler/2015/04...   \n",
       "4  https://www.resmigazete.gov.tr/eskiler/2016/01...   \n",
       "\n",
       "                               kanunum_url  \n",
       "0   https://www.kanunum.com/content/344634  \n",
       "1   https://www.kanunum.com/content/942558  \n",
       "2  https://www.kanunum.com/content/1233870  \n",
       "3  https://www.kanunum.com/content/1495629  \n",
       "4  https://www.kanunum.com/content/2414283  "
      ]
     },
     "execution_count": 10,
     "metadata": {},
     "output_type": "execute_result"
    }
   ],
   "source": [
    "df.head()"
   ]
  },
  {
   "cell_type": "code",
   "execution_count": 13,
   "id": "82950965",
   "metadata": {},
   "outputs": [
    {
     "name": "stdout",
     "output_type": "stream",
     "text": [
      "Score for 'rega_no': 0.9830999517141478\n",
      "Score for 'sira_no': 0.990584258812168\n",
      "Score for 'mukerrer_no': 0.9693384838242395\n",
      "Score for 'donem': 0.9616127474649928\n",
      "Score for 'kategori': 0.9739256397875422\n",
      "Score for 'rega_tarihi': 0.9524384355383873\n",
      "Score for 'mevzuat_no': 0.9683727667793337\n",
      "Score for 'belge_sayi': 0.990584258812168\n",
      "Score for 'mevzuat_tarihi': 0.9589570255915016\n",
      "Score for 'madde_sayisi': 0.9954128440366973\n"
     ]
    }
   ],
   "source": [
    "submission_df[\"exact_match\"] = 1\n",
    "\n",
    "for comparison_col in comparison_cols:\n",
    "#     if comparison_col in [\"donem\"]:\n",
    "#         continue\n",
    "    # Mevzuat specific evaluation rule\n",
    "    if comparison_col in [\"mevzuat_no\", \"mevzuat_tarihi\"]:\n",
    "        submission_df.loc[submission_df.kategori == \"Yönetmelik\", comparison_col] = \"devre_disi\"\n",
    "        df.loc[df.kategori == \"Yönetmelik\", comparison_col] = \"devre_disi\"\n",
    "    \n",
    "    # Madde sayisi specific evaluation rule\n",
    "    if comparison_col == \"madde_sayisi\":\n",
    "        col_success = (abs(submission_df[comparison_col].fillna(0) - df[comparison_col].fillna(0))<2).astype(int)\n",
    "    else:\n",
    "        col_success = (submission_df[comparison_col].fillna(-1111) == df[comparison_col].fillna(-1111)).astype(int)\n",
    "    \n",
    "    print(f\"Score for '{comparison_col}': {col_success.mean()}\")\n",
    "    submission_df[\"exact_match\"] *= col_success"
   ]
  },
  {
   "cell_type": "code",
   "execution_count": 14,
   "id": "980d44ed",
   "metadata": {},
   "outputs": [
    {
     "data": {
      "text/plain": [
       "0.831723804925157"
      ]
     },
     "execution_count": 14,
     "metadata": {},
     "output_type": "execute_result"
    }
   ],
   "source": [
    "submission_df[\"exact_match\"].mean()"
   ]
  },
  {
   "cell_type": "code",
   "execution_count": null,
   "id": "05396f09",
   "metadata": {},
   "outputs": [],
   "source": []
  }
 ],
 "metadata": {
  "kernelspec": {
   "display_name": "Python 3 (ipykernel)",
   "language": "python",
   "name": "python3"
  },
  "language_info": {
   "codemirror_mode": {
    "name": "ipython",
    "version": 3
   },
   "file_extension": ".py",
   "mimetype": "text/x-python",
   "name": "python",
   "nbconvert_exporter": "python",
   "pygments_lexer": "ipython3",
   "version": "3.8.12"
  }
 },
 "nbformat": 4,
 "nbformat_minor": 5
}
