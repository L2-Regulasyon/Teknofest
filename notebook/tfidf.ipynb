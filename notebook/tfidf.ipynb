{
  "nbformat": 4,
  "nbformat_minor": 0,
  "metadata": {
    "colab": {
      "name": "tfidf.ipynb",
      "provenance": [],
      "collapsed_sections": []
    },
    "kernelspec": {
      "name": "python3",
      "display_name": "Python 3"
    },
    "language_info": {
      "name": "python"
    },
    "accelerator": "GPU",
    "gpuClass": "standard"
  },
  "cells": [
    {
      "cell_type": "code",
      "source": [
        "import sys\n",
        "!{sys.executable} --version\n",
        "!pip list | grep pickle"
      ],
      "metadata": {
        "id": "ToHdK7GFPGwA"
      },
      "execution_count": null,
      "outputs": []
    },
    {
      "cell_type": "code",
      "source": [
        "%pip install catboost"
      ],
      "metadata": {
        "id": "miYV3x4pIx2f"
      },
      "execution_count": null,
      "outputs": []
    },
    {
      "cell_type": "code",
      "source": [
        "import pickle\n",
        "import pathlib\n",
        "from pathlib import Path\n",
        "\n",
        "import numpy as np\n",
        "import pandas as pd\n",
        "\n",
        "from sklearn.model_selection import train_test_split, StratifiedKFold\n",
        "from sklearn.feature_extraction.text import TfidfVectorizer\n",
        "\n",
        "from catboost import Pool, CatBoostClassifier\n",
        "\n",
        "#%load_ext lab_black\n",
        "\n",
        "pd.options.display.max_colwidth = 250\n",
        "pd.options.display.max_columns = 250"
      ],
      "metadata": {
        "id": "Nn3_MaqzwlPt"
      },
      "execution_count": 1,
      "outputs": []
    },
    {
      "cell_type": "code",
      "source": [
        "from google.colab import drive\n",
        "\n",
        "drive.mount('/content/drive')\n",
        "\n",
        "DATA_DIR = Path(\"data\")\n",
        "DATA_DIR.mkdir(exist_ok=True)\n",
        "(DATA_DIR / \"raw\").mkdir(exist_ok=True)\n",
        "\n",
        "!cp drive/MyDrive/comp_data/openhack/kanunum-nlp-doc-analysis-dataset.csv data/raw"
      ],
      "metadata": {
        "colab": {
          "base_uri": "https://localhost:8080/"
        },
        "id": "IYF7EguhwZix",
        "outputId": "ef8adc5c-29fe-4ff6-9aa3-a9030a3821fd"
      },
      "execution_count": 2,
      "outputs": [
        {
          "output_type": "stream",
          "name": "stdout",
          "text": [
            "Drive already mounted at /content/drive; to attempt to forcibly remount, call drive.mount(\"/content/drive\", force_remount=True).\n"
          ]
        }
      ]
    },
    {
      "cell_type": "code",
      "source": [
        "df = pd.read_csv(Path(DATA_DIR) / \"raw\" / \"kanunum-nlp-doc-analysis-dataset.csv\")"
      ],
      "metadata": {
        "id": "W8L_L_Vix6s2"
      },
      "execution_count": 4,
      "outputs": []
    },
    {
      "cell_type": "code",
      "source": [
        "LABEL = \"kategori\"\n",
        "TEXT_FIELD = \"data_text\"\n",
        "N_SPLITS = 5\n",
        "RANDOM_STATE = 42\n",
        "OOF = True\n",
        "\n",
        "cv = StratifiedKFold(n_splits=N_SPLITS, shuffle=True, random_state=RANDOM_STATE)\n",
        "\n",
        "model_signature = CatBoostClassifier\n",
        "model_params = dict(auto_class_weights=\"Balanced\",  task_type=\"GPU\", iterations=10)\n",
        "fit_params = dict(verbose=100)\n",
        "tfidf_kwargs = dict(sublinear_tf=True, \n",
        "                    min_df=5,\n",
        "                    ngram_range=(1, 1)\n",
        "                    )\n",
        "\n",
        "oof = []\n",
        "\n",
        "for fold_idx, (train_indices, test_indices) in enumerate(cv.split(df.index, df[LABEL])):\n",
        "    model = model_signature(**model_params)\n",
        "    tfidf = TfidfVectorizer(**tfidf_kwargs\n",
        "                            )\n",
        "  \n",
        "    tfidf.fit(df.loc[train_indices, TEXT_FIELD])\n",
        "\n",
        "    fit_params_ = fit_params.copy()\n",
        "    eval_set = Pool(tfidf.transform(df.loc[test_indices, TEXT_FIELD]).toarray(),\n",
        "                    df.loc[test_indices, LABEL]\n",
        "                    )\n",
        "\n",
        "    model.fit(tfidf.transform(df.loc[train_indices, TEXT_FIELD]).toarray(),\n",
        "              df.loc[train_indices, LABEL],\n",
        "              eval_set=eval_set,\n",
        "              **fit_params)\n",
        "    \n",
        "    if OOF:\n",
        "      oof.append(df.loc[test_indices, LABEL].to_frame(\"actual\").assign(prediction=model.predict(eval_set),\n",
        "                                                                        prediction_proba=pd.DataFrame(model.predict_proba(eval_set), columns=model.classes_)\\\n",
        "                                                                                                    .reset_index()\\\n",
        "                                                                                                    .melt(id_vars=[\"index\"], var_name=\"class\", value_name=\"probability\")\\\n",
        "                                                                                                    .assign(probability_rank=lambda df: df.groupby(\"index\")[\"probability\"].rank(method=\"dense\"))\\\n",
        "                                                                                                    .query(\"probability_rank == 1\")\\\n",
        "                                                                                                    .sort_values(\"index\")[\"probability\"])\n",
        "                )\n",
        "    \n",
        "if OOF:\n",
        "    oof = pd.concat(oof)"
      ],
      "metadata": {
        "id": "zhaVD7xG_uui"
      },
      "execution_count": 40,
      "outputs": []
    },
    {
      "cell_type": "code",
      "source": [
        "print('\\t\\t\\t\\tCLASSIFICATIION METRICS\\n')\n",
        "print(metrics.classification_report(oof[\"actual\"], oof[\"prediction\"], \n",
        "                                    #target_names= df['kategori'].unique())\n",
        "))"
      ],
      "metadata": {
        "id": "EMmSSdq3PIBL"
      },
      "execution_count": null,
      "outputs": []
    },
    {
      "cell_type": "code",
      "source": [
        "def train_fn(df, \n",
        "             test_ratio=0.25, \n",
        "             artifacts_dir=Path(\"artifacts\")\n",
        "             ):\n",
        "  \n",
        "    LABEL = \"kategori\"\n",
        "    TEXT_FIELD = \"data_text\"\n",
        "\n",
        "    assert TEXT_FIELD in df.columns and LABEL in df.columns\n",
        "\n",
        "    artifacts_dir.mkdir(exist_ok=True)\n",
        "\n",
        "    train_indices, test_indices = train_test_split(df.index, stratify=df[LABEL], test_size=0.25)\n",
        "\n",
        "    model_signature = CatBoostClassifier\n",
        "    model_params = dict(auto_class_weights=\"Balanced\",  task_type=\"GPU\", iterations=10)\n",
        "    fit_params = dict(verbose=100)\n",
        "    tfidf_kwargs = dict(sublinear_tf=True, \n",
        "                        min_df=5,\n",
        "                        ngram_range=(1, 1)\n",
        "                        )\n",
        "    \n",
        "    model = model_signature(**model_params)\n",
        "    tfidf = TfidfVectorizer(**tfidf_kwargs\n",
        "                            )\n",
        "  \n",
        "    tfidf.fit(df.loc[train_indices, TEXT_FIELD])\n",
        "\n",
        "    fit_params_ = fit_params.copy()\n",
        "    eval_set = Pool(tfidf.transform(df.loc[test_indices, TEXT_FIELD]).toarray(),\n",
        "                    df.loc[test_indices, LABEL]\n",
        "                    )\n",
        "\n",
        "    model.fit(tfidf.transform(df.loc[train_indices, TEXT_FIELD]).toarray(),\n",
        "              df.loc[train_indices, LABEL],\n",
        "              eval_set=eval_set,\n",
        "              **fit_params)\n",
        "    \n",
        "    pickle.dump(tfidf, open(artifacts_dir / 'tfidf.pickle', 'wb'))\n",
        "    model.save_model(artifacts_dir / \"model.cbm\")\n",
        "\n",
        "    return model\n",
        "\n",
        "def predict_fn(df, artifacts_dir=Path(\"artifacts\")):\n",
        "    LABEL = \"kategori\"\n",
        "    TEXT_FIELD = \"data_text\"\n",
        "    \n",
        "    assert TEXT_FIELD in df.columns\n",
        "\n",
        "    tfidf = pickle.load(open(artifacts_dir / 'tfidf.pickle', 'rb'))\n",
        "\n",
        "    model = CatBoostClassifier()\n",
        "    model = model.load_model(artifacts_dir / \"model.cbm\")\n",
        "\n",
        "    return model.predict(tfidf.transform(df.loc[:, TEXT_FIELD]).toarray()).ravel()"
      ],
      "metadata": {
        "id": "Fmm7bOMxLoiD"
      },
      "execution_count": 108,
      "outputs": []
    },
    {
      "cell_type": "code",
      "source": [
        ""
      ],
      "metadata": {
        "id": "olbQn6xy0Zd-"
      },
      "execution_count": null,
      "outputs": []
    }
  ]
}