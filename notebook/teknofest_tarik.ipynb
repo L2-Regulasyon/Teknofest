{
 "cells": [
  {
   "cell_type": "code",
   "execution_count": 220,
   "id": "90b47fb7",
   "metadata": {},
   "outputs": [],
   "source": [
    "import pandas as pd\n",
    "import numpy as np\n",
    "from tqdm import tqdm\n",
    "import re\n",
    "import unidecode\n",
    "tqdm.pandas()\n",
    "pd.set_option('display.max_rows', 500)\n",
    "pd.set_option('display.max_columns', 500)\n",
    "\n",
    "import warnings\n",
    "warnings.filterwarnings(\"ignore\") "
   ]
  },
  {
   "cell_type": "markdown",
   "id": "dcb9fa41",
   "metadata": {},
   "source": [
    "| Kategori                                                               | İçerik Sayısı     | Hedef Değişkenler                                                                                            |\n",
    "| :-------                                                               | :------------     | :---------------------------                                                                                              |\n",
    "| [Kanun](#kategori-kanun)                                               | 514               | `kategori`, `rega_no`, `mukerrer_no`, `rega_tarihi`, `mevzuat_no`,`mevzuat_tarihi`, `madde_sayisi`\n",
    "| [Kanun Hükmünde Kararname](#kategori-kanun-hükmünde-kararname-khk)     | 91                | `kategori`, `rega_no`, `mukerrer_no`, `rega_tarihi`, `mevzuat_no`, `mevzuat_tarihi`, `madde_sayisi`\n",
    "| [Resmi Gazete](#kategori-resmi-gazete)                                 | 546               | `kategori`, `rega_no`, `mukerrer_no`, `rega_tarihi`\n",
    "|\n",
    "| [Komisyon Raporu](#kategori-komisyon-raporu)                           | 500               | `kategori`, `donem` ve `sira_no`                                                                       |\n",
    "| [Genelge](#kategori-genelge)                                           | 385               | `kategori`, `mevzuat_tarihi` ve varsa `mevzuat_no` yoksa `belge_sayi` \n",
    "| [Cumhurbaşkanlığı Kararnamesi](#kategori-cumhurbaşkanlığı-kararnamesi) | 54                | `kategori`, `rega_no`, `mukerrer_no`, `rega_tarihi`, `mevzuat_no`, `madde_sayisi` ve varsa ` mevzuat_tarihi`\n",
    "| [Tüzük](#kategori-tüzük)                                               | 82                |  `kategori`, `rega_no`, `mukerrer_no`, `rega_tarihi`, `mevzuat_no`, `mevzuat_tarihi`, `madde_sayisi`\n",
    "| [Yönetmelik](#kategori-yönetmelik)                                     | 597               | `kategori`, `rega_no`, `mukerrer_no`, `rega_tarihi`, `kurum`, `madde_sayisi`       |\n",
    "| [Tebliğ](#kategori-tebliğ)                                             | 623               | `kategori`, `rega_no`, `mukerrer_no`, `rega_tarihi`, `kurum` \n",
    "| [Özelge](#kategori-özelge)                                             | 750               | `kategori`, `mevzuat_tarihi`"
   ]
  },
  {
   "cell_type": "code",
   "execution_count": 221,
   "id": "4212bc4a",
   "metadata": {},
   "outputs": [],
   "source": [
    "df=pd.read_csv(r'kanunum-nlp-doc-analysis-dataset.csv')"
   ]
  },
  {
   "cell_type": "code",
   "execution_count": 222,
   "id": "c396619a",
   "metadata": {},
   "outputs": [],
   "source": [
    "kanun=df[df.kategori=='Kanun']\n",
    "khk=df[df.kategori=='Kanun Hükmünde Kararname']\n",
    "resmi_gazete=df[df.kategori=='Resmi Gazete']\n",
    "genelge=df[df.kategori=='Genelge']\n",
    "c_kararname=df[df.kategori=='Genelge']\n",
    "tüzük=df[df.kategori=='Tüzük']\n",
    "yönetmelik=df[df.kategori=='Yönetmelik']\n",
    "teblig=df[df.kategori=='Tebliğ']\n",
    "ozelge=df[df.kategori=='Özelge']"
   ]
  },
  {
   "cell_type": "code",
   "execution_count": 223,
   "id": "a2d0e725",
   "metadata": {},
   "outputs": [],
   "source": [
    "#def find_date_kanun(text,date_type):\n",
    "#    if date_type=='rega':\n",
    "#        match=re.findall(r'\\d{2}.\\d{2}.\\d{4}', text)[0]\n",
    "#        if len(match)==0:\n",
    "#            match=pd.to_datetime(re.findall(r'\\d{1}.\\d{1}.\\d{4}', text)[0])\n",
    "#        match=pd.to_datetime(match)\n",
    "#        #kanun['data_text'][0].partition(\"Resmî Gazete Tarihi: \")[2].split('Resmî Gazete Sayısı:')[0]\n",
    "#        #date = datetime.strptime(match[0], '%d.%m.%Y').date()\n",
    "#    elif date_type=='mevzuat':\n",
    "#        match=re.findall(r'\\d{2}.\\d{2}.\\d{4}', text)[1]\n",
    "#        if len(match)==0:\n",
    "#            match=pd.to_datetime(re.findall(r'\\d{1}.\\d{1}.\\d{4}', text)[1])\n",
    "#        match=pd.to_datetime(match)\n",
    "#        #date = datetime.strptime(match[1], '%d/%m/%Y').date()\n",
    "#    return(match)"
   ]
  },
  {
   "cell_type": "markdown",
   "id": "394ccbdd",
   "metadata": {},
   "source": [
    "### UTILS"
   ]
  },
  {
   "cell_type": "code",
   "execution_count": 257,
   "id": "3693a315",
   "metadata": {},
   "outputs": [],
   "source": [
    "def find_dates(text,date_type,kategori):\n",
    "    std_txt=unidecode.unidecode(text).lower()\n",
    "    if kategori=='kanun':\n",
    "        if date_type=='rega':\n",
    "            match=std_txt.split(\"resmi gazete tarihi: \",1)[1].split('resmi gazete sayisi:',1)[0]\n",
    "        elif date_type=='mevzuat':\n",
    "            match=std_txt.split(\"resmi gazete tarihi: \",1)[1].split('resmi gazete sayisi:',1)[1].split('kabul tarihi : ')[1].split('\\n')[0]\n",
    "    elif kategori=='khk':\n",
    "        if date_type=='rega':\n",
    "            match=std_txt.split(\"resmi gazete tarihi: \",1)[1].split('resmi gazete sayisi:',1)[0]\n",
    "        elif date_type=='mevzuat':\n",
    "            match=std_txt.split(\"resmi gazete tarihi: \",1)[1].split('resmi gazete sayisi:',1)[1].split('kararnamenin tarihi : ')[1].split('\\n')[0]\n",
    "    elif kategori=='genelge':\n",
    "        if date_type=='mevzuat':\n",
    "            match=std_txt.split(\"tarih \",1)[1].split('\\n')[0]\n",
    "    return match"
   ]
  },
  {
   "cell_type": "markdown",
   "id": "cd4eaba1",
   "metadata": {},
   "source": [
    "### KANUN"
   ]
  },
  {
   "cell_type": "code",
   "execution_count": 227,
   "id": "867cd4de",
   "metadata": {},
   "outputs": [
    {
     "name": "stderr",
     "output_type": "stream",
     "text": [
      "100%|██████████████████████████████████████████████████████████████████| 514/514 [00:03<00:00, 157.92it/s]\n",
      "100%|██████████████████████████████████████████████████████████████████| 514/514 [00:03<00:00, 155.48it/s]\n"
     ]
    }
   ],
   "source": [
    "kanun['rega_date_val']=kanun['data_text'].progress_apply(lambda x : find_dates(x,'rega','kanun'))\n",
    "kanun['mevzuat_date_val']=kanun['data_text'].progress_apply(lambda x : find_dates(x,'mevzuat','kanun'))"
   ]
  },
  {
   "cell_type": "code",
   "execution_count": 228,
   "id": "2762e7c7",
   "metadata": {},
   "outputs": [],
   "source": [
    "kanun['mevzuat_date_val']=pd.to_datetime(kanun['mevzuat_date_val'],dayfirst=True)\n",
    "kanun['rega_date_val']=pd.to_datetime(kanun['rega_date_val'],dayfirst=True)"
   ]
  },
  {
   "cell_type": "code",
   "execution_count": 229,
   "id": "e9faca61",
   "metadata": {},
   "outputs": [
    {
     "name": "stdout",
     "output_type": "stream",
     "text": [
      "True    514\n",
      "dtype: int64\n",
      "True    514\n",
      "dtype: int64\n"
     ]
    }
   ],
   "source": [
    "print((kanun['mevzuat_date_val']==kanun['mevzuat_tarihi']).value_counts())\n",
    "print((kanun['rega_date_val']==kanun['rega_tarihi']).value_counts())"
   ]
  },
  {
   "cell_type": "markdown",
   "id": "e164685a",
   "metadata": {},
   "source": [
    "### KHK"
   ]
  },
  {
   "cell_type": "code",
   "execution_count": 230,
   "id": "db14e2a9",
   "metadata": {},
   "outputs": [
    {
     "name": "stderr",
     "output_type": "stream",
     "text": [
      "100%|████████████████████████████████████████████████████████████████████| 91/91 [00:00<00:00, 282.62it/s]\n",
      "100%|████████████████████████████████████████████████████████████████████| 91/91 [00:00<00:00, 283.51it/s]\n"
     ]
    }
   ],
   "source": [
    "khk['rega_date_val']=khk['data_text'].progress_apply(lambda x : find_dates(x,'rega','khk'))\n",
    "khk['mevzuat_date_val']=khk['data_text'].progress_apply(lambda x : find_dates(x,'mevzuat','khk'))"
   ]
  },
  {
   "cell_type": "code",
   "execution_count": 231,
   "id": "d48468c6",
   "metadata": {},
   "outputs": [],
   "source": [
    "khk['mevzuat_date_val']=pd.to_datetime(khk['mevzuat_date_val'],dayfirst=True)\n",
    "khk['rega_date_val']=pd.to_datetime(khk['rega_date_val'],dayfirst=True)"
   ]
  },
  {
   "cell_type": "code",
   "execution_count": 232,
   "id": "040382a6",
   "metadata": {},
   "outputs": [
    {
     "name": "stdout",
     "output_type": "stream",
     "text": [
      "True    91\n",
      "dtype: int64\n",
      "True    91\n",
      "dtype: int64\n"
     ]
    }
   ],
   "source": [
    "print((khk['mevzuat_date_val']==khk['mevzuat_tarihi']).value_counts())\n",
    "print((khk['rega_date_val']==khk['rega_tarihi']).value_counts())"
   ]
  },
  {
   "cell_type": "markdown",
   "id": "2c522e08",
   "metadata": {},
   "source": [
    "### Resmi Gazete"
   ]
  },
  {
   "cell_type": "code",
   "execution_count": 233,
   "id": "9b3224cb",
   "metadata": {},
   "outputs": [],
   "source": [
    "#resmi_gazete['rega_date_val']=khk['data_text'].progress_apply(lambda x : find_dates(x,'rega','khk'))\n",
    "#resmi_gazete['mevzuat_date_val']=khk['data_text'].progress_apply(lambda x : find_dates(x,'mevzuat','khk'))"
   ]
  },
  {
   "cell_type": "markdown",
   "id": "47c5b7b5",
   "metadata": {},
   "source": [
    "### Genelge"
   ]
  },
  {
   "cell_type": "code",
   "execution_count": 248,
   "id": "f734fbaa",
   "metadata": {},
   "outputs": [
    {
     "data": {
      "text/plain": [
       "\"veraset ve intikal vergisi kanunu ic genelgesi seri no: 1997/1\\n\\ntarih 17/01/1997\\n\\nsayi b.07.0.gel.0.60/6012-1430/2042\\n\\nkapsam \\n\\nt.c.\\n\\nmaliye bakanligi\\n\\ngelirler genel mudurlugu\\n\\nsayi : b.07.0.gel.0.60/6012-1430\\n\\nkonu :veraset ve intikal vergisi kanunu ic genelgesi\\n\\nseri no: 1997/1\\n.......................valiligine (defterdarlik: gelir mudurlugu)\\n\\nbilindigi uzere, 7338 sayili veraset ve intikal vergisi kanununun 10 uncu maddesinin (b) bendinde, gayrimenkullerin ticari isletmeye dahil olsun veya olmasin emlak vergisine esas olan degerle degerlenecegi hukme baglanmis, ancak yapi kooperatifi hissesinin ne sekilde degerlenecegi hususunda bir hukme yer verilmemistir. vergi usul kanununun servetleri degerleme baslikli ucuncu bolumunde yer alan 291 inci maddesinde bir vergiye matrah olan servetin veya servet unsurlarinin degerlemesinde bu bolumde yazili esaslarin cari olacagi belirtilmekte, ayni kanunun 74 uncu maddesinde ise takdir komisyonlarinin gorevleri arasinda, yetkili makamlar tarafindan istenilen matrah ve servet takdirleri ile vergi kanunlarinda yazili fiyat, ucret veya sair matrah ve kiymetleri takdir etmek de yer almaktadir.\\n\\nbu hukumlerden hareketle, bugune kadar veraset ve intikal vergisi matrahina dahil olan kooperatif hisselerinin degeri, takdir komisyonlarinca, vergi usul kanununun servetleri degerleme bolumundeki esaslar dahilinde takdir edilmek suretiyle belirlenmekteydi.\\n\\nancak, son yillarda mukelleflerin basvurulari uzerine, danistay'dan, yapi kooperatifindeki hissenin gayrimenkul olarak tapuya tescil edilmediginden bu hissenin alacak mahiyetinde oldugu ve 213 sayili vergi usul kanununun 281 inci maddesine gore mukayyet degeri ile degerlendirilmesi gerektigi yolunda kararlar cikmaktadir.\\n\\ndanistay kararlari devamlilik arz ettiginden, uygulamada birligin saglanmasi ve takdir komisyonlarindaki is yukunun azaltilmasi bakimindan, veraset ve intikal vergisi matrahina kooperatif hissesinin dahil olmasi halinde bu hissenin alacak olarak kabul edilerek 213 sayili vergi usul kanununun 281 inci maddesine gore mukayyet degeri (olum tarihine kadar odenen aidatlar toplami) ile degerlendirilmesi uygun gorulmustur.\\n\\ndiger taraftan, mukelleflerce intikal tarihinden sonra kooperatif baskanligindan alinan ve intikale konu hisseye isabet eden tutari gosteren yazinin beyannameye eklenmesi halinde bu tutar veraset ve intikal vergisi matrahinin hesabinda dikkate alinacaktir.\\n\\nbilgi edinilmesi ve gereginin buna gore yapilmasi ile bu gibi olaylar nedeniyle yaratilmis ihtilaflardan vazgecilmesini rica ederim.\\n\\nbakan a.\""
      ]
     },
     "execution_count": 248,
     "metadata": {},
     "output_type": "execute_result"
    }
   ],
   "source": [
    "unidecode.unidecode(genelge.data_text[990]).lower()"
   ]
  },
  {
   "cell_type": "code",
   "execution_count": 214,
   "id": "48669069",
   "metadata": {},
   "outputs": [
    {
     "data": {
      "text/plain": [
       "(385, 16)"
      ]
     },
     "execution_count": 214,
     "metadata": {},
     "output_type": "execute_result"
    }
   ],
   "source": [
    "genelge.shape"
   ]
  },
  {
   "cell_type": "code",
   "execution_count": 284,
   "id": "3c2b8e28",
   "metadata": {},
   "outputs": [
    {
     "data": {
      "text/plain": [
       "(328, 16)"
      ]
     },
     "execution_count": 284,
     "metadata": {},
     "output_type": "execute_result"
    }
   ],
   "source": [
    "genelge[genelge.data_text.str.contains('tarih')].shape"
   ]
  },
  {
   "cell_type": "code",
   "execution_count": 326,
   "id": "740efce9",
   "metadata": {},
   "outputs": [],
   "source": [
    "#for i in range(0,len(genelge)):\n",
    "#    print(genelge.data_text[i].split(\"Tarih \",1)[1].split('\\n')[0])"
   ]
  },
  {
   "cell_type": "code",
   "execution_count": 327,
   "id": "fa43464f",
   "metadata": {},
   "outputs": [],
   "source": [
    "#genelge.data_text[5].split(\"Tarih \",1)[1].split('\\n')[0]"
   ]
  },
  {
   "cell_type": "code",
   "execution_count": 328,
   "id": "5a3a64c6",
   "metadata": {},
   "outputs": [],
   "source": [
    "#genelge['mevzuat_date_val']=khk['data_text'].progress_apply(lambda x : find_dates(x,'mevzuat','genelge'))"
   ]
  },
  {
   "cell_type": "code",
   "execution_count": 269,
   "id": "2869c936",
   "metadata": {},
   "outputs": [],
   "source": [
    "genelge.reset_index(drop=True,inplace=True)"
   ]
  },
  {
   "cell_type": "code",
   "execution_count": 280,
   "id": "d0ba7a2c",
   "metadata": {},
   "outputs": [
    {
     "data": {
      "text/plain": [
       "'01/11/2000'"
      ]
     },
     "execution_count": 280,
     "metadata": {},
     "output_type": "execute_result"
    }
   ],
   "source": [
    "genelge.data_text[15].split(\"Tarih \",1)[1].split('\\n')[0]"
   ]
  },
  {
   "cell_type": "code",
   "execution_count": null,
   "id": "b94e4031",
   "metadata": {},
   "outputs": [],
   "source": []
  }
 ],
 "metadata": {
  "kernelspec": {
   "display_name": "Python 3 (ipykernel)",
   "language": "python",
   "name": "python3"
  },
  "language_info": {
   "codemirror_mode": {
    "name": "ipython",
    "version": 3
   },
   "file_extension": ".py",
   "mimetype": "text/x-python",
   "name": "python",
   "nbconvert_exporter": "python",
   "pygments_lexer": "ipython3",
   "version": "3.9.12"
  }
 },
 "nbformat": 4,
 "nbformat_minor": 5
}
