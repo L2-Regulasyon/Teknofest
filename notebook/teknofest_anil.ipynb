{
 "cells": [
  {
   "cell_type": "code",
   "execution_count": 1,
   "id": "d0b1afb5-06a4-4f6f-ad34-7bdb1d8239bd",
   "metadata": {},
   "outputs": [],
   "source": [
    "%load_ext autoreload\n",
    "%autoreload 2"
   ]
  },
  {
   "cell_type": "code",
   "execution_count": 2,
   "id": "d68fcf47",
   "metadata": {},
   "outputs": [],
   "source": [
    "import sys\n",
    "sys.path.append('../src')"
   ]
  },
  {
   "cell_type": "code",
   "execution_count": 3,
   "id": "d5b48b18",
   "metadata": {},
   "outputs": [],
   "source": [
    "from pathlib import Path\n",
    "import unidecode\n",
    "import pandas as pd\n",
    "\n",
    "import numpy as np\n",
    "import re\n",
    "from tqdm.notebook import tqdm\n",
    "tqdm.pandas()\n",
    "\n",
    "from utils import BelgeSayisiExtractor, MaddeSayisiExtractor, MevzuatNoExtractor\n",
    "from eval_utils import filter_dataframe, show_false_predictions, calculate_accuracy\n",
    "import constants"
   ]
  },
  {
   "cell_type": "code",
   "execution_count": 4,
   "id": "26f3677e-b895-49eb-8e81-bcbcb9323760",
   "metadata": {},
   "outputs": [],
   "source": [
    "pd.options.display.max_columns = 20\n",
    "pd.options.display.max_colwidth = 250"
   ]
  },
  {
   "cell_type": "code",
   "execution_count": 5,
   "id": "34108494-9e5f-4845-8efe-c1a95db7be0e",
   "metadata": {},
   "outputs": [],
   "source": [
    "df = pd.read_csv(\"../data/kanunum-nlp-doc-analysis-dataset.csv\")"
   ]
  },
  {
   "cell_type": "code",
   "execution_count": 6,
   "id": "49c09557-08c3-4da7-aa64-52222906e72b",
   "metadata": {},
   "outputs": [
    {
     "data": {
      "text/plain": [
       "(4142, 16)"
      ]
     },
     "execution_count": 6,
     "metadata": {},
     "output_type": "execute_result"
    }
   ],
   "source": [
    "df.shape"
   ]
  },
  {
   "cell_type": "markdown",
   "id": "29dc8fc5-7c43-4f7b-9668-14f0b32938cb",
   "metadata": {},
   "source": [
    "### Alanlar\n",
    "- **id**                    : İçerik kimliği\n",
    "- **kategori**              : İçerik Türü/Kategorisi\n",
    "- **baslik**                : İçerik Başlığı\n",
    "- **rega_no**               : İçeriğin yayınlandığı Resmi Gazete Sayısı\n",
    "- **mukerrer_no**           : İçeriğin yayınlandığı Resmi Gazete Mükerrer Numarası (0 ise mükerrer olmadığını belirtir)\n",
    "- **rega_tarihi**           : İçeriğin yayınlandığı Resmi Gazete Tarihi (`date:yyyy-mm-dd` formatında)\n",
    "- **kurum**                 : İçeriği(Genelge, Cumhurbaşkanlığı(CB) Kararnamesi, Tüzük, Yönetmelik, Tebliğ) çıkaran kurum adı\n",
    "- **mevzuat_no**            : İçeriğin ilgili numarası (Detaylar için ilgili kategoriye bakınız) \n",
    "- **belge_sayi**            : Genelge üzerindeki Sayı ifadesinin değeri (sadece işlenebilenler)\n",
    "- **mevzuat_tarihi**        : İçeriğin ilgili Tarihi (`date:yyyy-mm-dd` formatında)\n",
    "- **donem**                 : Komisyon Raporunun dönemini (örn: \"27. Dönem\")\n",
    "- **sira_no**               : Komisyon Raporunun Sıra Sayısı (örn: \"230\", \"42 ek 1\" vb.)\n",
    "- **madde_sayisi**          : İçeriğin(Kanun, KHK, CB Kararnamesi, Tüzük, Yönetmelik) bölümlerini (Madde sayısını ve işlenemeyen hükümleri/maddeleri, _madde metinlerinin_ içindeki \"Madde <sayi> - ...\" ifadeleri hariç )\n",
    "- **data_text**             : İçerik metni (Büyük/Küçük Harf, Noktalama ve \"\\n\" içermektedir)\n",
    "- **url**                   : İçerik metninin esas alındığı websayfasının linki (kaynak linkler güncel olmayabilir)\n",
    "- **kanunum_url**           : İçeriğin Kanunum linki\n",
    "\n",
    "**İçerik Başlıkları**, Kanun, Resmi Gazete, Kanun Hükmünde Kararname, Cumhurbaşkanlığı Kararnamesi, Tebliğ, Yönetmelik ve Tebliğ için içeriğin adı olan başlık kullanılırken Komisyon Raporu, Genelge ve Özelgelerde tanımlayıcı olmak üzere işelenerek üretilmiş bir başlık tercih edilmiştir.\n",
    "\n",
    "**Kurum Adı**, Kanunum veritabanına işlenmiş hali ile kullanılmaktadır. Örneğin; Üniversite Yönetmeliklerinde kurum adı ayrı ayrı üniversite adı kullanmak yerine tek bir ad (\"Üniversite\") olarak işlenmiştir. Kurum tespiti yapılırken Bakanlık isimlerinin değişmiş olabileceği ayrıca dikkate alınmalıdır."
   ]
  },
  {
   "cell_type": "markdown",
   "id": "e6536b91-dd41-4463-9bbb-4dd7a080bf3f",
   "metadata": {},
   "source": [
    "## Kategoriler\n",
    " Kanun, Resmi Gazete, Kanun Hükmünde Kararname, Cumhurbaşkanlığı Kararnamesi, Genelge, Tebliğ, Yönetmelik, Komisyon Raporu, Tüzük ve Özelge olmak üzere toplam 10 kategori bulunmaktadır.\n",
    "\n",
    "Tüm içerikler için `kategori`, `baslik`, `data_text`, `url`, `kanunum_url` alanları sunulmuş olup `url` alanı içerik metninin esas alındığı sayfa linkini belirtmektedir. Diğer dikkate alınacak alanlar aşağıdaki gibi olup detaylar alt başlıklarda verilmiştir.\n",
    "\n",
    "\n",
    "| Kategori                                                               | İçerik Sayısı     | İlgili alanlar (Üst Veriler)                                                                                              |\n",
    "| :-------                                                               | :------------     | :---------------------------                                                                                              |\n",
    "| [Kanun](#kategori-kanun)                                               | 514               | kategori, baslik, rega_no, mukerrer_no, rega_tarihi, mevzuat_no, mevzuat_tarihi, madde_sayisi, data_text, url             |\n",
    "| [Kanun Hükmünde Kararname](#kategori-kanun-hükmünde-kararname-khk)     | 91                | kategori, baslik, rega_no, mukerrer_no, rega_tarihi, mevzuat_no, mevzuat_tarihi, madde_sayisi, data_text, url             |\n",
    "| [Resmi Gazete](#kategori-resmi-gazete)                                 | 546               | kategori, baslik, rega_no, mukerrer_no, rega_tarihi, data_text, url                                                       |\n",
    "| [Komisyon Raporu](#kategori-komisyon-raporu)                           | 500               | kategori, baslik, donem, sira_no, data_text, url                                                                          |\n",
    "| [Genelge](#kategori-genelge)                                           | 385               | kategori, baslik, kurum, mevzuat_no, belge_sayi, mevzuat_tarihi, data_text, url                                           |\n",
    "| [Cumhurbaşkanlığı Kararnamesi](#kategori-cumhurbaşkanlığı-kararnamesi) | 54                | kategori, baslik, rega_no, mukerrer_no, rega_tarihi, kurum, mevzuat_no, mevzuat_tarihi, madde_sayisi, data_text, url      |\n",
    "| [Tüzük](#kategori-tüzük)                                               | 82                | kategori, baslik, rega_no, mukerrer_no, rega_tarihi, kurum, mevzuat_no, mevzuat_tarihi, madde_sayisi, data_text, url      |\n",
    "| [Yönetmelik](#kategori-yönetmelik)                                     | 597               | kategori, baslik, rega_no, mukerrer_no, rega_tarihi, kurum, mevzuat_no, mevzuat_tarihi, madde_sayisi, data_text, url      |\n",
    "| [Tebliğ](#kategori-tebliğ)                                             | 623               | kategori, baslik, rega_no, mukerrer_no, rega_tarihi, kurum, data_text, url                                                |\n",
    "| [Özelge](#kategori-özelge)                                             | 750               | kategori, baslik, kurum, mevzuat_tarihi, data_text, url M"
   ]
  },
  {
   "cell_type": "markdown",
   "id": "c1be0114",
   "metadata": {},
   "source": [
    "### BELGE SAYISI"
   ]
  },
  {
   "cell_type": "code",
   "execution_count": 7,
   "id": "13b3881c",
   "metadata": {},
   "outputs": [],
   "source": [
    "belge_sayisi_extractor = BelgeSayisiExtractor()"
   ]
  },
  {
   "cell_type": "code",
   "execution_count": 8,
   "id": "813e0e18",
   "metadata": {},
   "outputs": [
    {
     "name": "stdout",
     "output_type": "stream",
     "text": [
      "'belge_sayi' cikariliyor... -> 'belge_sayi_pred'\n"
     ]
    },
    {
     "data": {
      "application/vnd.jupyter.widget-view+json": {
       "model_id": "5514509b00ee44a8848d78b36622219e",
       "version_major": 2,
       "version_minor": 0
      },
      "text/plain": [
       "  0%|          | 0/385 [00:00<?, ?it/s]"
      ]
     },
     "metadata": {},
     "output_type": "display_data"
    }
   ],
   "source": [
    "belge_sayisi_extractor.extract(df)"
   ]
  },
  {
   "cell_type": "code",
   "execution_count": 9,
   "id": "21aa0caf",
   "metadata": {},
   "outputs": [
    {
     "name": "stdout",
     "output_type": "stream",
     "text": [
      "Veri Sayisi: 385\n",
      "Dogru Tahmin Sayisi: 86\n",
      "Yanlis Tahmin Sayisi: 299\n",
      "Basari Orani: 0.2234\n"
     ]
    }
   ],
   "source": [
    "# Çok fazla NaN etiket var\n",
    "calculate_accuracy(input_df=df,\n",
    "                   feature_extractor=belge_sayisi_extractor,\n",
    "                   include_na=True)"
   ]
  },
  {
   "cell_type": "code",
   "execution_count": 10,
   "id": "272dc527",
   "metadata": {},
   "outputs": [
    {
     "name": "stdout",
     "output_type": "stream",
     "text": [
      "Veri Sayisi: 43\n",
      "Dogru Tahmin Sayisi: 43\n",
      "Yanlis Tahmin Sayisi: 0\n",
      "Basari Orani: 1.0\n"
     ]
    }
   ],
   "source": [
    "# NaN olmayan etiketlerde %100 başarı\n",
    "calculate_accuracy(input_df=df,\n",
    "                   feature_extractor=belge_sayisi_extractor,\n",
    "                   include_na=False)"
   ]
  },
  {
   "cell_type": "code",
   "execution_count": 11,
   "id": "388469c9",
   "metadata": {
    "scrolled": true
   },
   "outputs": [
    {
     "data": {
      "text/html": [
       "<div>\n",
       "<style scoped>\n",
       "    .dataframe tbody tr th:only-of-type {\n",
       "        vertical-align: middle;\n",
       "    }\n",
       "\n",
       "    .dataframe tbody tr th {\n",
       "        vertical-align: top;\n",
       "    }\n",
       "\n",
       "    .dataframe thead th {\n",
       "        text-align: right;\n",
       "    }\n",
       "</style>\n",
       "<table border=\"1\" class=\"dataframe\">\n",
       "  <thead>\n",
       "    <tr style=\"text-align: right;\">\n",
       "      <th></th>\n",
       "      <th>belge_sayi</th>\n",
       "      <th>belge_sayi_pred</th>\n",
       "      <th>baslik</th>\n",
       "      <th>url</th>\n",
       "      <th>kategori</th>\n",
       "      <th>data_text</th>\n",
       "    </tr>\n",
       "  </thead>\n",
       "  <tbody>\n",
       "    <tr>\n",
       "      <th>917</th>\n",
       "      <td>undefined</td>\n",
       "      <td>B.07.0.GEL.0.44/4412-17-047504</td>\n",
       "      <td>GELİR İDARESİ BAŞKANLIĞI, GELİR VERGİSİ KANUNU İÇ GENELGESİ SIRA NO:1998/5</td>\n",
       "      <td>http://www.gib.gov.tr/node/89371</td>\n",
       "      <td>Genelge</td>\n",
       "      <td>GELİR VERGİSİ KANUNU İÇ GENELGESİ SIRA NO:1998/47504\\n\\nTarih 15/12/1998\\n\\nSayı B.07.0.GEL.0.44/4412-17-047504\\n\\nKapsam \\n\\nT.C\\n\\nMALIYE BAKANLIĞI\\n\\nGelirler Genel Müdürlüğü\\n\\nSAYI : B.07.0.GEL.0.44/4412-17-047504 \\n\\nKONU:GELİR VERGİSİ KANU...</td>\n",
       "    </tr>\n",
       "    <tr>\n",
       "      <th>918</th>\n",
       "      <td>undefined</td>\n",
       "      <td>B.07.0.GEL.0.71/7100-89 - 009461</td>\n",
       "      <td>GELİR İDARESİ BAŞKANLIĞI, VERGİ BARIŞI KANUNU UYGULAMA İÇ GENELGESİ SERİ NO: 2003/2</td>\n",
       "      <td>http://www.gib.gov.tr/node/89248</td>\n",
       "      <td>Genelge</td>\n",
       "      <td>VERGİ BARIŞI KANUNU UYGULAMA İÇ GENELGESİ SERİ NO: 2003/2\\n\\nTarih 08/03/2003\\n\\nSayı B.07.0.GEL.0.71/7100-89 - 009461\\n\\nKapsam \\n\\nT.C.\\n\\nMALİYE BAKANLIĞI\\n\\nGelirler Genel Müdürlüğü\\n\\nSAYI : B.07.0.GEL.0.71/7100-89\\n\\nTARİH : 08.03.2003\\n\\nU...</td>\n",
       "    </tr>\n",
       "  </tbody>\n",
       "</table>\n",
       "</div>"
      ],
      "text/plain": [
       "    belge_sayi                   belge_sayi_pred  \\\n",
       "917  undefined    B.07.0.GEL.0.44/4412-17-047504   \n",
       "918  undefined  B.07.0.GEL.0.71/7100-89 - 009461   \n",
       "\n",
       "                                                                                  baslik  \\\n",
       "917           GELİR İDARESİ BAŞKANLIĞI, GELİR VERGİSİ KANUNU İÇ GENELGESİ SIRA NO:1998/5   \n",
       "918  GELİR İDARESİ BAŞKANLIĞI, VERGİ BARIŞI KANUNU UYGULAMA İÇ GENELGESİ SERİ NO: 2003/2   \n",
       "\n",
       "                                  url kategori  \\\n",
       "917  http://www.gib.gov.tr/node/89371  Genelge   \n",
       "918  http://www.gib.gov.tr/node/89248  Genelge   \n",
       "\n",
       "                                                                                                                                                                                                                                                     data_text  \n",
       "917  GELİR VERGİSİ KANUNU İÇ GENELGESİ SIRA NO:1998/47504\\n\\nTarih 15/12/1998\\n\\nSayı B.07.0.GEL.0.44/4412-17-047504\\n\\nKapsam \\n\\nT.C\\n\\nMALIYE BAKANLIĞI\\n\\nGelirler Genel Müdürlüğü\\n\\nSAYI : B.07.0.GEL.0.44/4412-17-047504 \\n\\nKONU:GELİR VERGİSİ KANU...  \n",
       "918  VERGİ BARIŞI KANUNU UYGULAMA İÇ GENELGESİ SERİ NO: 2003/2\\n\\nTarih 08/03/2003\\n\\nSayı B.07.0.GEL.0.71/7100-89 - 009461\\n\\nKapsam \\n\\nT.C.\\n\\nMALİYE BAKANLIĞI\\n\\nGelirler Genel Müdürlüğü\\n\\nSAYI : B.07.0.GEL.0.71/7100-89\\n\\nTARİH : 08.03.2003\\n\\nU...  "
      ]
     },
     "execution_count": 11,
     "metadata": {},
     "output_type": "execute_result"
    }
   ],
   "source": [
    "show_false_predictions(input_df=df,\n",
    "                       feature_extractor=belge_sayisi_extractor,\n",
    "                       cols=[\"baslik\", \"url\", \"kategori\", \"data_text\"],\n",
    "                       include_na=True,\n",
    "                       first_n=2)"
   ]
  },
  {
   "cell_type": "markdown",
   "id": "db74b67f",
   "metadata": {},
   "source": [
    "### MADDE SAYISI"
   ]
  },
  {
   "cell_type": "code",
   "execution_count": 12,
   "id": "2e9f640d",
   "metadata": {},
   "outputs": [],
   "source": [
    "madde_sayisi_extractor = MaddeSayisiExtractor()"
   ]
  },
  {
   "cell_type": "code",
   "execution_count": 13,
   "id": "5cef55fe",
   "metadata": {},
   "outputs": [
    {
     "name": "stdout",
     "output_type": "stream",
     "text": [
      "'madde_sayisi' cikariliyor... -> 'madde_sayisi_pred'\n"
     ]
    },
    {
     "data": {
      "application/vnd.jupyter.widget-view+json": {
       "model_id": "dbe0efb68d2f4c0fbbc6e4de3b3e9f34",
       "version_major": 2,
       "version_minor": 0
      },
      "text/plain": [
       "  0%|          | 0/1338 [00:00<?, ?it/s]"
      ]
     },
     "metadata": {},
     "output_type": "display_data"
    },
    {
     "name": "stderr",
     "output_type": "stream",
     "text": [
      "/home/nlztrk/Teknofest/notebook/../src/utils.py:81: FutureWarning: Possible nested set at position 23\n",
      "  ek_gecici_madde_list = [regfound for regfound in re.findall(ek_gecici_madde_regexp, std_txt)]\n"
     ]
    }
   ],
   "source": [
    "madde_sayisi_extractor.extract(df)"
   ]
  },
  {
   "cell_type": "code",
   "execution_count": 14,
   "id": "a2a26866",
   "metadata": {},
   "outputs": [
    {
     "name": "stdout",
     "output_type": "stream",
     "text": [
      "Veri Sayisi: 1338\n",
      "Dogru Tahmin Sayisi: 1319\n",
      "Yanlis Tahmin Sayisi: 19\n",
      "Basari Orani: 0.9858\n"
     ]
    }
   ],
   "source": [
    "calculate_accuracy(input_df=df,\n",
    "                   feature_extractor=madde_sayisi_extractor,\n",
    "                   include_na=False)"
   ]
  },
  {
   "cell_type": "code",
   "execution_count": 15,
   "id": "e04e8389",
   "metadata": {},
   "outputs": [
    {
     "data": {
      "text/html": [
       "<div>\n",
       "<style scoped>\n",
       "    .dataframe tbody tr th:only-of-type {\n",
       "        vertical-align: middle;\n",
       "    }\n",
       "\n",
       "    .dataframe tbody tr th {\n",
       "        vertical-align: top;\n",
       "    }\n",
       "\n",
       "    .dataframe thead th {\n",
       "        text-align: right;\n",
       "    }\n",
       "</style>\n",
       "<table border=\"1\" class=\"dataframe\">\n",
       "  <thead>\n",
       "    <tr style=\"text-align: right;\">\n",
       "      <th></th>\n",
       "      <th>madde_sayisi</th>\n",
       "      <th>madde_sayisi_pred</th>\n",
       "      <th>baslik</th>\n",
       "      <th>url</th>\n",
       "      <th>kategori</th>\n",
       "      <th>data_text</th>\n",
       "    </tr>\n",
       "  </thead>\n",
       "  <tbody>\n",
       "    <tr>\n",
       "      <th>0</th>\n",
       "      <td>19</td>\n",
       "      <td>20</td>\n",
       "      <td>BÜTÇE KANUNLARINDA YER ALAN BAZI HÜKÜMLERİN İLGİLİ KANUN VE  KANUN HÜKMÜNDE KARARNAMELERE EKLENMESİNE  DAİR KANUN</td>\n",
       "      <td>https://www.resmigazete.gov.tr/eskiler/2012/07/20120711-1.htm</td>\n",
       "      <td>Kanun</td>\n",
       "      <td>Resmî Gazete Tarihi: 11.07.2012 Resmî Gazete Sayısı: 28350\\nKanun No. 6338 Kabul Tarihi : 29/06/2012\\nBÜTÇE KANUNLARINDA YER ALAN BAZI HÜKÜMLERİN İLGİLİ KANUN VE KANUN HÜKMÜNDE KARARNAMELERE EKLENMESİNE DAİR KANUN\\n\\nMadde 1 – 5/1/1961 tarihli ve...</td>\n",
       "    </tr>\n",
       "    <tr>\n",
       "      <th>39</th>\n",
       "      <td>44</td>\n",
       "      <td>45</td>\n",
       "      <td>AMME ALACAKLARININ TAHSİL USULÜ HAKKINDA KANUN İLE BAZI KANUNLARDA DEĞİŞİKLİK YAPILMASINA DAİR KANUN</td>\n",
       "      <td>https://www.mevzuat.gov.tr/mevzuat?MevzuatNo=6322&amp;MevzuatTur=1&amp;MevzuatTertip=5</td>\n",
       "      <td>Kanun</td>\n",
       "      <td>Resmî Gazete Tarihi: 15.06.2012 Resmî Gazete Sayısı: 28324\\nKanun No. 6322 Kabul Tarihi : 31/05/2012\\nAMME ALACAKLARININ TAHSİL USULÜ HAKKINDA KANUN İLE BAZI KANUNLARDA DEĞİŞİKLİK YAPILMASINA DAİR KANUN\\n\\nMadde 1 – 21/7/1953 tarihli ve6183 sayıl...</td>\n",
       "    </tr>\n",
       "  </tbody>\n",
       "</table>\n",
       "</div>"
      ],
      "text/plain": [
       "    madde_sayisi madde_sayisi_pred  \\\n",
       "0             19                20   \n",
       "39            44                45   \n",
       "\n",
       "                                                                                                               baslik  \\\n",
       "0   BÜTÇE KANUNLARINDA YER ALAN BAZI HÜKÜMLERİN İLGİLİ KANUN VE  KANUN HÜKMÜNDE KARARNAMELERE EKLENMESİNE  DAİR KANUN   \n",
       "39               AMME ALACAKLARININ TAHSİL USULÜ HAKKINDA KANUN İLE BAZI KANUNLARDA DEĞİŞİKLİK YAPILMASINA DAİR KANUN   \n",
       "\n",
       "                                                                               url  \\\n",
       "0                    https://www.resmigazete.gov.tr/eskiler/2012/07/20120711-1.htm   \n",
       "39  https://www.mevzuat.gov.tr/mevzuat?MevzuatNo=6322&MevzuatTur=1&MevzuatTertip=5   \n",
       "\n",
       "   kategori  \\\n",
       "0     Kanun   \n",
       "39    Kanun   \n",
       "\n",
       "                                                                                                                                                                                                                                                    data_text  \n",
       "0   Resmî Gazete Tarihi: 11.07.2012 Resmî Gazete Sayısı: 28350\\nKanun No. 6338 Kabul Tarihi : 29/06/2012\\nBÜTÇE KANUNLARINDA YER ALAN BAZI HÜKÜMLERİN İLGİLİ KANUN VE KANUN HÜKMÜNDE KARARNAMELERE EKLENMESİNE DAİR KANUN\\n\\nMadde 1 – 5/1/1961 tarihli ve...  \n",
       "39  Resmî Gazete Tarihi: 15.06.2012 Resmî Gazete Sayısı: 28324\\nKanun No. 6322 Kabul Tarihi : 31/05/2012\\nAMME ALACAKLARININ TAHSİL USULÜ HAKKINDA KANUN İLE BAZI KANUNLARDA DEĞİŞİKLİK YAPILMASINA DAİR KANUN\\n\\nMadde 1 – 21/7/1953 tarihli ve6183 sayıl...  "
      ]
     },
     "execution_count": 15,
     "metadata": {},
     "output_type": "execute_result"
    }
   ],
   "source": [
    "show_false_predictions(input_df=df,\n",
    "                       feature_extractor=madde_sayisi_extractor,\n",
    "                       cols=[\"baslik\", \"url\", \"kategori\", \"data_text\"],\n",
    "                       include_na=False,\n",
    "                       first_n=2)"
   ]
  },
  {
   "cell_type": "markdown",
   "id": "24119920",
   "metadata": {},
   "source": [
    "### MEVZUAT NO"
   ]
  },
  {
   "cell_type": "code",
   "execution_count": 16,
   "id": "cb4ee10c",
   "metadata": {
    "scrolled": true
   },
   "outputs": [],
   "source": [
    "mevzuat_no_extractor = MevzuatNoExtractor()"
   ]
  },
  {
   "cell_type": "code",
   "execution_count": 17,
   "id": "3bfe4af7",
   "metadata": {},
   "outputs": [
    {
     "name": "stdout",
     "output_type": "stream",
     "text": [
      "'mevzuat_no' cikariliyor... -> 'mevzuat_no_pred'\n"
     ]
    },
    {
     "data": {
      "application/vnd.jupyter.widget-view+json": {
       "model_id": "2436da9ad2fe460eaaf7430e2dcb78e2",
       "version_major": 2,
       "version_minor": 0
      },
      "text/plain": [
       "  0%|          | 0/1723 [00:00<?, ?it/s]"
      ]
     },
     "metadata": {},
     "output_type": "display_data"
    }
   ],
   "source": [
    "mevzuat_no_extractor.extract(df)"
   ]
  },
  {
   "cell_type": "code",
   "execution_count": 18,
   "id": "f737fc57",
   "metadata": {},
   "outputs": [
    {
     "name": "stdout",
     "output_type": "stream",
     "text": [
      "Veri Sayisi: 1091\n",
      "Dogru Tahmin Sayisi: 1073\n",
      "Yanlis Tahmin Sayisi: 18\n",
      "Basari Orani: 0.9835\n"
     ]
    }
   ],
   "source": [
    "calculate_accuracy(input_df=df,\n",
    "                   feature_extractor=mevzuat_no_extractor,\n",
    "                   include_na=False)"
   ]
  },
  {
   "cell_type": "code",
   "execution_count": 19,
   "id": "134f26c7",
   "metadata": {
    "scrolled": true
   },
   "outputs": [
    {
     "data": {
      "text/html": [
       "<div>\n",
       "<style scoped>\n",
       "    .dataframe tbody tr th:only-of-type {\n",
       "        vertical-align: middle;\n",
       "    }\n",
       "\n",
       "    .dataframe tbody tr th {\n",
       "        vertical-align: top;\n",
       "    }\n",
       "\n",
       "    .dataframe thead th {\n",
       "        text-align: right;\n",
       "    }\n",
       "</style>\n",
       "<table border=\"1\" class=\"dataframe\">\n",
       "  <thead>\n",
       "    <tr style=\"text-align: right;\">\n",
       "      <th></th>\n",
       "      <th>mevzuat_no</th>\n",
       "      <th>mevzuat_no_pred</th>\n",
       "      <th>baslik</th>\n",
       "      <th>url</th>\n",
       "      <th>kategori</th>\n",
       "      <th>data_text</th>\n",
       "    </tr>\n",
       "  </thead>\n",
       "  <tbody>\n",
       "    <tr>\n",
       "      <th>1015</th>\n",
       "      <td>2007/ 1</td>\n",
       "      <td>2007/1</td>\n",
       "      <td>GELİR İDARESİ BAŞKANLIĞI, VERGİ KİMLİK NUMARASI İÇ GENELGESİ SERİ NO: 2007/ 1</td>\n",
       "      <td>http://www.gib.gov.tr/node/89380</td>\n",
       "      <td>Genelge</td>\n",
       "      <td>VERGİ KİMLİK NUMARASI İÇ GENELGESİ SERİ NO: 2007/ 1\\n\\nTarih 06/07/2007\\n\\nSayı B.07.1.GİB.0.05.70/7033-158-60338\\n\\nKapsam \\n\\nT.C.\\n\\nMALİYE BAKANLIĞI\\n\\nGelir İdaresi BaşkanlığI\\n\\nSayı: B.07.1.GİB.0.05.70/7033-158-60338\\n\\nVERGİ KİMLİK NUMARA...</td>\n",
       "    </tr>\n",
       "    <tr>\n",
       "      <th>1016</th>\n",
       "      <td>2006/ 1</td>\n",
       "      <td>2006/1</td>\n",
       "      <td>GELİR İDARESİ BAŞKANLIĞI, VERGİ KİMLİK NUMARASI İÇ GENELGESİ SERİ NO: 2006/ 1</td>\n",
       "      <td>http://www.gib.gov.tr/node/89369</td>\n",
       "      <td>Genelge</td>\n",
       "      <td>VERGİ KİMLİK NUMARASI İÇ GENELGESİ SERİ NO: 2006/ 1\\n\\nTarih 31/10/2006\\n\\nSayı B.07.1.GİB.0.05.70/7033-158-84223\\n\\nKapsam \\n\\nT.C.\\n\\nMALİYE BAKANLIĞI\\n\\nGelir İdaresi Başkanlığı\\n\\nSayı : B.07.1.GİB.0.05.70/7033-158-84223\\n\\nVERGİ KİMLİK NUMAR...</td>\n",
       "    </tr>\n",
       "  </tbody>\n",
       "</table>\n",
       "</div>"
      ],
      "text/plain": [
       "     mevzuat_no mevzuat_no_pred  \\\n",
       "1015    2007/ 1          2007/1   \n",
       "1016    2006/ 1          2006/1   \n",
       "\n",
       "                                                                             baslik  \\\n",
       "1015  GELİR İDARESİ BAŞKANLIĞI, VERGİ KİMLİK NUMARASI İÇ GENELGESİ SERİ NO: 2007/ 1   \n",
       "1016  GELİR İDARESİ BAŞKANLIĞI, VERGİ KİMLİK NUMARASI İÇ GENELGESİ SERİ NO: 2006/ 1   \n",
       "\n",
       "                                   url kategori  \\\n",
       "1015  http://www.gib.gov.tr/node/89380  Genelge   \n",
       "1016  http://www.gib.gov.tr/node/89369  Genelge   \n",
       "\n",
       "                                                                                                                                                                                                                                                      data_text  \n",
       "1015  VERGİ KİMLİK NUMARASI İÇ GENELGESİ SERİ NO: 2007/ 1\\n\\nTarih 06/07/2007\\n\\nSayı B.07.1.GİB.0.05.70/7033-158-60338\\n\\nKapsam \\n\\nT.C.\\n\\nMALİYE BAKANLIĞI\\n\\nGelir İdaresi BaşkanlığI\\n\\nSayı: B.07.1.GİB.0.05.70/7033-158-60338\\n\\nVERGİ KİMLİK NUMARA...  \n",
       "1016  VERGİ KİMLİK NUMARASI İÇ GENELGESİ SERİ NO: 2006/ 1\\n\\nTarih 31/10/2006\\n\\nSayı B.07.1.GİB.0.05.70/7033-158-84223\\n\\nKapsam \\n\\nT.C.\\n\\nMALİYE BAKANLIĞI\\n\\nGelir İdaresi Başkanlığı\\n\\nSayı : B.07.1.GİB.0.05.70/7033-158-84223\\n\\nVERGİ KİMLİK NUMAR...  "
      ]
     },
     "execution_count": 19,
     "metadata": {},
     "output_type": "execute_result"
    }
   ],
   "source": [
    "show_false_predictions(input_df=df,\n",
    "                       feature_extractor=mevzuat_no_extractor,\n",
    "                       cols=[\"baslik\", \"url\", \"kategori\", \"data_text\"],\n",
    "                       include_na=False,\n",
    "                       first_n=2)"
   ]
  },
  {
   "cell_type": "code",
   "execution_count": 20,
   "id": "1ffe4a6c",
   "metadata": {},
   "outputs": [
    {
     "data": {
      "text/plain": [
       "['Kanun',\n",
       " 'Kanun Hükmünde Kararname',\n",
       " 'Genelge',\n",
       " 'Cumhurbaşkanlığı Kararnamesi',\n",
       " 'Tüzük',\n",
       " 'Yönetmelik']"
      ]
     },
     "execution_count": 20,
     "metadata": {},
     "output_type": "execute_result"
    }
   ],
   "source": [
    "constants.COLS_MEVZUAT_NO"
   ]
  },
  {
   "cell_type": "code",
   "execution_count": 21,
   "id": "b82dc4e9",
   "metadata": {
    "scrolled": true
   },
   "outputs": [
    {
     "name": "stdout",
     "output_type": "stream",
     "text": [
      "Veri Sayisi: 154\n",
      "Dogru Tahmin Sayisi: 142\n",
      "Yanlis Tahmin Sayisi: 12\n",
      "Basari Orani: 0.9221\n"
     ]
    },
    {
     "data": {
      "text/html": [
       "<div>\n",
       "<style scoped>\n",
       "    .dataframe tbody tr th:only-of-type {\n",
       "        vertical-align: middle;\n",
       "    }\n",
       "\n",
       "    .dataframe tbody tr th {\n",
       "        vertical-align: top;\n",
       "    }\n",
       "\n",
       "    .dataframe thead th {\n",
       "        text-align: right;\n",
       "    }\n",
       "</style>\n",
       "<table border=\"1\" class=\"dataframe\">\n",
       "  <thead>\n",
       "    <tr style=\"text-align: right;\">\n",
       "      <th></th>\n",
       "      <th>mevzuat_no</th>\n",
       "      <th>mevzuat_no_pred</th>\n",
       "      <th>baslik</th>\n",
       "      <th>url</th>\n",
       "      <th>kategori</th>\n",
       "      <th>data_text</th>\n",
       "    </tr>\n",
       "  </thead>\n",
       "  <tbody>\n",
       "    <tr>\n",
       "      <th>1139</th>\n",
       "      <td>1046330</td>\n",
       "      <td>2017/1</td>\n",
       "      <td>SOSYAL GÜVENLİK KURUMU, 2017/1 SAYILI GENELGE</td>\n",
       "      <td>https://kms.kaysis.gov.tr/Home/Goster/105981</td>\n",
       "      <td>Genelge</td>\n",
       "      <td>T.C.\\nSOSYAL GÜVENLİK KURUMU BAŞKANLIĞI \\n\\nStrateji Geliştirme Başkanlığı\\n\\ni rSayı\\nU\\n\\n32945953-010.06.01-E. 1046330 23/02/2017\\nKonu-: Strateji Geliştirme Başkanlığı Daire Başkanlıktan \\n\\nve Alt Birimlerin Görev Tanımlan\\ni\\n\\nİÇ GENELGE \\...</td>\n",
       "    </tr>\n",
       "    <tr>\n",
       "      <th>1140</th>\n",
       "      <td>2017/07</td>\n",
       "      <td>2017/7</td>\n",
       "      <td>SOSYAL GÜVENLİK KURUMU, 2017/7 SAYILI GENELGE SİGORTA PRİMLERİNİN ERTELENMESİ</td>\n",
       "      <td>https://kms.kaysis.gov.tr/Home/Goster/96320</td>\n",
       "      <td>Genelge</td>\n",
       "      <td>T.C.\\nSOSYAL GÜVENLİK KURUMU BAŞKANLIĞI \\n\\nSigorta Primleri Genel Müdürlüğü\\n\\nSayı : 89075644-202.99-E.695085 07/02/2017\\nKonu : Sigorta primlerinin ertelenmesi\\n\\nGENELGE\\n2017-7\\n\\n18/1/2017 tarihli, 6770 sayılı Türkiye Cumhuriyeti Emekli San...</td>\n",
       "    </tr>\n",
       "  </tbody>\n",
       "</table>\n",
       "</div>"
      ],
      "text/plain": [
       "     mevzuat_no mevzuat_no_pred  \\\n",
       "1139    1046330          2017/1   \n",
       "1140    2017/07          2017/7   \n",
       "\n",
       "                                                                             baslik  \\\n",
       "1139                                  SOSYAL GÜVENLİK KURUMU, 2017/1 SAYILI GENELGE   \n",
       "1140  SOSYAL GÜVENLİK KURUMU, 2017/7 SAYILI GENELGE SİGORTA PRİMLERİNİN ERTELENMESİ   \n",
       "\n",
       "                                               url kategori  \\\n",
       "1139  https://kms.kaysis.gov.tr/Home/Goster/105981  Genelge   \n",
       "1140   https://kms.kaysis.gov.tr/Home/Goster/96320  Genelge   \n",
       "\n",
       "                                                                                                                                                                                                                                                      data_text  \n",
       "1139  T.C.\\nSOSYAL GÜVENLİK KURUMU BAŞKANLIĞI \\n\\nStrateji Geliştirme Başkanlığı\\n\\ni rSayı\\nU\\n\\n32945953-010.06.01-E. 1046330 23/02/2017\\nKonu-: Strateji Geliştirme Başkanlığı Daire Başkanlıktan \\n\\nve Alt Birimlerin Görev Tanımlan\\ni\\n\\nİÇ GENELGE \\...  \n",
       "1140  T.C.\\nSOSYAL GÜVENLİK KURUMU BAŞKANLIĞI \\n\\nSigorta Primleri Genel Müdürlüğü\\n\\nSayı : 89075644-202.99-E.695085 07/02/2017\\nKonu : Sigorta primlerinin ertelenmesi\\n\\nGENELGE\\n2017-7\\n\\n18/1/2017 tarihli, 6770 sayılı Türkiye Cumhuriyeti Emekli San...  "
      ]
     },
     "execution_count": 21,
     "metadata": {},
     "output_type": "execute_result"
    }
   ],
   "source": [
    "filtered_df = filter_dataframe(input_df=df,\n",
    "                               selected_categories=[\"Genelge\"],\n",
    "                               custom_filter_array=[df.url.str.contains(\"kaysis.gov.tr\")]\n",
    "                              )\n",
    "\n",
    "calculate_accuracy(input_df=filtered_df,\n",
    "                   feature_extractor=mevzuat_no_extractor,\n",
    "                   include_na=True)\n",
    "\n",
    "show_false_predictions(input_df=filtered_df,\n",
    "                       feature_extractor=mevzuat_no_extractor,\n",
    "                       cols=[\"baslik\", \"url\", \"kategori\", \"data_text\"],\n",
    "                       include_na=True,\n",
    "                       first_n=2)"
   ]
  },
  {
   "cell_type": "code",
   "execution_count": null,
   "id": "d5b805b4",
   "metadata": {},
   "outputs": [],
   "source": []
  }
 ],
 "metadata": {
  "kernelspec": {
   "display_name": "Python 3 (ipykernel)",
   "language": "python",
   "name": "python3"
  },
  "language_info": {
   "codemirror_mode": {
    "name": "ipython",
    "version": 3
   },
   "file_extension": ".py",
   "mimetype": "text/x-python",
   "name": "python",
   "nbconvert_exporter": "python",
   "pygments_lexer": "ipython3",
   "version": "3.8.12"
  }
 },
 "nbformat": 4,
 "nbformat_minor": 5
}
