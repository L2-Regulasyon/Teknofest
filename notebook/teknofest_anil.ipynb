{
 "cells": [
  {
   "cell_type": "code",
   "execution_count": 1,
   "id": "d0b1afb5-06a4-4f6f-ad34-7bdb1d8239bd",
   "metadata": {},
   "outputs": [],
   "source": [
    "%load_ext autoreload\n",
    "%autoreload 2"
   ]
  },
  {
   "cell_type": "code",
   "execution_count": 2,
   "id": "d68fcf47",
   "metadata": {},
   "outputs": [],
   "source": [
    "import sys\n",
    "sys.path.append('../src')"
   ]
  },
  {
   "cell_type": "code",
   "execution_count": 3,
   "id": "d5b48b18",
   "metadata": {},
   "outputs": [],
   "source": [
    "from pathlib import Path\n",
    "import unidecode\n",
    "import pandas as pd\n",
    "\n",
    "import numpy as np\n",
    "import re\n",
    "from tqdm.notebook import tqdm\n",
    "tqdm.pandas()\n",
    "\n",
    "from utils import BelgeSayisiExtractor, MaddeSayisiExtractor, MevzuatNoExtractor\n",
    "from eval_utils import filter_dataframe, show_false_predictions, calculate_accuracy\n",
    "import constants"
   ]
  },
  {
   "cell_type": "code",
   "execution_count": 4,
   "id": "26f3677e-b895-49eb-8e81-bcbcb9323760",
   "metadata": {},
   "outputs": [],
   "source": [
    "pd.options.display.max_columns = 20\n",
    "pd.options.display.max_colwidth = 250"
   ]
  },
  {
   "cell_type": "code",
   "execution_count": 5,
   "id": "34108494-9e5f-4845-8efe-c1a95db7be0e",
   "metadata": {},
   "outputs": [],
   "source": [
    "df = pd.read_csv(\"../data/kanunum-nlp-doc-analysis-dataset.csv\")"
   ]
  },
  {
   "cell_type": "code",
   "execution_count": 6,
   "id": "49c09557-08c3-4da7-aa64-52222906e72b",
   "metadata": {},
   "outputs": [
    {
     "data": {
      "text/plain": [
       "(4142, 16)"
      ]
     },
     "execution_count": 6,
     "metadata": {},
     "output_type": "execute_result"
    }
   ],
   "source": [
    "df.shape"
   ]
  },
  {
   "cell_type": "markdown",
   "id": "29dc8fc5-7c43-4f7b-9668-14f0b32938cb",
   "metadata": {},
   "source": [
    "### Alanlar\n",
    "- **id**                    : İçerik kimliği\n",
    "- **kategori**              : İçerik Türü/Kategorisi\n",
    "- **baslik**                : İçerik Başlığı\n",
    "- **rega_no**               : İçeriğin yayınlandığı Resmi Gazete Sayısı\n",
    "- **mukerrer_no**           : İçeriğin yayınlandığı Resmi Gazete Mükerrer Numarası (0 ise mükerrer olmadığını belirtir)\n",
    "- **rega_tarihi**           : İçeriğin yayınlandığı Resmi Gazete Tarihi (`date:yyyy-mm-dd` formatında)\n",
    "- **kurum**                 : İçeriği(Genelge, Cumhurbaşkanlığı(CB) Kararnamesi, Tüzük, Yönetmelik, Tebliğ) çıkaran kurum adı\n",
    "- **mevzuat_no**            : İçeriğin ilgili numarası (Detaylar için ilgili kategoriye bakınız) \n",
    "- **belge_sayi**            : Genelge üzerindeki Sayı ifadesinin değeri (sadece işlenebilenler)\n",
    "- **mevzuat_tarihi**        : İçeriğin ilgili Tarihi (`date:yyyy-mm-dd` formatında)\n",
    "- **donem**                 : Komisyon Raporunun dönemini (örn: \"27. Dönem\")\n",
    "- **sira_no**               : Komisyon Raporunun Sıra Sayısı (örn: \"230\", \"42 ek 1\" vb.)\n",
    "- **madde_sayisi**          : İçeriğin(Kanun, KHK, CB Kararnamesi, Tüzük, Yönetmelik) bölümlerini (Madde sayısını ve işlenemeyen hükümleri/maddeleri, _madde metinlerinin_ içindeki \"Madde <sayi> - ...\" ifadeleri hariç )\n",
    "- **data_text**             : İçerik metni (Büyük/Küçük Harf, Noktalama ve \"\\n\" içermektedir)\n",
    "- **url**                   : İçerik metninin esas alındığı websayfasının linki (kaynak linkler güncel olmayabilir)\n",
    "- **kanunum_url**           : İçeriğin Kanunum linki\n",
    "\n",
    "**İçerik Başlıkları**, Kanun, Resmi Gazete, Kanun Hükmünde Kararname, Cumhurbaşkanlığı Kararnamesi, Tebliğ, Yönetmelik ve Tebliğ için içeriğin adı olan başlık kullanılırken Komisyon Raporu, Genelge ve Özelgelerde tanımlayıcı olmak üzere işelenerek üretilmiş bir başlık tercih edilmiştir.\n",
    "\n",
    "**Kurum Adı**, Kanunum veritabanına işlenmiş hali ile kullanılmaktadır. Örneğin; Üniversite Yönetmeliklerinde kurum adı ayrı ayrı üniversite adı kullanmak yerine tek bir ad (\"Üniversite\") olarak işlenmiştir. Kurum tespiti yapılırken Bakanlık isimlerinin değişmiş olabileceği ayrıca dikkate alınmalıdır."
   ]
  },
  {
   "cell_type": "markdown",
   "id": "e6536b91-dd41-4463-9bbb-4dd7a080bf3f",
   "metadata": {},
   "source": [
    "## Kategoriler\n",
    " Kanun, Resmi Gazete, Kanun Hükmünde Kararname, Cumhurbaşkanlığı Kararnamesi, Genelge, Tebliğ, Yönetmelik, Komisyon Raporu, Tüzük ve Özelge olmak üzere toplam 10 kategori bulunmaktadır.\n",
    "\n",
    "Tüm içerikler için `kategori`, `baslik`, `data_text`, `url`, `kanunum_url` alanları sunulmuş olup `url` alanı içerik metninin esas alındığı sayfa linkini belirtmektedir. Diğer dikkate alınacak alanlar aşağıdaki gibi olup detaylar alt başlıklarda verilmiştir.\n",
    "\n",
    "\n",
    "| Kategori                                                               | İçerik Sayısı     | İlgili alanlar (Üst Veriler)                                                                                              |\n",
    "| :-------                                                               | :------------     | :---------------------------                                                                                              |\n",
    "| [Kanun](#kategori-kanun)                                               | 514               | kategori, baslik, rega_no, mukerrer_no, rega_tarihi, mevzuat_no, mevzuat_tarihi, madde_sayisi, data_text, url             |\n",
    "| [Kanun Hükmünde Kararname](#kategori-kanun-hükmünde-kararname-khk)     | 91                | kategori, baslik, rega_no, mukerrer_no, rega_tarihi, mevzuat_no, mevzuat_tarihi, madde_sayisi, data_text, url             |\n",
    "| [Resmi Gazete](#kategori-resmi-gazete)                                 | 546               | kategori, baslik, rega_no, mukerrer_no, rega_tarihi, data_text, url                                                       |\n",
    "| [Komisyon Raporu](#kategori-komisyon-raporu)                           | 500               | kategori, baslik, donem, sira_no, data_text, url                                                                          |\n",
    "| [Genelge](#kategori-genelge)                                           | 385               | kategori, baslik, kurum, mevzuat_no, belge_sayi, mevzuat_tarihi, data_text, url                                           |\n",
    "| [Cumhurbaşkanlığı Kararnamesi](#kategori-cumhurbaşkanlığı-kararnamesi) | 54                | kategori, baslik, rega_no, mukerrer_no, rega_tarihi, kurum, mevzuat_no, mevzuat_tarihi, madde_sayisi, data_text, url      |\n",
    "| [Tüzük](#kategori-tüzük)                                               | 82                | kategori, baslik, rega_no, mukerrer_no, rega_tarihi, kurum, mevzuat_no, mevzuat_tarihi, madde_sayisi, data_text, url      |\n",
    "| [Yönetmelik](#kategori-yönetmelik)                                     | 597               | kategori, baslik, rega_no, mukerrer_no, rega_tarihi, kurum, mevzuat_no, mevzuat_tarihi, madde_sayisi, data_text, url      |\n",
    "| [Tebliğ](#kategori-tebliğ)                                             | 623               | kategori, baslik, rega_no, mukerrer_no, rega_tarihi, kurum, data_text, url                                                |\n",
    "| [Özelge](#kategori-özelge)                                             | 750               | kategori, baslik, kurum, mevzuat_tarihi, data_text, url M"
   ]
  },
  {
   "cell_type": "markdown",
   "id": "c1be0114",
   "metadata": {},
   "source": [
    "### BELGE SAYISI"
   ]
  },
  {
   "cell_type": "code",
   "execution_count": 7,
   "id": "13b3881c",
   "metadata": {},
   "outputs": [],
   "source": [
    "belge_sayisi_extractor = BelgeSayisiExtractor()"
   ]
  },
  {
   "cell_type": "code",
   "execution_count": 8,
   "id": "813e0e18",
   "metadata": {},
   "outputs": [
    {
     "name": "stdout",
     "output_type": "stream",
     "text": [
      "'belge_sayi' cikariliyor... -> 'belge_sayi_pred'\n"
     ]
    },
    {
     "data": {
      "application/vnd.jupyter.widget-view+json": {
       "model_id": "4993ffcd6d2c44c3991205026d06c0c1",
       "version_major": 2,
       "version_minor": 0
      },
      "text/plain": [
       "  0%|          | 0/385 [00:00<?, ?it/s]"
      ]
     },
     "metadata": {},
     "output_type": "display_data"
    }
   ],
   "source": [
    "belge_sayisi_extractor.extract(df)"
   ]
  },
  {
   "cell_type": "code",
   "execution_count": 9,
   "id": "21aa0caf",
   "metadata": {},
   "outputs": [
    {
     "name": "stdout",
     "output_type": "stream",
     "text": [
      "Veri Sayisi: 385\n",
      "Dogru Tahmin Sayisi: 86\n",
      "Yanlis Tahmin Sayisi: 299\n",
      "Basari Orani: 0.2234\n"
     ]
    }
   ],
   "source": [
    "# Çok fazla NaN etiket var\n",
    "calculate_accuracy(input_df=df,\n",
    "                   feature_extractor=belge_sayisi_extractor,\n",
    "                   include_na=True)"
   ]
  },
  {
   "cell_type": "code",
   "execution_count": 10,
   "id": "272dc527",
   "metadata": {},
   "outputs": [
    {
     "name": "stdout",
     "output_type": "stream",
     "text": [
      "Veri Sayisi: 43\n",
      "Dogru Tahmin Sayisi: 43\n",
      "Yanlis Tahmin Sayisi: 0\n",
      "Basari Orani: 1.0\n"
     ]
    }
   ],
   "source": [
    "# NaN olmayan etiketlerde %100 başarı\n",
    "calculate_accuracy(input_df=df,\n",
    "                   feature_extractor=belge_sayisi_extractor,\n",
    "                   include_na=False)"
   ]
  },
  {
   "cell_type": "code",
   "execution_count": 11,
   "id": "388469c9",
   "metadata": {},
   "outputs": [
    {
     "data": {
      "text/html": [
       "<div>\n",
       "<style scoped>\n",
       "    .dataframe tbody tr th:only-of-type {\n",
       "        vertical-align: middle;\n",
       "    }\n",
       "\n",
       "    .dataframe tbody tr th {\n",
       "        vertical-align: top;\n",
       "    }\n",
       "\n",
       "    .dataframe thead th {\n",
       "        text-align: right;\n",
       "    }\n",
       "</style>\n",
       "<table border=\"1\" class=\"dataframe\">\n",
       "  <thead>\n",
       "    <tr style=\"text-align: right;\">\n",
       "      <th></th>\n",
       "      <th>belge_sayi</th>\n",
       "      <th>belge_sayi_pred</th>\n",
       "      <th>baslik</th>\n",
       "      <th>url</th>\n",
       "      <th>kategori</th>\n",
       "    </tr>\n",
       "  </thead>\n",
       "  <tbody>\n",
       "    <tr>\n",
       "      <th>917</th>\n",
       "      <td>undefined</td>\n",
       "      <td>B.07.0.GEL.0.44/4412-17-047504</td>\n",
       "      <td>GELİR İDARESİ BAŞKANLIĞI, GELİR VERGİSİ KANUNU İÇ GENELGESİ SIRA NO:1998/5</td>\n",
       "      <td>http://www.gib.gov.tr/node/89371</td>\n",
       "      <td>Genelge</td>\n",
       "    </tr>\n",
       "    <tr>\n",
       "      <th>918</th>\n",
       "      <td>undefined</td>\n",
       "      <td>B.07.0.GEL.0.71/7100-89 - 009461</td>\n",
       "      <td>GELİR İDARESİ BAŞKANLIĞI, VERGİ BARIŞI KANUNU UYGULAMA İÇ GENELGESİ SERİ NO: 2003/2</td>\n",
       "      <td>http://www.gib.gov.tr/node/89248</td>\n",
       "      <td>Genelge</td>\n",
       "    </tr>\n",
       "    <tr>\n",
       "      <th>919</th>\n",
       "      <td>undefined</td>\n",
       "      <td>B. 13.2.SGK.0.71.09.00/53&gt;~? 3 0 MAYİS 2Oİ2</td>\n",
       "      <td>SOSYAL GÜVENLİK KURUMU, GENELGE 2012-20</td>\n",
       "      <td>https://kms.kaysis.gov.tr/Home/Goster/73822</td>\n",
       "      <td>Genelge</td>\n",
       "    </tr>\n",
       "    <tr>\n",
       "      <th>922</th>\n",
       "      <td>undefined</td>\n",
       "      <td>B.13.2.SSK.5.01.08.00/Vİİİ-031-502522 ANKARA</td>\n",
       "      <td>SOSYAL GÜVENLİK KURUMU, YATIRIMLARIN VE İSTİHDAMIN TEŞVİKİNE İLİŞKİN 26.06.2006 TARİHLİ 2006-16 SAYILI GENELGE</td>\n",
       "      <td>https://kms.kaysis.gov.tr/Home/Goster/106310</td>\n",
       "      <td>Genelge</td>\n",
       "    </tr>\n",
       "    <tr>\n",
       "      <th>923</th>\n",
       "      <td>undefined</td>\n",
       "      <td>B. 13.2.SSK.5.01.08.00/Vİİİ-031-946961 ANKARA</td>\n",
       "      <td>SOSYAL GÜVENLİK KURUMU, İHALE KONUSU İŞLERDEN KAYNAKLANAN BORÇLARIN TAKİBİ HAKKINDA 06/12/2005 TARİHLİ 2005/16-358 EK SAYILI GENELGE</td>\n",
       "      <td>https://kms.kaysis.gov.tr/Home/Goster/128284</td>\n",
       "      <td>Genelge</td>\n",
       "    </tr>\n",
       "  </tbody>\n",
       "</table>\n",
       "</div>"
      ],
      "text/plain": [
       "    belge_sayi                                  belge_sayi_pred  \\\n",
       "917  undefined                   B.07.0.GEL.0.44/4412-17-047504   \n",
       "918  undefined                 B.07.0.GEL.0.71/7100-89 - 009461   \n",
       "919  undefined      B. 13.2.SGK.0.71.09.00/53>~? 3 0 MAYİS 2Oİ2   \n",
       "922  undefined     B.13.2.SSK.5.01.08.00/Vİİİ-031-502522 ANKARA   \n",
       "923  undefined    B. 13.2.SSK.5.01.08.00/Vİİİ-031-946961 ANKARA   \n",
       "\n",
       "                                                                                                                                   baslik  \\\n",
       "917                                                            GELİR İDARESİ BAŞKANLIĞI, GELİR VERGİSİ KANUNU İÇ GENELGESİ SIRA NO:1998/5   \n",
       "918                                                   GELİR İDARESİ BAŞKANLIĞI, VERGİ BARIŞI KANUNU UYGULAMA İÇ GENELGESİ SERİ NO: 2003/2   \n",
       "919                                                                                               SOSYAL GÜVENLİK KURUMU, GENELGE 2012-20   \n",
       "922                        SOSYAL GÜVENLİK KURUMU, YATIRIMLARIN VE İSTİHDAMIN TEŞVİKİNE İLİŞKİN 26.06.2006 TARİHLİ 2006-16 SAYILI GENELGE   \n",
       "923  SOSYAL GÜVENLİK KURUMU, İHALE KONUSU İŞLERDEN KAYNAKLANAN BORÇLARIN TAKİBİ HAKKINDA 06/12/2005 TARİHLİ 2005/16-358 EK SAYILI GENELGE   \n",
       "\n",
       "                                              url kategori  \n",
       "917              http://www.gib.gov.tr/node/89371  Genelge  \n",
       "918              http://www.gib.gov.tr/node/89248  Genelge  \n",
       "919   https://kms.kaysis.gov.tr/Home/Goster/73822  Genelge  \n",
       "922  https://kms.kaysis.gov.tr/Home/Goster/106310  Genelge  \n",
       "923  https://kms.kaysis.gov.tr/Home/Goster/128284  Genelge  "
      ]
     },
     "execution_count": 11,
     "metadata": {},
     "output_type": "execute_result"
    }
   ],
   "source": [
    "show_false_predictions(input_df=df,\n",
    "                       feature_extractor=belge_sayisi_extractor,\n",
    "                       cols=[\"baslik\", \"url\", \"kategori\"],\n",
    "                       include_na=True,\n",
    "                       first_n=5)"
   ]
  },
  {
   "cell_type": "markdown",
   "id": "db74b67f",
   "metadata": {},
   "source": [
    "### MADDE SAYISI"
   ]
  },
  {
   "cell_type": "code",
   "execution_count": 12,
   "id": "2e9f640d",
   "metadata": {},
   "outputs": [],
   "source": [
    "madde_sayisi_extractor = MaddeSayisiExtractor()"
   ]
  },
  {
   "cell_type": "code",
   "execution_count": 13,
   "id": "5cef55fe",
   "metadata": {},
   "outputs": [
    {
     "name": "stdout",
     "output_type": "stream",
     "text": [
      "'madde_sayisi' cikariliyor... -> 'madde_sayisi_pred'\n"
     ]
    },
    {
     "data": {
      "application/vnd.jupyter.widget-view+json": {
       "model_id": "fdfcfd4240714ac6b0bcba5030cdf944",
       "version_major": 2,
       "version_minor": 0
      },
      "text/plain": [
       "  0%|          | 0/1338 [00:00<?, ?it/s]"
      ]
     },
     "metadata": {},
     "output_type": "display_data"
    }
   ],
   "source": [
    "madde_sayisi_extractor.extract(df)"
   ]
  },
  {
   "cell_type": "code",
   "execution_count": 14,
   "id": "a2a26866",
   "metadata": {},
   "outputs": [
    {
     "name": "stdout",
     "output_type": "stream",
     "text": [
      "Veri Sayisi: 1338\n",
      "Dogru Tahmin Sayisi: 1071\n",
      "Yanlis Tahmin Sayisi: 267\n",
      "Basari Orani: 0.8004\n"
     ]
    }
   ],
   "source": [
    "calculate_accuracy(input_df=df,\n",
    "                   feature_extractor=madde_sayisi_extractor,\n",
    "                   include_na=False)"
   ]
  },
  {
   "cell_type": "code",
   "execution_count": 15,
   "id": "e04e8389",
   "metadata": {},
   "outputs": [
    {
     "data": {
      "text/html": [
       "<div>\n",
       "<style scoped>\n",
       "    .dataframe tbody tr th:only-of-type {\n",
       "        vertical-align: middle;\n",
       "    }\n",
       "\n",
       "    .dataframe tbody tr th {\n",
       "        vertical-align: top;\n",
       "    }\n",
       "\n",
       "    .dataframe thead th {\n",
       "        text-align: right;\n",
       "    }\n",
       "</style>\n",
       "<table border=\"1\" class=\"dataframe\">\n",
       "  <thead>\n",
       "    <tr style=\"text-align: right;\">\n",
       "      <th></th>\n",
       "      <th>madde_sayisi</th>\n",
       "      <th>madde_sayisi_pred</th>\n",
       "      <th>baslik</th>\n",
       "      <th>url</th>\n",
       "      <th>kategori</th>\n",
       "    </tr>\n",
       "  </thead>\n",
       "  <tbody>\n",
       "    <tr>\n",
       "      <th>6</th>\n",
       "      <td>76</td>\n",
       "      <td>88</td>\n",
       "      <td>MİLLÎ EĞİTİM BAKANLIĞININ TEŞKİLAT VE GÖREVLERİ HAKKINDA KANUN HÜKMÜNDE KARARNAME İLE BAZI KANUN VE KANUN HÜKMÜNDE KARARNAMELERDE DEĞİŞİKLİK YAPILMASINA DAİR KANUN</td>\n",
       "      <td>https://www.resmigazete.gov.tr/eskiler/2016/12/20161209-5.htm</td>\n",
       "      <td>Kanun</td>\n",
       "    </tr>\n",
       "    <tr>\n",
       "      <th>8</th>\n",
       "      <td>17</td>\n",
       "      <td>94</td>\n",
       "      <td>YÜKSEKÖĞRETİM KANUNU İLE BAZI KANUN VE KANUN HÜKMÜNDE KARARNAMELERDE DEĞİŞİKLİK YAPILMASINA DAİR KANUN</td>\n",
       "      <td>https://www.resmigazete.gov.tr/eskiler/2018/05/20180518-1.htm</td>\n",
       "      <td>Kanun</td>\n",
       "    </tr>\n",
       "    <tr>\n",
       "      <th>11</th>\n",
       "      <td>70</td>\n",
       "      <td>80</td>\n",
       "      <td>VERGİ KANUNLARI İLE BAZI KANUN VE KANUN HÜKMÜNDE KARARNAMELERDE DEĞİŞİKLİK YAPILMASINA DAİR KANUN</td>\n",
       "      <td>https://www.resmigazete.gov.tr/eskiler/2019/01/20190118-1.htm</td>\n",
       "      <td>Kanun</td>\n",
       "    </tr>\n",
       "    <tr>\n",
       "      <th>14</th>\n",
       "      <td>35</td>\n",
       "      <td>61</td>\n",
       "      <td>GELİR VERGİSİ KANUNU İLE BAZI KANUNLARDA DEĞİŞİKLİK YAPILMASI HAKKINDA KANUN</td>\n",
       "      <td>http://www.resmigazete.gov.tr/eskiler/2019/07/20190719M1-1.htm</td>\n",
       "      <td>Kanun</td>\n",
       "    </tr>\n",
       "    <tr>\n",
       "      <th>15</th>\n",
       "      <td>19</td>\n",
       "      <td>22</td>\n",
       "      <td>ÖDEME VE MENKUL KIYMET MUTABAKAT SİSTEMLERİ, ÖDEME HİZMETLERİ VE ELEKTRONİK PARA KURULUŞLARI HAKKINDA KANUN İLE BAZI KANUNLARDA DEĞİŞİKLİK YAPILMASINA DAİR KANUN</td>\n",
       "      <td>https://www.resmigazete.gov.tr/eskiler/2019/11/20191122-2.htm</td>\n",
       "      <td>Kanun</td>\n",
       "    </tr>\n",
       "  </tbody>\n",
       "</table>\n",
       "</div>"
      ],
      "text/plain": [
       "    madde_sayisi madde_sayisi_pred  \\\n",
       "6             76                88   \n",
       "8             17                94   \n",
       "11            70                80   \n",
       "14            35                61   \n",
       "15            19                22   \n",
       "\n",
       "                                                                                                                                                                 baslik  \\\n",
       "6   MİLLÎ EĞİTİM BAKANLIĞININ TEŞKİLAT VE GÖREVLERİ HAKKINDA KANUN HÜKMÜNDE KARARNAME İLE BAZI KANUN VE KANUN HÜKMÜNDE KARARNAMELERDE DEĞİŞİKLİK YAPILMASINA DAİR KANUN   \n",
       "8                                                                YÜKSEKÖĞRETİM KANUNU İLE BAZI KANUN VE KANUN HÜKMÜNDE KARARNAMELERDE DEĞİŞİKLİK YAPILMASINA DAİR KANUN   \n",
       "11                                                                    VERGİ KANUNLARI İLE BAZI KANUN VE KANUN HÜKMÜNDE KARARNAMELERDE DEĞİŞİKLİK YAPILMASINA DAİR KANUN   \n",
       "14                                                                                         GELİR VERGİSİ KANUNU İLE BAZI KANUNLARDA DEĞİŞİKLİK YAPILMASI HAKKINDA KANUN   \n",
       "15    ÖDEME VE MENKUL KIYMET MUTABAKAT SİSTEMLERİ, ÖDEME HİZMETLERİ VE ELEKTRONİK PARA KURULUŞLARI HAKKINDA KANUN İLE BAZI KANUNLARDA DEĞİŞİKLİK YAPILMASINA DAİR KANUN   \n",
       "\n",
       "                                                               url kategori  \n",
       "6    https://www.resmigazete.gov.tr/eskiler/2016/12/20161209-5.htm    Kanun  \n",
       "8    https://www.resmigazete.gov.tr/eskiler/2018/05/20180518-1.htm    Kanun  \n",
       "11   https://www.resmigazete.gov.tr/eskiler/2019/01/20190118-1.htm    Kanun  \n",
       "14  http://www.resmigazete.gov.tr/eskiler/2019/07/20190719M1-1.htm    Kanun  \n",
       "15   https://www.resmigazete.gov.tr/eskiler/2019/11/20191122-2.htm    Kanun  "
      ]
     },
     "execution_count": 15,
     "metadata": {},
     "output_type": "execute_result"
    }
   ],
   "source": [
    "show_false_predictions(input_df=df,\n",
    "                       feature_extractor=madde_sayisi_extractor,\n",
    "                       cols=[\"baslik\", \"url\", \"kategori\"],\n",
    "                       include_na=False,\n",
    "                       first_n=5)"
   ]
  },
  {
   "cell_type": "markdown",
   "id": "24119920",
   "metadata": {},
   "source": [
    "### MEVZUAT NO"
   ]
  },
  {
   "cell_type": "code",
   "execution_count": 16,
   "id": "cb4ee10c",
   "metadata": {
    "scrolled": true
   },
   "outputs": [],
   "source": [
    "mevzuat_no_extractor = MevzuatNoExtractor()"
   ]
  },
  {
   "cell_type": "code",
   "execution_count": 17,
   "id": "3bfe4af7",
   "metadata": {},
   "outputs": [
    {
     "name": "stdout",
     "output_type": "stream",
     "text": [
      "'mevzuat_no' cikariliyor... -> 'mevzuat_no_pred'\n"
     ]
    },
    {
     "data": {
      "application/vnd.jupyter.widget-view+json": {
       "model_id": "43719f2de59444a0b292d3d6b87150ee",
       "version_major": 2,
       "version_minor": 0
      },
      "text/plain": [
       "  0%|          | 0/1723 [00:00<?, ?it/s]"
      ]
     },
     "metadata": {},
     "output_type": "display_data"
    }
   ],
   "source": [
    "mevzuat_no_extractor.extract(df)"
   ]
  },
  {
   "cell_type": "code",
   "execution_count": 18,
   "id": "f737fc57",
   "metadata": {},
   "outputs": [
    {
     "name": "stdout",
     "output_type": "stream",
     "text": [
      "Veri Sayisi: 1091\n",
      "Dogru Tahmin Sayisi: 1073\n",
      "Yanlis Tahmin Sayisi: 18\n",
      "Basari Orani: 0.9835\n"
     ]
    }
   ],
   "source": [
    "calculate_accuracy(input_df=df,\n",
    "                   feature_extractor=mevzuat_no_extractor,\n",
    "                   include_na=False)"
   ]
  },
  {
   "cell_type": "code",
   "execution_count": 19,
   "id": "134f26c7",
   "metadata": {
    "scrolled": true
   },
   "outputs": [
    {
     "data": {
      "text/html": [
       "<div>\n",
       "<style scoped>\n",
       "    .dataframe tbody tr th:only-of-type {\n",
       "        vertical-align: middle;\n",
       "    }\n",
       "\n",
       "    .dataframe tbody tr th {\n",
       "        vertical-align: top;\n",
       "    }\n",
       "\n",
       "    .dataframe thead th {\n",
       "        text-align: right;\n",
       "    }\n",
       "</style>\n",
       "<table border=\"1\" class=\"dataframe\">\n",
       "  <thead>\n",
       "    <tr style=\"text-align: right;\">\n",
       "      <th></th>\n",
       "      <th>mevzuat_no</th>\n",
       "      <th>mevzuat_no_pred</th>\n",
       "      <th>baslik</th>\n",
       "      <th>url</th>\n",
       "      <th>kategori</th>\n",
       "      <th>data_text</th>\n",
       "    </tr>\n",
       "  </thead>\n",
       "  <tbody>\n",
       "    <tr>\n",
       "      <th>1015</th>\n",
       "      <td>2007/ 1</td>\n",
       "      <td>2007/1</td>\n",
       "      <td>GELİR İDARESİ BAŞKANLIĞI, VERGİ KİMLİK NUMARASI İÇ GENELGESİ SERİ NO: 2007/ 1</td>\n",
       "      <td>http://www.gib.gov.tr/node/89380</td>\n",
       "      <td>Genelge</td>\n",
       "      <td>VERGİ KİMLİK NUMARASI İÇ GENELGESİ SERİ NO: 2007/ 1\\n\\nTarih 06/07/2007\\n\\nSayı B.07.1.GİB.0.05.70/7033-158-60338\\n\\nKapsam \\n\\nT.C.\\n\\nMALİYE BAKANLIĞI\\n\\nGelir İdaresi BaşkanlığI\\n\\nSayı: B.07.1.GİB.0.05.70/7033-158-60338\\n\\nVERGİ KİMLİK NUMARA...</td>\n",
       "    </tr>\n",
       "    <tr>\n",
       "      <th>1016</th>\n",
       "      <td>2006/ 1</td>\n",
       "      <td>2006/1</td>\n",
       "      <td>GELİR İDARESİ BAŞKANLIĞI, VERGİ KİMLİK NUMARASI İÇ GENELGESİ SERİ NO: 2006/ 1</td>\n",
       "      <td>http://www.gib.gov.tr/node/89369</td>\n",
       "      <td>Genelge</td>\n",
       "      <td>VERGİ KİMLİK NUMARASI İÇ GENELGESİ SERİ NO: 2006/ 1\\n\\nTarih 31/10/2006\\n\\nSayı B.07.1.GİB.0.05.70/7033-158-84223\\n\\nKapsam \\n\\nT.C.\\n\\nMALİYE BAKANLIĞI\\n\\nGelir İdaresi Başkanlığı\\n\\nSayı : B.07.1.GİB.0.05.70/7033-158-84223\\n\\nVERGİ KİMLİK NUMAR...</td>\n",
       "    </tr>\n",
       "    <tr>\n",
       "      <th>1018</th>\n",
       "      <td>1999 / 5</td>\n",
       "      <td>1999/5</td>\n",
       "      <td>GELİR İDARESİ BAŞKANLIĞI, UYGULAMA İÇ GENELGESİ SERİ NO : 1999 / 5</td>\n",
       "      <td>http://www.gib.gov.tr/node/89378</td>\n",
       "      <td>Genelge</td>\n",
       "      <td>UYGULAMA İÇ GENELGESİ SERİ NO : 1999 / 5\\n\\nTarih 01/12/1999\\n\\nSayı B.07.0.GEL.0.71-7100-55/52802\\n\\nKapsam \\n\\nT.C.\\n\\nMALİYE BAKANLIĞI\\n\\nGelirler Genel Müdürlüğü\\n\\nSAYI : B.07.0.GEL.0.71-7100-55/52802\\n\\nUYGULAMA İÇ GENELGESİ SERİ NO : 1999 ...</td>\n",
       "    </tr>\n",
       "    <tr>\n",
       "      <th>1105</th>\n",
       "      <td>2001/4</td>\n",
       "      <td>2001/14</td>\n",
       "      <td>Tapu ve Kadastro Genel Müdürlüğü, 2001/14 Sayılı \"Bölge Arşivleri\" Konulu Genelge</td>\n",
       "      <td>http://www.tkgm.gov.tr/tr/icerik/200114-sayili-bolge-arsivleri-konulu-genelge</td>\n",
       "      <td>Genelge</td>\n",
       "      <td>Tapu ve Kadastro Genel Müdürlüğü, 2001/14 Sayılı \"Bölge Arşivleri\" Konulu Genelge \\n\\nT.C. BAŞBAKANLIK \\n\\nTAPU VE KADASTRO GENEL MÜDÜRLÜĞÜ \\n\\nTapu Arşiv Dairesi Başkanlığı \\n\\nSayı : B021TKG0150006-4109 Ankara \\n\\nKonu: \\n\\nGenelge \\n\\nTAPU VE ...</td>\n",
       "    </tr>\n",
       "    <tr>\n",
       "      <th>1125</th>\n",
       "      <td>1667</td>\n",
       "      <td>2008/17</td>\n",
       "      <td>Tapu ve Kadastro Genel Müdürlüğü, 2008/17 Sayılı \"Vakıflar Yönetmeliği Hk. (2008/9 sayılı Genelgeye ektir)\" Konulu Genelge</td>\n",
       "      <td>http://www.tkgm.gov.tr/tr/icerik/200817-sayili-vakiflar-yonetmeligi-hk-20089-sayili-genelgeye-ektir-konulu-genelge</td>\n",
       "      <td>Genelge</td>\n",
       "      <td>Tapu ve Kadastro Genel Müdürlüğü, 2008/17 Sayılı \"Vakıflar Yönetmeliği Hk. (2008/9 sayılı Genelgeye ektir)\" Konulu Genelge \\n\\nT.C.BAYINDIRLIK VE İSKAN BAKANLIĞI \\n\\nTapu ve Kadastro Genel Müdürlüğü Tasarruf İşlemleri Dairesi Başkanlığı \\n\\nSayı ...</td>\n",
       "    </tr>\n",
       "    <tr>\n",
       "      <th>1126</th>\n",
       "      <td>1678</td>\n",
       "      <td>2009/7</td>\n",
       "      <td>Tapu ve Kadastro Genel Müdürlüğü,2009/7 Sayılı \"Kadastro Çalışmalarında Tespit Harici Bırakılan Yerlerde Uygulama\" Konulu Genelge</td>\n",
       "      <td>http://www.tkgm.gov.tr/tr/icerik/20097-sayili-kadastro-calismalarinda-tespit-harici-birakilan-yerlerde-uygulama-konulu-genelge</td>\n",
       "      <td>Genelge</td>\n",
       "      <td>Tapu ve Kadastro Genel Müdürlüğü,2009/7 Sayılı \"Kadastro Çalışmalarında Tespit Harici Bırakılan Yerlerde Uygulama\" Konulu Genelge \\n\\n\\n\\n\\n\\nT.C.BAYINDIRLIK VE İSKAN BAKANLIĞI \\n\\nTapu ve Kadastro Genel Müdürlüğü Tasarruf İşlemleri Dairesi Başka...</td>\n",
       "    </tr>\n",
       "    <tr>\n",
       "      <th>1139</th>\n",
       "      <td>1046330</td>\n",
       "      <td>2017/1</td>\n",
       "      <td>SOSYAL GÜVENLİK KURUMU, 2017/1 SAYILI GENELGE</td>\n",
       "      <td>https://kms.kaysis.gov.tr/Home/Goster/105981</td>\n",
       "      <td>Genelge</td>\n",
       "      <td>T.C.\\nSOSYAL GÜVENLİK KURUMU BAŞKANLIĞI \\n\\nStrateji Geliştirme Başkanlığı\\n\\ni rSayı\\nU\\n\\n32945953-010.06.01-E. 1046330 23/02/2017\\nKonu-: Strateji Geliştirme Başkanlığı Daire Başkanlıktan \\n\\nve Alt Birimlerin Görev Tanımlan\\ni\\n\\nİÇ GENELGE \\...</td>\n",
       "    </tr>\n",
       "    <tr>\n",
       "      <th>1140</th>\n",
       "      <td>2017/07</td>\n",
       "      <td>2017/7</td>\n",
       "      <td>SOSYAL GÜVENLİK KURUMU, 2017/7 SAYILI GENELGE SİGORTA PRİMLERİNİN ERTELENMESİ</td>\n",
       "      <td>https://kms.kaysis.gov.tr/Home/Goster/96320</td>\n",
       "      <td>Genelge</td>\n",
       "      <td>T.C.\\nSOSYAL GÜVENLİK KURUMU BAŞKANLIĞI \\n\\nSigorta Primleri Genel Müdürlüğü\\n\\nSayı : 89075644-202.99-E.695085 07/02/2017\\nKonu : Sigorta primlerinin ertelenmesi\\n\\nGENELGE\\n2017-7\\n\\n18/1/2017 tarihli, 6770 sayılı Türkiye Cumhuriyeti Emekli San...</td>\n",
       "    </tr>\n",
       "    <tr>\n",
       "      <th>1152</th>\n",
       "      <td>2015/28</td>\n",
       "      <td>2014/28</td>\n",
       "      <td>SOSYAL GÜVENLİK KURUMU, 2014/28 SAYILI GENELGE</td>\n",
       "      <td>https://kms.kaysis.gov.tr/Home/Goster/69818</td>\n",
       "      <td>Genelge</td>\n",
       "      <td>TC\\nsosyal güvenlik kurumu başkanliği\\n\\nSigorta Primleri Genel Müdürlüğü\\n\\nSayı : 82200845/01006/6654040 30/12/2015\\nKonu : 2014/28 Sayılı Genelge\\n\\nGENELGE \\n2015 / 2j3\\n\\n20/10/2014 tarihli ve 2014/28 sayılı Genelgenin \"Çakışan süreler içind...</td>\n",
       "    </tr>\n",
       "    <tr>\n",
       "      <th>1158</th>\n",
       "      <td>2015/11</td>\n",
       "      <td>2015/h</td>\n",
       "      <td>SOSYAL GÜVENLİK KURUMU, 2014/26 SAYILI GENELGEDE GSS SÜRELERİYLE İLİGİLİ YAPILAN DEĞİŞİKİLİKLER</td>\n",
       "      <td>https://kms.kaysis.gov.tr/Home/Goster/57268</td>\n",
       "      <td>Genelge</td>\n",
       "      <td>T.C.\\nSOSYAL GÜVENLİK KURUMU BAŞKANLIĞI \\n\\nSigorta Primleri Genel Müdürlüğü\\n\\nSayı : 63665751 - /Ü» &lt;#./&lt;#/2015\\nKonu : 2014/26 sayılı Genelgede GSS \\nsüreleriyle ilgili yapılan değişiklikler\\n\\nGENELGE \\n2015- H\\n\\n6552 sayılı Kanunla 5510 say...</td>\n",
       "    </tr>\n",
       "    <tr>\n",
       "      <th>1160</th>\n",
       "      <td>2015/9</td>\n",
       "      <td>2015/^</td>\n",
       "      <td>SOSYAL GÜVENLİK KURUMU, 3201 SAYILI KANUNUN UYGULANMASI HAKKINDA GENELGE</td>\n",
       "      <td>https://kms.kaysis.gov.tr/Home/Goster/68882</td>\n",
       "      <td>Genelge</td>\n",
       "      <td>T.C.\\nSOSYAL GÜVENLİK KURUMU BAŞKANLIĞI \\n\\nEmeklilik Hizmetleri Genel Müdürlüğü\\n\\nSayı : 70809318.010.06.02/ Uf ^ Ol/ti/2015\\nKonu : 3201 sayılı Kanunun uygulanması\\n\\nGENELGE \\n2015/ ^\\n\\n08/05/1985 tarih, 3201 sayılı “Yurtdışında Bulunan Türk...</td>\n",
       "    </tr>\n",
       "    <tr>\n",
       "      <th>1162</th>\n",
       "      <td>2015/01</td>\n",
       "      <td>2015/a.</td>\n",
       "      <td>SOSYAL GÜVENLİK KURUMU, 2014/26 SAYILI GENELGEDE YAPILAN DEĞİŞİKLİKLER</td>\n",
       "      <td>https://kms.kaysis.gov.tr/Home/Goster/57379</td>\n",
       "      <td>Genelge</td>\n",
       "      <td>T.C.\\nSOSYAL GÜVENLİK KURUMU BAŞKANLIĞI \\n\\nSigorta Primleri Genel Müdürlüğü\\n\\nSayı : 64399925/031- °5.lJLt.2015\\nKonu : 2014/26 sayılı Genelgede yapılan \\n\\ndeğişiklikler\\n\\nGENELGE \\n\\n2015- A.\\n\\nBilindiği üzere, 6552 sayılı Kanunla 5510 sayı...</td>\n",
       "    </tr>\n",
       "    <tr>\n",
       "      <th>1165</th>\n",
       "      <td>2014/27</td>\n",
       "      <td>2014/</td>\n",
       "      <td>SOSYAL GÜVENLİK KURUMU, 3201 SAYILI KANUNDA YAPILAN DEĞİŞİKLİKLER HAKKINDA GENLGE</td>\n",
       "      <td>https://kms.kaysis.gov.tr/Home/Goster/68877</td>\n",
       "      <td>Genelge</td>\n",
       "      <td>T.C.\\nSOSYAL GÜVENLİK KURUMU BAŞKANLIĞI\\n\\nEmeklilik Hizmetleri Genel Müdürlüğü\\n\\nSayı : 70809318.010.06.02/ J?/? Z*j l°Jl2014\\nKonu : 3201 sayılı Kanunda \\n\\nyapılan değişiklikler\\n\\nGENELGE\\n2014/\\n\\n10/9/2014 tarihli ve 6552 sayılı İş Kanunu ...</td>\n",
       "    </tr>\n",
       "    <tr>\n",
       "      <th>1166</th>\n",
       "      <td>2014/22</td>\n",
       "      <td>*2014/ps,2^</td>\n",
       "      <td>SOSYAL GÜVENLİK KURUMU, AYLIK BAĞLANDIKTAN SONRA YURTDIŞINDA ÇALIŞANLAR HAKKINDA GENELGE</td>\n",
       "      <td>https://kms.kaysis.gov.tr/Home/Goster/68876</td>\n",
       "      <td>Genelge</td>\n",
       "      <td>« T.C.\\nSOSYAL GÜVENLİK KURUMU BAŞKANLIĞI \\n\\nEmeklilik Hizmetleri Genel Müdürlüğü\\n\\nSayı : 70809318.010.06.02/ £ _26| ££/.?*/2014\\nKonu : Aylık bağlandıktan sonra \\n\\nyurtdışmda çalışanlar\\n■ \\\\n\\nGENELGE \\n• 2014/ £,2^\\n\\n5510 sayılı Sosyal Si...</td>\n",
       "    </tr>\n",
       "    <tr>\n",
       "      <th>1169</th>\n",
       "      <td>2014/11</td>\n",
       "      <td>2014///</td>\n",
       "      <td>SOSYAL GÜVENLİK KURUMU, 2013/39 SAYILI GENELGEDE DEĞİŞİKLİK YAPILMASI HAKKINDA GENELGE</td>\n",
       "      <td>https://kms.kaysis.gov.tr/Home/Goster/68874</td>\n",
       "      <td>Genelge</td>\n",
       "      <td>T.C.\\nSOSYAL GÜVENLİK KURUMU BAŞKANLIĞI \\n\\nEmeklilik Hizmetleri Genel Müdürlüğü\\n\\nSayı : 70809318.010.06.02/ 590 2% fcfylOlA\\nKonu : 2013/39 sayılı Genelge\\n\\nGENELGE \\n2014/ //\\n\\nSosyal güvenlik sözleşmeleri uygulamalarına ilişkin yayımlanan ...</td>\n",
       "    </tr>\n",
       "    <tr>\n",
       "      <th>1174</th>\n",
       "      <td>2013/35</td>\n",
       "      <td>2013/js'</td>\n",
       "      <td>SOSYAL GÜVENLİK KURUMU, ANALIK İSTİRAHAT RAPORU VE MESLEK HASTALIĞI BİLDİRİMİ HAKKINDA</td>\n",
       "      <td>https://kms.kaysis.gov.tr/Home/Goster/67782</td>\n",
       "      <td>Genelge</td>\n",
       "      <td>T.C.\\nSOSYAL GÜVENLİK KURUMU BAŞKANLIĞI \\n\\nEmeklilik Hizmetleri Genel Müdürlüğü\\n\\nSayı : 25029274-1093/46/285- \\nKonu : Analık İstirahat Raporları ve Meslek Llastalığı \\n\\nBildirimi Hlc.\\n\\nOj.Ho.l 2013\\n\\n| b\\n\\nGENELGE \\n2013/ JS'\\n\\nKurumla ...</td>\n",
       "    </tr>\n",
       "    <tr>\n",
       "      <th>1177</th>\n",
       "      <td>2013/18</td>\n",
       "      <td>t.c.</td>\n",
       "      <td>SOSYAL GÜVENLİK KURUMU, 3201 SAYILI KANUNA GÖRE TAHAKKUK ETTİRİLEN BORÇLARIN YURTDIŞINDAN ÖDENMESİ HAKKINDA GENELGE</td>\n",
       "      <td>https://kms.kaysis.gov.tr/Home/Goster/68870</td>\n",
       "      <td>Genelge</td>\n",
       "      <td>T.C.\\nSOSYAL GÜVENLİK KURUMU BAŞKANLIĞI \\n\\nEmeklilik Hizmetleri Genel Müdürlüğü\\n\\nSayı : 70809318.0lO.O6.O2/jfcj J2 12 -1*\\n\\nUd ! i ■ siı.r11 I U'N'A lAjite JLişLiuı V\\n...it -o M'k ı’n\\ Ti çlckMoıuk viıî w</td>\n",
       "    </tr>\n",
       "    <tr>\n",
       "      <th>1180</th>\n",
       "      <td>2012/26</td>\n",
       "      <td>2012!.l(o</td>\n",
       "      <td>SOSYAL GÜVENLİK KURUMU, ÜNVAN BAZINDA İŞ/GÖREV TANIMLARI KİTABI REVİZYONU HAKKINDA GENELGE</td>\n",
       "      <td>https://kms.kaysis.gov.tr/Home/Goster/57289</td>\n",
       "      <td>Genelge</td>\n",
       "      <td>T.C.\\nSOSYAL GÜVENLİK KURUMU BAŞKANLIĞI \\n\\nStrateji Geliştirme Başkanlığı\\n\\nSayı : B.13.2.SGK.0.65.04.02/ 5\\nKonu : “Unvan Bazında İş/Görev Tanımları Kitabı” revizyonu\\n\\nlS/&gt;/2012\\n\\nGENELGE\\n2012 !.l(o\\n\\n10/12/2003 tarihli ve 5018 sayılı Kam...</td>\n",
       "    </tr>\n",
       "  </tbody>\n",
       "</table>\n",
       "</div>"
      ],
      "text/plain": [
       "     mevzuat_no mevzuat_no_pred  \\\n",
       "1015    2007/ 1          2007/1   \n",
       "1016    2006/ 1          2006/1   \n",
       "1018   1999 / 5          1999/5   \n",
       "1105     2001/4         2001/14   \n",
       "1125       1667         2008/17   \n",
       "1126       1678          2009/7   \n",
       "1139    1046330          2017/1   \n",
       "1140    2017/07          2017/7   \n",
       "1152    2015/28         2014/28   \n",
       "1158    2015/11          2015/h   \n",
       "1160     2015/9          2015/^   \n",
       "1162    2015/01         2015/a.   \n",
       "1165    2014/27           2014/   \n",
       "1166    2014/22     *2014/ps,2^   \n",
       "1169    2014/11         2014///   \n",
       "1174    2013/35        2013/js'   \n",
       "1177    2013/18            t.c.   \n",
       "1180    2012/26       2012!.l(o   \n",
       "\n",
       "                                                                                                                                 baslik  \\\n",
       "1015                                                      GELİR İDARESİ BAŞKANLIĞI, VERGİ KİMLİK NUMARASI İÇ GENELGESİ SERİ NO: 2007/ 1   \n",
       "1016                                                      GELİR İDARESİ BAŞKANLIĞI, VERGİ KİMLİK NUMARASI İÇ GENELGESİ SERİ NO: 2006/ 1   \n",
       "1018                                                                 GELİR İDARESİ BAŞKANLIĞI, UYGULAMA İÇ GENELGESİ SERİ NO : 1999 / 5   \n",
       "1105                                                  Tapu ve Kadastro Genel Müdürlüğü, 2001/14 Sayılı \"Bölge Arşivleri\" Konulu Genelge   \n",
       "1125         Tapu ve Kadastro Genel Müdürlüğü, 2008/17 Sayılı \"Vakıflar Yönetmeliği Hk. (2008/9 sayılı Genelgeye ektir)\" Konulu Genelge   \n",
       "1126  Tapu ve Kadastro Genel Müdürlüğü,2009/7 Sayılı \"Kadastro Çalışmalarında Tespit Harici Bırakılan Yerlerde Uygulama\" Konulu Genelge   \n",
       "1139                                                                                      SOSYAL GÜVENLİK KURUMU, 2017/1 SAYILI GENELGE   \n",
       "1140                                                      SOSYAL GÜVENLİK KURUMU, 2017/7 SAYILI GENELGE SİGORTA PRİMLERİNİN ERTELENMESİ   \n",
       "1152                                                                                     SOSYAL GÜVENLİK KURUMU, 2014/28 SAYILI GENELGE   \n",
       "1158                                    SOSYAL GÜVENLİK KURUMU, 2014/26 SAYILI GENELGEDE GSS SÜRELERİYLE İLİGİLİ YAPILAN DEĞİŞİKİLİKLER   \n",
       "1160                                                           SOSYAL GÜVENLİK KURUMU, 3201 SAYILI KANUNUN UYGULANMASI HAKKINDA GENELGE   \n",
       "1162                                                             SOSYAL GÜVENLİK KURUMU, 2014/26 SAYILI GENELGEDE YAPILAN DEĞİŞİKLİKLER   \n",
       "1165                                                  SOSYAL GÜVENLİK KURUMU, 3201 SAYILI KANUNDA YAPILAN DEĞİŞİKLİKLER HAKKINDA GENLGE   \n",
       "1166                                           SOSYAL GÜVENLİK KURUMU, AYLIK BAĞLANDIKTAN SONRA YURTDIŞINDA ÇALIŞANLAR HAKKINDA GENELGE   \n",
       "1169                                             SOSYAL GÜVENLİK KURUMU, 2013/39 SAYILI GENELGEDE DEĞİŞİKLİK YAPILMASI HAKKINDA GENELGE   \n",
       "1174                                             SOSYAL GÜVENLİK KURUMU, ANALIK İSTİRAHAT RAPORU VE MESLEK HASTALIĞI BİLDİRİMİ HAKKINDA   \n",
       "1177                SOSYAL GÜVENLİK KURUMU, 3201 SAYILI KANUNA GÖRE TAHAKKUK ETTİRİLEN BORÇLARIN YURTDIŞINDAN ÖDENMESİ HAKKINDA GENELGE   \n",
       "1180                                         SOSYAL GÜVENLİK KURUMU, ÜNVAN BAZINDA İŞ/GÖREV TANIMLARI KİTABI REVİZYONU HAKKINDA GENELGE   \n",
       "\n",
       "                                                                                                                                 url  \\\n",
       "1015                                                                                                http://www.gib.gov.tr/node/89380   \n",
       "1016                                                                                                http://www.gib.gov.tr/node/89369   \n",
       "1018                                                                                                http://www.gib.gov.tr/node/89378   \n",
       "1105                                                   http://www.tkgm.gov.tr/tr/icerik/200114-sayili-bolge-arsivleri-konulu-genelge   \n",
       "1125              http://www.tkgm.gov.tr/tr/icerik/200817-sayili-vakiflar-yonetmeligi-hk-20089-sayili-genelgeye-ektir-konulu-genelge   \n",
       "1126  http://www.tkgm.gov.tr/tr/icerik/20097-sayili-kadastro-calismalarinda-tespit-harici-birakilan-yerlerde-uygulama-konulu-genelge   \n",
       "1139                                                                                    https://kms.kaysis.gov.tr/Home/Goster/105981   \n",
       "1140                                                                                     https://kms.kaysis.gov.tr/Home/Goster/96320   \n",
       "1152                                                                                     https://kms.kaysis.gov.tr/Home/Goster/69818   \n",
       "1158                                                                                     https://kms.kaysis.gov.tr/Home/Goster/57268   \n",
       "1160                                                                                     https://kms.kaysis.gov.tr/Home/Goster/68882   \n",
       "1162                                                                                     https://kms.kaysis.gov.tr/Home/Goster/57379   \n",
       "1165                                                                                     https://kms.kaysis.gov.tr/Home/Goster/68877   \n",
       "1166                                                                                     https://kms.kaysis.gov.tr/Home/Goster/68876   \n",
       "1169                                                                                     https://kms.kaysis.gov.tr/Home/Goster/68874   \n",
       "1174                                                                                     https://kms.kaysis.gov.tr/Home/Goster/67782   \n",
       "1177                                                                                     https://kms.kaysis.gov.tr/Home/Goster/68870   \n",
       "1180                                                                                     https://kms.kaysis.gov.tr/Home/Goster/57289   \n",
       "\n",
       "     kategori  \\\n",
       "1015  Genelge   \n",
       "1016  Genelge   \n",
       "1018  Genelge   \n",
       "1105  Genelge   \n",
       "1125  Genelge   \n",
       "1126  Genelge   \n",
       "1139  Genelge   \n",
       "1140  Genelge   \n",
       "1152  Genelge   \n",
       "1158  Genelge   \n",
       "1160  Genelge   \n",
       "1162  Genelge   \n",
       "1165  Genelge   \n",
       "1166  Genelge   \n",
       "1169  Genelge   \n",
       "1174  Genelge   \n",
       "1177  Genelge   \n",
       "1180  Genelge   \n",
       "\n",
       "                                                                                                                                                                                                                                                      data_text  \n",
       "1015  VERGİ KİMLİK NUMARASI İÇ GENELGESİ SERİ NO: 2007/ 1\\n\\nTarih 06/07/2007\\n\\nSayı B.07.1.GİB.0.05.70/7033-158-60338\\n\\nKapsam \\n\\nT.C.\\n\\nMALİYE BAKANLIĞI\\n\\nGelir İdaresi BaşkanlığI\\n\\nSayı: B.07.1.GİB.0.05.70/7033-158-60338\\n\\nVERGİ KİMLİK NUMARA...  \n",
       "1016  VERGİ KİMLİK NUMARASI İÇ GENELGESİ SERİ NO: 2006/ 1\\n\\nTarih 31/10/2006\\n\\nSayı B.07.1.GİB.0.05.70/7033-158-84223\\n\\nKapsam \\n\\nT.C.\\n\\nMALİYE BAKANLIĞI\\n\\nGelir İdaresi Başkanlığı\\n\\nSayı : B.07.1.GİB.0.05.70/7033-158-84223\\n\\nVERGİ KİMLİK NUMAR...  \n",
       "1018  UYGULAMA İÇ GENELGESİ SERİ NO : 1999 / 5\\n\\nTarih 01/12/1999\\n\\nSayı B.07.0.GEL.0.71-7100-55/52802\\n\\nKapsam \\n\\nT.C.\\n\\nMALİYE BAKANLIĞI\\n\\nGelirler Genel Müdürlüğü\\n\\nSAYI : B.07.0.GEL.0.71-7100-55/52802\\n\\nUYGULAMA İÇ GENELGESİ SERİ NO : 1999 ...  \n",
       "1105  Tapu ve Kadastro Genel Müdürlüğü, 2001/14 Sayılı \"Bölge Arşivleri\" Konulu Genelge \\n\\nT.C. BAŞBAKANLIK \\n\\nTAPU VE KADASTRO GENEL MÜDÜRLÜĞÜ \\n\\nTapu Arşiv Dairesi Başkanlığı \\n\\nSayı : B021TKG0150006-4109 Ankara \\n\\nKonu: \\n\\nGenelge \\n\\nTAPU VE ...  \n",
       "1125  Tapu ve Kadastro Genel Müdürlüğü, 2008/17 Sayılı \"Vakıflar Yönetmeliği Hk. (2008/9 sayılı Genelgeye ektir)\" Konulu Genelge \\n\\nT.C.BAYINDIRLIK VE İSKAN BAKANLIĞI \\n\\nTapu ve Kadastro Genel Müdürlüğü Tasarruf İşlemleri Dairesi Başkanlığı \\n\\nSayı ...  \n",
       "1126  Tapu ve Kadastro Genel Müdürlüğü,2009/7 Sayılı \"Kadastro Çalışmalarında Tespit Harici Bırakılan Yerlerde Uygulama\" Konulu Genelge \\n\\n\\n\\n\\n\\nT.C.BAYINDIRLIK VE İSKAN BAKANLIĞI \\n\\nTapu ve Kadastro Genel Müdürlüğü Tasarruf İşlemleri Dairesi Başka...  \n",
       "1139  T.C.\\nSOSYAL GÜVENLİK KURUMU BAŞKANLIĞI \\n\\nStrateji Geliştirme Başkanlığı\\n\\ni rSayı\\nU\\n\\n32945953-010.06.01-E. 1046330 23/02/2017\\nKonu-: Strateji Geliştirme Başkanlığı Daire Başkanlıktan \\n\\nve Alt Birimlerin Görev Tanımlan\\ni\\n\\nİÇ GENELGE \\...  \n",
       "1140  T.C.\\nSOSYAL GÜVENLİK KURUMU BAŞKANLIĞI \\n\\nSigorta Primleri Genel Müdürlüğü\\n\\nSayı : 89075644-202.99-E.695085 07/02/2017\\nKonu : Sigorta primlerinin ertelenmesi\\n\\nGENELGE\\n2017-7\\n\\n18/1/2017 tarihli, 6770 sayılı Türkiye Cumhuriyeti Emekli San...  \n",
       "1152  TC\\nsosyal güvenlik kurumu başkanliği\\n\\nSigorta Primleri Genel Müdürlüğü\\n\\nSayı : 82200845/01006/6654040 30/12/2015\\nKonu : 2014/28 Sayılı Genelge\\n\\nGENELGE \\n2015 / 2j3\\n\\n20/10/2014 tarihli ve 2014/28 sayılı Genelgenin \"Çakışan süreler içind...  \n",
       "1158  T.C.\\nSOSYAL GÜVENLİK KURUMU BAŞKANLIĞI \\n\\nSigorta Primleri Genel Müdürlüğü\\n\\nSayı : 63665751 - /Ü» <#./<#/2015\\nKonu : 2014/26 sayılı Genelgede GSS \\nsüreleriyle ilgili yapılan değişiklikler\\n\\nGENELGE \\n2015- H\\n\\n6552 sayılı Kanunla 5510 say...  \n",
       "1160  T.C.\\nSOSYAL GÜVENLİK KURUMU BAŞKANLIĞI \\n\\nEmeklilik Hizmetleri Genel Müdürlüğü\\n\\nSayı : 70809318.010.06.02/ Uf ^ Ol/ti/2015\\nKonu : 3201 sayılı Kanunun uygulanması\\n\\nGENELGE \\n2015/ ^\\n\\n08/05/1985 tarih, 3201 sayılı “Yurtdışında Bulunan Türk...  \n",
       "1162  T.C.\\nSOSYAL GÜVENLİK KURUMU BAŞKANLIĞI \\n\\nSigorta Primleri Genel Müdürlüğü\\n\\nSayı : 64399925/031- °5.lJLt.2015\\nKonu : 2014/26 sayılı Genelgede yapılan \\n\\ndeğişiklikler\\n\\nGENELGE \\n\\n2015- A.\\n\\nBilindiği üzere, 6552 sayılı Kanunla 5510 sayı...  \n",
       "1165  T.C.\\nSOSYAL GÜVENLİK KURUMU BAŞKANLIĞI\\n\\nEmeklilik Hizmetleri Genel Müdürlüğü\\n\\nSayı : 70809318.010.06.02/ J?/? Z*j l°Jl2014\\nKonu : 3201 sayılı Kanunda \\n\\nyapılan değişiklikler\\n\\nGENELGE\\n2014/\\n\\n10/9/2014 tarihli ve 6552 sayılı İş Kanunu ...  \n",
       "1166  « T.C.\\nSOSYAL GÜVENLİK KURUMU BAŞKANLIĞI \\n\\nEmeklilik Hizmetleri Genel Müdürlüğü\\n\\nSayı : 70809318.010.06.02/ £ _26| ££/.?*/2014\\nKonu : Aylık bağlandıktan sonra \\n\\nyurtdışmda çalışanlar\\n■ \\\\n\\nGENELGE \\n• 2014/ £,2^\\n\\n5510 sayılı Sosyal Si...  \n",
       "1169  T.C.\\nSOSYAL GÜVENLİK KURUMU BAŞKANLIĞI \\n\\nEmeklilik Hizmetleri Genel Müdürlüğü\\n\\nSayı : 70809318.010.06.02/ 590 2% fcfylOlA\\nKonu : 2013/39 sayılı Genelge\\n\\nGENELGE \\n2014/ //\\n\\nSosyal güvenlik sözleşmeleri uygulamalarına ilişkin yayımlanan ...  \n",
       "1174  T.C.\\nSOSYAL GÜVENLİK KURUMU BAŞKANLIĞI \\n\\nEmeklilik Hizmetleri Genel Müdürlüğü\\n\\nSayı : 25029274-1093/46/285- \\nKonu : Analık İstirahat Raporları ve Meslek Llastalığı \\n\\nBildirimi Hlc.\\n\\nOj.Ho.l 2013\\n\\n| b\\n\\nGENELGE \\n2013/ JS'\\n\\nKurumla ...  \n",
       "1177                                          T.C.\\nSOSYAL GÜVENLİK KURUMU BAŞKANLIĞI \\n\\nEmeklilik Hizmetleri Genel Müdürlüğü\\n\\nSayı : 70809318.0lO.O6.O2/jfcj J2 12 -1*\\n\\nUd ! i ■ siı.r11 I U'N'A lAjite JLişLiuı V\\n...it -o M'k ı’n\\ Ti çlckMoıuk viıî w  \n",
       "1180  T.C.\\nSOSYAL GÜVENLİK KURUMU BAŞKANLIĞI \\n\\nStrateji Geliştirme Başkanlığı\\n\\nSayı : B.13.2.SGK.0.65.04.02/ 5\\nKonu : “Unvan Bazında İş/Görev Tanımları Kitabı” revizyonu\\n\\nlS/>/2012\\n\\nGENELGE\\n2012 !.l(o\\n\\n10/12/2003 tarihli ve 5018 sayılı Kam...  "
      ]
     },
     "execution_count": 19,
     "metadata": {},
     "output_type": "execute_result"
    }
   ],
   "source": [
    "show_false_predictions(input_df=df,\n",
    "                       feature_extractor=mevzuat_no_extractor,\n",
    "                       cols=[\"baslik\", \"url\", \"kategori\", \"data_text\"],\n",
    "                       include_na=False,\n",
    "                       first_n=25)"
   ]
  },
  {
   "cell_type": "code",
   "execution_count": 20,
   "id": "1ffe4a6c",
   "metadata": {},
   "outputs": [
    {
     "data": {
      "text/plain": [
       "['Kanun',\n",
       " 'Kanun Hükmünde Kararname',\n",
       " 'Genelge',\n",
       " 'Cumhurbaşkanlığı Kararnamesi',\n",
       " 'Tüzük',\n",
       " 'Yönetmelik']"
      ]
     },
     "execution_count": 20,
     "metadata": {},
     "output_type": "execute_result"
    }
   ],
   "source": [
    "constants.COLS_MEVZUAT_NO"
   ]
  },
  {
   "cell_type": "code",
   "execution_count": 21,
   "id": "b82dc4e9",
   "metadata": {
    "scrolled": true
   },
   "outputs": [
    {
     "name": "stdout",
     "output_type": "stream",
     "text": [
      "Veri Sayisi: 154\n",
      "Dogru Tahmin Sayisi: 142\n",
      "Yanlis Tahmin Sayisi: 12\n",
      "Basari Orani: 0.9221\n"
     ]
    },
    {
     "data": {
      "text/html": [
       "<div>\n",
       "<style scoped>\n",
       "    .dataframe tbody tr th:only-of-type {\n",
       "        vertical-align: middle;\n",
       "    }\n",
       "\n",
       "    .dataframe tbody tr th {\n",
       "        vertical-align: top;\n",
       "    }\n",
       "\n",
       "    .dataframe thead th {\n",
       "        text-align: right;\n",
       "    }\n",
       "</style>\n",
       "<table border=\"1\" class=\"dataframe\">\n",
       "  <thead>\n",
       "    <tr style=\"text-align: right;\">\n",
       "      <th></th>\n",
       "      <th>mevzuat_no</th>\n",
       "      <th>mevzuat_no_pred</th>\n",
       "      <th>baslik</th>\n",
       "      <th>url</th>\n",
       "      <th>kategori</th>\n",
       "      <th>data_text</th>\n",
       "    </tr>\n",
       "  </thead>\n",
       "  <tbody>\n",
       "    <tr>\n",
       "      <th>1139</th>\n",
       "      <td>1046330</td>\n",
       "      <td>2017/1</td>\n",
       "      <td>SOSYAL GÜVENLİK KURUMU, 2017/1 SAYILI GENELGE</td>\n",
       "      <td>https://kms.kaysis.gov.tr/Home/Goster/105981</td>\n",
       "      <td>Genelge</td>\n",
       "      <td>T.C.\\nSOSYAL GÜVENLİK KURUMU BAŞKANLIĞI \\n\\nStrateji Geliştirme Başkanlığı\\n\\ni rSayı\\nU\\n\\n32945953-010.06.01-E. 1046330 23/02/2017\\nKonu-: Strateji Geliştirme Başkanlığı Daire Başkanlıktan \\n\\nve Alt Birimlerin Görev Tanımlan\\ni\\n\\nİÇ GENELGE \\...</td>\n",
       "    </tr>\n",
       "    <tr>\n",
       "      <th>1140</th>\n",
       "      <td>2017/07</td>\n",
       "      <td>2017/7</td>\n",
       "      <td>SOSYAL GÜVENLİK KURUMU, 2017/7 SAYILI GENELGE SİGORTA PRİMLERİNİN ERTELENMESİ</td>\n",
       "      <td>https://kms.kaysis.gov.tr/Home/Goster/96320</td>\n",
       "      <td>Genelge</td>\n",
       "      <td>T.C.\\nSOSYAL GÜVENLİK KURUMU BAŞKANLIĞI \\n\\nSigorta Primleri Genel Müdürlüğü\\n\\nSayı : 89075644-202.99-E.695085 07/02/2017\\nKonu : Sigorta primlerinin ertelenmesi\\n\\nGENELGE\\n2017-7\\n\\n18/1/2017 tarihli, 6770 sayılı Türkiye Cumhuriyeti Emekli San...</td>\n",
       "    </tr>\n",
       "    <tr>\n",
       "      <th>1152</th>\n",
       "      <td>2015/28</td>\n",
       "      <td>2014/28</td>\n",
       "      <td>SOSYAL GÜVENLİK KURUMU, 2014/28 SAYILI GENELGE</td>\n",
       "      <td>https://kms.kaysis.gov.tr/Home/Goster/69818</td>\n",
       "      <td>Genelge</td>\n",
       "      <td>TC\\nsosyal güvenlik kurumu başkanliği\\n\\nSigorta Primleri Genel Müdürlüğü\\n\\nSayı : 82200845/01006/6654040 30/12/2015\\nKonu : 2014/28 Sayılı Genelge\\n\\nGENELGE \\n2015 / 2j3\\n\\n20/10/2014 tarihli ve 2014/28 sayılı Genelgenin \"Çakışan süreler içind...</td>\n",
       "    </tr>\n",
       "    <tr>\n",
       "      <th>1158</th>\n",
       "      <td>2015/11</td>\n",
       "      <td>2015/h</td>\n",
       "      <td>SOSYAL GÜVENLİK KURUMU, 2014/26 SAYILI GENELGEDE GSS SÜRELERİYLE İLİGİLİ YAPILAN DEĞİŞİKİLİKLER</td>\n",
       "      <td>https://kms.kaysis.gov.tr/Home/Goster/57268</td>\n",
       "      <td>Genelge</td>\n",
       "      <td>T.C.\\nSOSYAL GÜVENLİK KURUMU BAŞKANLIĞI \\n\\nSigorta Primleri Genel Müdürlüğü\\n\\nSayı : 63665751 - /Ü» &lt;#./&lt;#/2015\\nKonu : 2014/26 sayılı Genelgede GSS \\nsüreleriyle ilgili yapılan değişiklikler\\n\\nGENELGE \\n2015- H\\n\\n6552 sayılı Kanunla 5510 say...</td>\n",
       "    </tr>\n",
       "    <tr>\n",
       "      <th>1160</th>\n",
       "      <td>2015/9</td>\n",
       "      <td>2015/^</td>\n",
       "      <td>SOSYAL GÜVENLİK KURUMU, 3201 SAYILI KANUNUN UYGULANMASI HAKKINDA GENELGE</td>\n",
       "      <td>https://kms.kaysis.gov.tr/Home/Goster/68882</td>\n",
       "      <td>Genelge</td>\n",
       "      <td>T.C.\\nSOSYAL GÜVENLİK KURUMU BAŞKANLIĞI \\n\\nEmeklilik Hizmetleri Genel Müdürlüğü\\n\\nSayı : 70809318.010.06.02/ Uf ^ Ol/ti/2015\\nKonu : 3201 sayılı Kanunun uygulanması\\n\\nGENELGE \\n2015/ ^\\n\\n08/05/1985 tarih, 3201 sayılı “Yurtdışında Bulunan Türk...</td>\n",
       "    </tr>\n",
       "    <tr>\n",
       "      <th>1162</th>\n",
       "      <td>2015/01</td>\n",
       "      <td>2015/a.</td>\n",
       "      <td>SOSYAL GÜVENLİK KURUMU, 2014/26 SAYILI GENELGEDE YAPILAN DEĞİŞİKLİKLER</td>\n",
       "      <td>https://kms.kaysis.gov.tr/Home/Goster/57379</td>\n",
       "      <td>Genelge</td>\n",
       "      <td>T.C.\\nSOSYAL GÜVENLİK KURUMU BAŞKANLIĞI \\n\\nSigorta Primleri Genel Müdürlüğü\\n\\nSayı : 64399925/031- °5.lJLt.2015\\nKonu : 2014/26 sayılı Genelgede yapılan \\n\\ndeğişiklikler\\n\\nGENELGE \\n\\n2015- A.\\n\\nBilindiği üzere, 6552 sayılı Kanunla 5510 sayı...</td>\n",
       "    </tr>\n",
       "    <tr>\n",
       "      <th>1165</th>\n",
       "      <td>2014/27</td>\n",
       "      <td>2014/</td>\n",
       "      <td>SOSYAL GÜVENLİK KURUMU, 3201 SAYILI KANUNDA YAPILAN DEĞİŞİKLİKLER HAKKINDA GENLGE</td>\n",
       "      <td>https://kms.kaysis.gov.tr/Home/Goster/68877</td>\n",
       "      <td>Genelge</td>\n",
       "      <td>T.C.\\nSOSYAL GÜVENLİK KURUMU BAŞKANLIĞI\\n\\nEmeklilik Hizmetleri Genel Müdürlüğü\\n\\nSayı : 70809318.010.06.02/ J?/? Z*j l°Jl2014\\nKonu : 3201 sayılı Kanunda \\n\\nyapılan değişiklikler\\n\\nGENELGE\\n2014/\\n\\n10/9/2014 tarihli ve 6552 sayılı İş Kanunu ...</td>\n",
       "    </tr>\n",
       "    <tr>\n",
       "      <th>1166</th>\n",
       "      <td>2014/22</td>\n",
       "      <td>*2014/ps,2^</td>\n",
       "      <td>SOSYAL GÜVENLİK KURUMU, AYLIK BAĞLANDIKTAN SONRA YURTDIŞINDA ÇALIŞANLAR HAKKINDA GENELGE</td>\n",
       "      <td>https://kms.kaysis.gov.tr/Home/Goster/68876</td>\n",
       "      <td>Genelge</td>\n",
       "      <td>« T.C.\\nSOSYAL GÜVENLİK KURUMU BAŞKANLIĞI \\n\\nEmeklilik Hizmetleri Genel Müdürlüğü\\n\\nSayı : 70809318.010.06.02/ £ _26| ££/.?*/2014\\nKonu : Aylık bağlandıktan sonra \\n\\nyurtdışmda çalışanlar\\n■ \\\\n\\nGENELGE \\n• 2014/ £,2^\\n\\n5510 sayılı Sosyal Si...</td>\n",
       "    </tr>\n",
       "    <tr>\n",
       "      <th>1169</th>\n",
       "      <td>2014/11</td>\n",
       "      <td>2014///</td>\n",
       "      <td>SOSYAL GÜVENLİK KURUMU, 2013/39 SAYILI GENELGEDE DEĞİŞİKLİK YAPILMASI HAKKINDA GENELGE</td>\n",
       "      <td>https://kms.kaysis.gov.tr/Home/Goster/68874</td>\n",
       "      <td>Genelge</td>\n",
       "      <td>T.C.\\nSOSYAL GÜVENLİK KURUMU BAŞKANLIĞI \\n\\nEmeklilik Hizmetleri Genel Müdürlüğü\\n\\nSayı : 70809318.010.06.02/ 590 2% fcfylOlA\\nKonu : 2013/39 sayılı Genelge\\n\\nGENELGE \\n2014/ //\\n\\nSosyal güvenlik sözleşmeleri uygulamalarına ilişkin yayımlanan ...</td>\n",
       "    </tr>\n",
       "    <tr>\n",
       "      <th>1174</th>\n",
       "      <td>2013/35</td>\n",
       "      <td>2013/js'</td>\n",
       "      <td>SOSYAL GÜVENLİK KURUMU, ANALIK İSTİRAHAT RAPORU VE MESLEK HASTALIĞI BİLDİRİMİ HAKKINDA</td>\n",
       "      <td>https://kms.kaysis.gov.tr/Home/Goster/67782</td>\n",
       "      <td>Genelge</td>\n",
       "      <td>T.C.\\nSOSYAL GÜVENLİK KURUMU BAŞKANLIĞI \\n\\nEmeklilik Hizmetleri Genel Müdürlüğü\\n\\nSayı : 25029274-1093/46/285- \\nKonu : Analık İstirahat Raporları ve Meslek Llastalığı \\n\\nBildirimi Hlc.\\n\\nOj.Ho.l 2013\\n\\n| b\\n\\nGENELGE \\n2013/ JS'\\n\\nKurumla ...</td>\n",
       "    </tr>\n",
       "    <tr>\n",
       "      <th>1177</th>\n",
       "      <td>2013/18</td>\n",
       "      <td>t.c.</td>\n",
       "      <td>SOSYAL GÜVENLİK KURUMU, 3201 SAYILI KANUNA GÖRE TAHAKKUK ETTİRİLEN BORÇLARIN YURTDIŞINDAN ÖDENMESİ HAKKINDA GENELGE</td>\n",
       "      <td>https://kms.kaysis.gov.tr/Home/Goster/68870</td>\n",
       "      <td>Genelge</td>\n",
       "      <td>T.C.\\nSOSYAL GÜVENLİK KURUMU BAŞKANLIĞI \\n\\nEmeklilik Hizmetleri Genel Müdürlüğü\\n\\nSayı : 70809318.0lO.O6.O2/jfcj J2 12 -1*\\n\\nUd ! i ■ siı.r11 I U'N'A lAjite JLişLiuı V\\n...it -o M'k ı’n\\ Ti çlckMoıuk viıî w</td>\n",
       "    </tr>\n",
       "    <tr>\n",
       "      <th>1180</th>\n",
       "      <td>2012/26</td>\n",
       "      <td>2012!.l(o</td>\n",
       "      <td>SOSYAL GÜVENLİK KURUMU, ÜNVAN BAZINDA İŞ/GÖREV TANIMLARI KİTABI REVİZYONU HAKKINDA GENELGE</td>\n",
       "      <td>https://kms.kaysis.gov.tr/Home/Goster/57289</td>\n",
       "      <td>Genelge</td>\n",
       "      <td>T.C.\\nSOSYAL GÜVENLİK KURUMU BAŞKANLIĞI \\n\\nStrateji Geliştirme Başkanlığı\\n\\nSayı : B.13.2.SGK.0.65.04.02/ 5\\nKonu : “Unvan Bazında İş/Görev Tanımları Kitabı” revizyonu\\n\\nlS/&gt;/2012\\n\\nGENELGE\\n2012 !.l(o\\n\\n10/12/2003 tarihli ve 5018 sayılı Kam...</td>\n",
       "    </tr>\n",
       "  </tbody>\n",
       "</table>\n",
       "</div>"
      ],
      "text/plain": [
       "     mevzuat_no mevzuat_no_pred  \\\n",
       "1139    1046330          2017/1   \n",
       "1140    2017/07          2017/7   \n",
       "1152    2015/28         2014/28   \n",
       "1158    2015/11          2015/h   \n",
       "1160     2015/9          2015/^   \n",
       "1162    2015/01         2015/a.   \n",
       "1165    2014/27           2014/   \n",
       "1166    2014/22     *2014/ps,2^   \n",
       "1169    2014/11         2014///   \n",
       "1174    2013/35        2013/js'   \n",
       "1177    2013/18            t.c.   \n",
       "1180    2012/26       2012!.l(o   \n",
       "\n",
       "                                                                                                                   baslik  \\\n",
       "1139                                                                        SOSYAL GÜVENLİK KURUMU, 2017/1 SAYILI GENELGE   \n",
       "1140                                        SOSYAL GÜVENLİK KURUMU, 2017/7 SAYILI GENELGE SİGORTA PRİMLERİNİN ERTELENMESİ   \n",
       "1152                                                                       SOSYAL GÜVENLİK KURUMU, 2014/28 SAYILI GENELGE   \n",
       "1158                      SOSYAL GÜVENLİK KURUMU, 2014/26 SAYILI GENELGEDE GSS SÜRELERİYLE İLİGİLİ YAPILAN DEĞİŞİKİLİKLER   \n",
       "1160                                             SOSYAL GÜVENLİK KURUMU, 3201 SAYILI KANUNUN UYGULANMASI HAKKINDA GENELGE   \n",
       "1162                                               SOSYAL GÜVENLİK KURUMU, 2014/26 SAYILI GENELGEDE YAPILAN DEĞİŞİKLİKLER   \n",
       "1165                                    SOSYAL GÜVENLİK KURUMU, 3201 SAYILI KANUNDA YAPILAN DEĞİŞİKLİKLER HAKKINDA GENLGE   \n",
       "1166                             SOSYAL GÜVENLİK KURUMU, AYLIK BAĞLANDIKTAN SONRA YURTDIŞINDA ÇALIŞANLAR HAKKINDA GENELGE   \n",
       "1169                               SOSYAL GÜVENLİK KURUMU, 2013/39 SAYILI GENELGEDE DEĞİŞİKLİK YAPILMASI HAKKINDA GENELGE   \n",
       "1174                               SOSYAL GÜVENLİK KURUMU, ANALIK İSTİRAHAT RAPORU VE MESLEK HASTALIĞI BİLDİRİMİ HAKKINDA   \n",
       "1177  SOSYAL GÜVENLİK KURUMU, 3201 SAYILI KANUNA GÖRE TAHAKKUK ETTİRİLEN BORÇLARIN YURTDIŞINDAN ÖDENMESİ HAKKINDA GENELGE   \n",
       "1180                           SOSYAL GÜVENLİK KURUMU, ÜNVAN BAZINDA İŞ/GÖREV TANIMLARI KİTABI REVİZYONU HAKKINDA GENELGE   \n",
       "\n",
       "                                               url kategori  \\\n",
       "1139  https://kms.kaysis.gov.tr/Home/Goster/105981  Genelge   \n",
       "1140   https://kms.kaysis.gov.tr/Home/Goster/96320  Genelge   \n",
       "1152   https://kms.kaysis.gov.tr/Home/Goster/69818  Genelge   \n",
       "1158   https://kms.kaysis.gov.tr/Home/Goster/57268  Genelge   \n",
       "1160   https://kms.kaysis.gov.tr/Home/Goster/68882  Genelge   \n",
       "1162   https://kms.kaysis.gov.tr/Home/Goster/57379  Genelge   \n",
       "1165   https://kms.kaysis.gov.tr/Home/Goster/68877  Genelge   \n",
       "1166   https://kms.kaysis.gov.tr/Home/Goster/68876  Genelge   \n",
       "1169   https://kms.kaysis.gov.tr/Home/Goster/68874  Genelge   \n",
       "1174   https://kms.kaysis.gov.tr/Home/Goster/67782  Genelge   \n",
       "1177   https://kms.kaysis.gov.tr/Home/Goster/68870  Genelge   \n",
       "1180   https://kms.kaysis.gov.tr/Home/Goster/57289  Genelge   \n",
       "\n",
       "                                                                                                                                                                                                                                                      data_text  \n",
       "1139  T.C.\\nSOSYAL GÜVENLİK KURUMU BAŞKANLIĞI \\n\\nStrateji Geliştirme Başkanlığı\\n\\ni rSayı\\nU\\n\\n32945953-010.06.01-E. 1046330 23/02/2017\\nKonu-: Strateji Geliştirme Başkanlığı Daire Başkanlıktan \\n\\nve Alt Birimlerin Görev Tanımlan\\ni\\n\\nİÇ GENELGE \\...  \n",
       "1140  T.C.\\nSOSYAL GÜVENLİK KURUMU BAŞKANLIĞI \\n\\nSigorta Primleri Genel Müdürlüğü\\n\\nSayı : 89075644-202.99-E.695085 07/02/2017\\nKonu : Sigorta primlerinin ertelenmesi\\n\\nGENELGE\\n2017-7\\n\\n18/1/2017 tarihli, 6770 sayılı Türkiye Cumhuriyeti Emekli San...  \n",
       "1152  TC\\nsosyal güvenlik kurumu başkanliği\\n\\nSigorta Primleri Genel Müdürlüğü\\n\\nSayı : 82200845/01006/6654040 30/12/2015\\nKonu : 2014/28 Sayılı Genelge\\n\\nGENELGE \\n2015 / 2j3\\n\\n20/10/2014 tarihli ve 2014/28 sayılı Genelgenin \"Çakışan süreler içind...  \n",
       "1158  T.C.\\nSOSYAL GÜVENLİK KURUMU BAŞKANLIĞI \\n\\nSigorta Primleri Genel Müdürlüğü\\n\\nSayı : 63665751 - /Ü» <#./<#/2015\\nKonu : 2014/26 sayılı Genelgede GSS \\nsüreleriyle ilgili yapılan değişiklikler\\n\\nGENELGE \\n2015- H\\n\\n6552 sayılı Kanunla 5510 say...  \n",
       "1160  T.C.\\nSOSYAL GÜVENLİK KURUMU BAŞKANLIĞI \\n\\nEmeklilik Hizmetleri Genel Müdürlüğü\\n\\nSayı : 70809318.010.06.02/ Uf ^ Ol/ti/2015\\nKonu : 3201 sayılı Kanunun uygulanması\\n\\nGENELGE \\n2015/ ^\\n\\n08/05/1985 tarih, 3201 sayılı “Yurtdışında Bulunan Türk...  \n",
       "1162  T.C.\\nSOSYAL GÜVENLİK KURUMU BAŞKANLIĞI \\n\\nSigorta Primleri Genel Müdürlüğü\\n\\nSayı : 64399925/031- °5.lJLt.2015\\nKonu : 2014/26 sayılı Genelgede yapılan \\n\\ndeğişiklikler\\n\\nGENELGE \\n\\n2015- A.\\n\\nBilindiği üzere, 6552 sayılı Kanunla 5510 sayı...  \n",
       "1165  T.C.\\nSOSYAL GÜVENLİK KURUMU BAŞKANLIĞI\\n\\nEmeklilik Hizmetleri Genel Müdürlüğü\\n\\nSayı : 70809318.010.06.02/ J?/? Z*j l°Jl2014\\nKonu : 3201 sayılı Kanunda \\n\\nyapılan değişiklikler\\n\\nGENELGE\\n2014/\\n\\n10/9/2014 tarihli ve 6552 sayılı İş Kanunu ...  \n",
       "1166  « T.C.\\nSOSYAL GÜVENLİK KURUMU BAŞKANLIĞI \\n\\nEmeklilik Hizmetleri Genel Müdürlüğü\\n\\nSayı : 70809318.010.06.02/ £ _26| ££/.?*/2014\\nKonu : Aylık bağlandıktan sonra \\n\\nyurtdışmda çalışanlar\\n■ \\\\n\\nGENELGE \\n• 2014/ £,2^\\n\\n5510 sayılı Sosyal Si...  \n",
       "1169  T.C.\\nSOSYAL GÜVENLİK KURUMU BAŞKANLIĞI \\n\\nEmeklilik Hizmetleri Genel Müdürlüğü\\n\\nSayı : 70809318.010.06.02/ 590 2% fcfylOlA\\nKonu : 2013/39 sayılı Genelge\\n\\nGENELGE \\n2014/ //\\n\\nSosyal güvenlik sözleşmeleri uygulamalarına ilişkin yayımlanan ...  \n",
       "1174  T.C.\\nSOSYAL GÜVENLİK KURUMU BAŞKANLIĞI \\n\\nEmeklilik Hizmetleri Genel Müdürlüğü\\n\\nSayı : 25029274-1093/46/285- \\nKonu : Analık İstirahat Raporları ve Meslek Llastalığı \\n\\nBildirimi Hlc.\\n\\nOj.Ho.l 2013\\n\\n| b\\n\\nGENELGE \\n2013/ JS'\\n\\nKurumla ...  \n",
       "1177                                          T.C.\\nSOSYAL GÜVENLİK KURUMU BAŞKANLIĞI \\n\\nEmeklilik Hizmetleri Genel Müdürlüğü\\n\\nSayı : 70809318.0lO.O6.O2/jfcj J2 12 -1*\\n\\nUd ! i ■ siı.r11 I U'N'A lAjite JLişLiuı V\\n...it -o M'k ı’n\\ Ti çlckMoıuk viıî w  \n",
       "1180  T.C.\\nSOSYAL GÜVENLİK KURUMU BAŞKANLIĞI \\n\\nStrateji Geliştirme Başkanlığı\\n\\nSayı : B.13.2.SGK.0.65.04.02/ 5\\nKonu : “Unvan Bazında İş/Görev Tanımları Kitabı” revizyonu\\n\\nlS/>/2012\\n\\nGENELGE\\n2012 !.l(o\\n\\n10/12/2003 tarihli ve 5018 sayılı Kam...  "
      ]
     },
     "execution_count": 21,
     "metadata": {},
     "output_type": "execute_result"
    }
   ],
   "source": [
    "filtered_df = filter_dataframe(input_df=df,\n",
    "                               selected_categories=[\"Genelge\"],\n",
    "                               custom_filter_array=[df.url.str.contains(\"kaysis.gov.tr\")]\n",
    "                              )\n",
    "\n",
    "calculate_accuracy(input_df=filtered_df,\n",
    "                   feature_extractor=mevzuat_no_extractor,\n",
    "                   include_na=True)\n",
    "\n",
    "show_false_predictions(input_df=filtered_df,\n",
    "                       feature_extractor=mevzuat_no_extractor,\n",
    "                       cols=[\"baslik\", \"url\", \"kategori\", \"data_text\"],\n",
    "                       include_na=True,\n",
    "                       first_n=20)"
   ]
  },
  {
   "cell_type": "code",
   "execution_count": null,
   "id": "d5b805b4",
   "metadata": {},
   "outputs": [],
   "source": []
  }
 ],
 "metadata": {
  "kernelspec": {
   "display_name": "Python 3 (ipykernel)",
   "language": "python",
   "name": "python3"
  },
  "language_info": {
   "codemirror_mode": {
    "name": "ipython",
    "version": 3
   },
   "file_extension": ".py",
   "mimetype": "text/x-python",
   "name": "python",
   "nbconvert_exporter": "python",
   "pygments_lexer": "ipython3",
   "version": "3.8.12"
  }
 },
 "nbformat": 4,
 "nbformat_minor": 5
}
