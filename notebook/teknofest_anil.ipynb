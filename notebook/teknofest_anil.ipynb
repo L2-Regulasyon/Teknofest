{
 "cells": [
  {
   "cell_type": "code",
   "execution_count": 1,
   "id": "d0b1afb5-06a4-4f6f-ad34-7bdb1d8239bd",
   "metadata": {},
   "outputs": [],
   "source": [
    "%load_ext autoreload\n",
    "%autoreload 2"
   ]
  },
  {
   "cell_type": "code",
   "execution_count": 2,
   "id": "d68fcf47",
   "metadata": {},
   "outputs": [],
   "source": [
    "import sys\n",
    "sys.path.append('../src')"
   ]
  },
  {
   "cell_type": "code",
   "execution_count": 30,
   "id": "d5b48b18",
   "metadata": {},
   "outputs": [],
   "source": [
    "from pathlib import Path\n",
    "import unidecode\n",
    "import pandas as pd\n",
    "\n",
    "import numpy as np\n",
    "import re\n",
    "from tqdm.notebook import tqdm\n",
    "tqdm.pandas()\n",
    "\n",
    "from utils import BelgeSayisiExtractor, MaddeSayisiExtractor, MevzuatNoExtractor\n",
    "from eval_utils import filter_dataframe, show_false_predictions, calculate_accuracy\n",
    "import constants"
   ]
  },
  {
   "cell_type": "code",
   "execution_count": 4,
   "id": "26f3677e-b895-49eb-8e81-bcbcb9323760",
   "metadata": {},
   "outputs": [],
   "source": [
    "pd.options.display.max_columns = 20\n",
    "pd.options.display.max_colwidth = 250"
   ]
  },
  {
   "cell_type": "code",
   "execution_count": 5,
   "id": "34108494-9e5f-4845-8efe-c1a95db7be0e",
   "metadata": {},
   "outputs": [],
   "source": [
    "df = pd.read_csv(\"../data/kanunum-nlp-doc-analysis-dataset.csv\")"
   ]
  },
  {
   "cell_type": "code",
   "execution_count": 6,
   "id": "49c09557-08c3-4da7-aa64-52222906e72b",
   "metadata": {},
   "outputs": [
    {
     "data": {
      "text/plain": [
       "(4142, 16)"
      ]
     },
     "execution_count": 6,
     "metadata": {},
     "output_type": "execute_result"
    }
   ],
   "source": [
    "df.shape"
   ]
  },
  {
   "cell_type": "markdown",
   "id": "29dc8fc5-7c43-4f7b-9668-14f0b32938cb",
   "metadata": {},
   "source": [
    "### Alanlar\n",
    "- **id**                    : İçerik kimliği\n",
    "- **kategori**              : İçerik Türü/Kategorisi\n",
    "- **baslik**                : İçerik Başlığı\n",
    "- **rega_no**               : İçeriğin yayınlandığı Resmi Gazete Sayısı\n",
    "- **mukerrer_no**           : İçeriğin yayınlandığı Resmi Gazete Mükerrer Numarası (0 ise mükerrer olmadığını belirtir)\n",
    "- **rega_tarihi**           : İçeriğin yayınlandığı Resmi Gazete Tarihi (`date:yyyy-mm-dd` formatında)\n",
    "- **kurum**                 : İçeriği(Genelge, Cumhurbaşkanlığı(CB) Kararnamesi, Tüzük, Yönetmelik, Tebliğ) çıkaran kurum adı\n",
    "- **mevzuat_no**            : İçeriğin ilgili numarası (Detaylar için ilgili kategoriye bakınız) \n",
    "- **belge_sayi**            : Genelge üzerindeki Sayı ifadesinin değeri (sadece işlenebilenler)\n",
    "- **mevzuat_tarihi**        : İçeriğin ilgili Tarihi (`date:yyyy-mm-dd` formatında)\n",
    "- **donem**                 : Komisyon Raporunun dönemini (örn: \"27. Dönem\")\n",
    "- **sira_no**               : Komisyon Raporunun Sıra Sayısı (örn: \"230\", \"42 ek 1\" vb.)\n",
    "- **madde_sayisi**          : İçeriğin(Kanun, KHK, CB Kararnamesi, Tüzük, Yönetmelik) bölümlerini (Madde sayısını ve işlenemeyen hükümleri/maddeleri, _madde metinlerinin_ içindeki \"Madde <sayi> - ...\" ifadeleri hariç )\n",
    "- **data_text**             : İçerik metni (Büyük/Küçük Harf, Noktalama ve \"\\n\" içermektedir)\n",
    "- **url**                   : İçerik metninin esas alındığı websayfasının linki (kaynak linkler güncel olmayabilir)\n",
    "- **kanunum_url**           : İçeriğin Kanunum linki\n",
    "\n",
    "**İçerik Başlıkları**, Kanun, Resmi Gazete, Kanun Hükmünde Kararname, Cumhurbaşkanlığı Kararnamesi, Tebliğ, Yönetmelik ve Tebliğ için içeriğin adı olan başlık kullanılırken Komisyon Raporu, Genelge ve Özelgelerde tanımlayıcı olmak üzere işelenerek üretilmiş bir başlık tercih edilmiştir.\n",
    "\n",
    "**Kurum Adı**, Kanunum veritabanına işlenmiş hali ile kullanılmaktadır. Örneğin; Üniversite Yönetmeliklerinde kurum adı ayrı ayrı üniversite adı kullanmak yerine tek bir ad (\"Üniversite\") olarak işlenmiştir. Kurum tespiti yapılırken Bakanlık isimlerinin değişmiş olabileceği ayrıca dikkate alınmalıdır."
   ]
  },
  {
   "cell_type": "markdown",
   "id": "e6536b91-dd41-4463-9bbb-4dd7a080bf3f",
   "metadata": {},
   "source": [
    "## Kategoriler\n",
    " Kanun, Resmi Gazete, Kanun Hükmünde Kararname, Cumhurbaşkanlığı Kararnamesi, Genelge, Tebliğ, Yönetmelik, Komisyon Raporu, Tüzük ve Özelge olmak üzere toplam 10 kategori bulunmaktadır.\n",
    "\n",
    "Tüm içerikler için `kategori`, `baslik`, `data_text`, `url`, `kanunum_url` alanları sunulmuş olup `url` alanı içerik metninin esas alındığı sayfa linkini belirtmektedir. Diğer dikkate alınacak alanlar aşağıdaki gibi olup detaylar alt başlıklarda verilmiştir.\n",
    "\n",
    "\n",
    "| Kategori                                                               | İçerik Sayısı     | İlgili alanlar (Üst Veriler)                                                                                              |\n",
    "| :-------                                                               | :------------     | :---------------------------                                                                                              |\n",
    "| [Kanun](#kategori-kanun)                                               | 514               | kategori, baslik, rega_no, mukerrer_no, rega_tarihi, mevzuat_no, mevzuat_tarihi, madde_sayisi, data_text, url             |\n",
    "| [Kanun Hükmünde Kararname](#kategori-kanun-hükmünde-kararname-khk)     | 91                | kategori, baslik, rega_no, mukerrer_no, rega_tarihi, mevzuat_no, mevzuat_tarihi, madde_sayisi, data_text, url             |\n",
    "| [Resmi Gazete](#kategori-resmi-gazete)                                 | 546               | kategori, baslik, rega_no, mukerrer_no, rega_tarihi, data_text, url                                                       |\n",
    "| [Komisyon Raporu](#kategori-komisyon-raporu)                           | 500               | kategori, baslik, donem, sira_no, data_text, url                                                                          |\n",
    "| [Genelge](#kategori-genelge)                                           | 385               | kategori, baslik, kurum, mevzuat_no, belge_sayi, mevzuat_tarihi, data_text, url                                           |\n",
    "| [Cumhurbaşkanlığı Kararnamesi](#kategori-cumhurbaşkanlığı-kararnamesi) | 54                | kategori, baslik, rega_no, mukerrer_no, rega_tarihi, kurum, mevzuat_no, mevzuat_tarihi, madde_sayisi, data_text, url      |\n",
    "| [Tüzük](#kategori-tüzük)                                               | 82                | kategori, baslik, rega_no, mukerrer_no, rega_tarihi, kurum, mevzuat_no, mevzuat_tarihi, madde_sayisi, data_text, url      |\n",
    "| [Yönetmelik](#kategori-yönetmelik)                                     | 597               | kategori, baslik, rega_no, mukerrer_no, rega_tarihi, kurum, mevzuat_no, mevzuat_tarihi, madde_sayisi, data_text, url      |\n",
    "| [Tebliğ](#kategori-tebliğ)                                             | 623               | kategori, baslik, rega_no, mukerrer_no, rega_tarihi, kurum, data_text, url                                                |\n",
    "| [Özelge](#kategori-özelge)                                             | 750               | kategori, baslik, kurum, mevzuat_tarihi, data_text, url M"
   ]
  },
  {
   "cell_type": "markdown",
   "id": "c1be0114",
   "metadata": {},
   "source": [
    "### BELGE SAYISI"
   ]
  },
  {
   "cell_type": "code",
   "execution_count": 7,
   "id": "13b3881c",
   "metadata": {},
   "outputs": [],
   "source": [
    "belge_sayisi_extractor = BelgeSayisiExtractor()"
   ]
  },
  {
   "cell_type": "code",
   "execution_count": 8,
   "id": "813e0e18",
   "metadata": {},
   "outputs": [
    {
     "name": "stdout",
     "output_type": "stream",
     "text": [
      "'belge_sayi' cikariliyor... -> 'belge_sayi_pred'\n"
     ]
    },
    {
     "data": {
      "application/vnd.jupyter.widget-view+json": {
       "model_id": "d67d39ad76124460ac337518ebed6cb1",
       "version_major": 2,
       "version_minor": 0
      },
      "text/plain": [
       "  0%|          | 0/385 [00:00<?, ?it/s]"
      ]
     },
     "metadata": {},
     "output_type": "display_data"
    }
   ],
   "source": [
    "belge_sayisi_extractor.extract(df)"
   ]
  },
  {
   "cell_type": "code",
   "execution_count": 9,
   "id": "21aa0caf",
   "metadata": {},
   "outputs": [
    {
     "data": {
      "text/plain": [
       "0.1117"
      ]
     },
     "execution_count": 9,
     "metadata": {},
     "output_type": "execute_result"
    }
   ],
   "source": [
    "# Çok fazla NaN etiket var\n",
    "calculate_accuracy(input_df=df,\n",
    "                   feature_extractor=belge_sayisi_extractor,\n",
    "                   include_na=True)"
   ]
  },
  {
   "cell_type": "code",
   "execution_count": 10,
   "id": "272dc527",
   "metadata": {},
   "outputs": [
    {
     "data": {
      "text/plain": [
       "1.0"
      ]
     },
     "execution_count": 10,
     "metadata": {},
     "output_type": "execute_result"
    }
   ],
   "source": [
    "# NaN olmayan etiketlerde %100 başarı\n",
    "calculate_accuracy(input_df=df,\n",
    "                   feature_extractor=belge_sayisi_extractor,\n",
    "                   include_na=False)"
   ]
  },
  {
   "cell_type": "code",
   "execution_count": 14,
   "id": "388469c9",
   "metadata": {},
   "outputs": [
    {
     "data": {
      "text/html": [
       "<div>\n",
       "<style scoped>\n",
       "    .dataframe tbody tr th:only-of-type {\n",
       "        vertical-align: middle;\n",
       "    }\n",
       "\n",
       "    .dataframe tbody tr th {\n",
       "        vertical-align: top;\n",
       "    }\n",
       "\n",
       "    .dataframe thead th {\n",
       "        text-align: right;\n",
       "    }\n",
       "</style>\n",
       "<table border=\"1\" class=\"dataframe\">\n",
       "  <thead>\n",
       "    <tr style=\"text-align: right;\">\n",
       "      <th></th>\n",
       "      <th>belge_sayi</th>\n",
       "      <th>belge_sayi_pred</th>\n",
       "      <th>baslik</th>\n",
       "      <th>url</th>\n",
       "      <th>kategori</th>\n",
       "    </tr>\n",
       "  </thead>\n",
       "  <tbody>\n",
       "    <tr>\n",
       "      <th>917</th>\n",
       "      <td>NaN</td>\n",
       "      <td>B.07.0.GEL.0.44/4412-17-047504</td>\n",
       "      <td>GELİR İDARESİ BAŞKANLIĞI, GELİR VERGİSİ KANUNU İÇ GENELGESİ SIRA NO:1998/5</td>\n",
       "      <td>http://www.gib.gov.tr/node/89371</td>\n",
       "      <td>Genelge</td>\n",
       "    </tr>\n",
       "    <tr>\n",
       "      <th>918</th>\n",
       "      <td>NaN</td>\n",
       "      <td>B.07.0.GEL.0.71/7100-89 - 009461</td>\n",
       "      <td>GELİR İDARESİ BAŞKANLIĞI, VERGİ BARIŞI KANUNU UYGULAMA İÇ GENELGESİ SERİ NO: 2003/2</td>\n",
       "      <td>http://www.gib.gov.tr/node/89248</td>\n",
       "      <td>Genelge</td>\n",
       "    </tr>\n",
       "    <tr>\n",
       "      <th>919</th>\n",
       "      <td>NaN</td>\n",
       "      <td>B. 13.2.SGK.0.71.09.00/53&gt;~? 3 0 MAYİS 2Oİ2</td>\n",
       "      <td>SOSYAL GÜVENLİK KURUMU, GENELGE 2012-20</td>\n",
       "      <td>https://kms.kaysis.gov.tr/Home/Goster/73822</td>\n",
       "      <td>Genelge</td>\n",
       "    </tr>\n",
       "    <tr>\n",
       "      <th>920</th>\n",
       "      <td>NaN</td>\n",
       "      <td>NaN</td>\n",
       "      <td>YENİDEN YAPILANDIRMA HAKKINDA GENELGE</td>\n",
       "      <td>https://www.bddk.org.tr/Mevzuat/DokumanGetir/900</td>\n",
       "      <td>Genelge</td>\n",
       "    </tr>\n",
       "    <tr>\n",
       "      <th>921</th>\n",
       "      <td>NaN</td>\n",
       "      <td>NaN</td>\n",
       "      <td>ENGELLİ HAKLARI İZLEME VE DEĞERLENDİRME KURULU İLE İLGİLİ 2021/23 SAYILI CUMHURBAŞKANLIĞI GENELGESİ</td>\n",
       "      <td>https://www.mevzuat.gov.tr/MevzuatMetin/CumhurbaskanligiGenelgeleri/20211203-23.pdf</td>\n",
       "      <td>Genelge</td>\n",
       "    </tr>\n",
       "  </tbody>\n",
       "</table>\n",
       "</div>"
      ],
      "text/plain": [
       "    belge_sayi                                belge_sayi_pred  \\\n",
       "917        NaN                 B.07.0.GEL.0.44/4412-17-047504   \n",
       "918        NaN               B.07.0.GEL.0.71/7100-89 - 009461   \n",
       "919        NaN    B. 13.2.SGK.0.71.09.00/53>~? 3 0 MAYİS 2Oİ2   \n",
       "920        NaN                                            NaN   \n",
       "921        NaN                                            NaN   \n",
       "\n",
       "                                                                                                  baslik  \\\n",
       "917                           GELİR İDARESİ BAŞKANLIĞI, GELİR VERGİSİ KANUNU İÇ GENELGESİ SIRA NO:1998/5   \n",
       "918                  GELİR İDARESİ BAŞKANLIĞI, VERGİ BARIŞI KANUNU UYGULAMA İÇ GENELGESİ SERİ NO: 2003/2   \n",
       "919                                                              SOSYAL GÜVENLİK KURUMU, GENELGE 2012-20   \n",
       "920                                                                YENİDEN YAPILANDIRMA HAKKINDA GENELGE   \n",
       "921  ENGELLİ HAKLARI İZLEME VE DEĞERLENDİRME KURULU İLE İLGİLİ 2021/23 SAYILI CUMHURBAŞKANLIĞI GENELGESİ   \n",
       "\n",
       "                                                                                     url  \\\n",
       "917                                                     http://www.gib.gov.tr/node/89371   \n",
       "918                                                     http://www.gib.gov.tr/node/89248   \n",
       "919                                          https://kms.kaysis.gov.tr/Home/Goster/73822   \n",
       "920                                     https://www.bddk.org.tr/Mevzuat/DokumanGetir/900   \n",
       "921  https://www.mevzuat.gov.tr/MevzuatMetin/CumhurbaskanligiGenelgeleri/20211203-23.pdf   \n",
       "\n",
       "    kategori  \n",
       "917  Genelge  \n",
       "918  Genelge  \n",
       "919  Genelge  \n",
       "920  Genelge  \n",
       "921  Genelge  "
      ]
     },
     "execution_count": 14,
     "metadata": {},
     "output_type": "execute_result"
    }
   ],
   "source": [
    "show_false_predictions(input_df=df,\n",
    "                       feature_extractor=belge_sayisi_extractor,\n",
    "                       cols=[\"baslik\", \"url\", \"kategori\"],\n",
    "                       include_na=True,\n",
    "                       first_n=5)"
   ]
  },
  {
   "cell_type": "markdown",
   "id": "db74b67f",
   "metadata": {},
   "source": [
    "### MADDE SAYISI"
   ]
  },
  {
   "cell_type": "code",
   "execution_count": 15,
   "id": "2e9f640d",
   "metadata": {},
   "outputs": [],
   "source": [
    "madde_sayisi_extractor = MaddeSayisiExtractor()"
   ]
  },
  {
   "cell_type": "code",
   "execution_count": 16,
   "id": "5cef55fe",
   "metadata": {},
   "outputs": [
    {
     "name": "stdout",
     "output_type": "stream",
     "text": [
      "'madde_sayisi' cikariliyor... -> 'madde_sayisi_pred'\n"
     ]
    },
    {
     "data": {
      "application/vnd.jupyter.widget-view+json": {
       "model_id": "b828a5b8865343afa62f50e4e35e1f08",
       "version_major": 2,
       "version_minor": 0
      },
      "text/plain": [
       "  0%|          | 0/1338 [00:00<?, ?it/s]"
      ]
     },
     "metadata": {},
     "output_type": "display_data"
    }
   ],
   "source": [
    "madde_sayisi_extractor.extract(df)"
   ]
  },
  {
   "cell_type": "code",
   "execution_count": 23,
   "id": "a2a26866",
   "metadata": {},
   "outputs": [
    {
     "name": "stdout",
     "output_type": "stream",
     "text": [
      "Veri Sayisi: 1338\n",
      "Dogru Tahmin Sayisi: 1071\n",
      "Yanlis Tahmin Sayisi: 267\n",
      "Basari Orani: 0.8004\n"
     ]
    }
   ],
   "source": [
    "calculate_accuracy(input_df=df,\n",
    "                   feature_extractor=madde_sayisi_extractor,\n",
    "                   include_na=False)"
   ]
  },
  {
   "cell_type": "code",
   "execution_count": 24,
   "id": "e04e8389",
   "metadata": {},
   "outputs": [
    {
     "data": {
      "text/html": [
       "<div>\n",
       "<style scoped>\n",
       "    .dataframe tbody tr th:only-of-type {\n",
       "        vertical-align: middle;\n",
       "    }\n",
       "\n",
       "    .dataframe tbody tr th {\n",
       "        vertical-align: top;\n",
       "    }\n",
       "\n",
       "    .dataframe thead th {\n",
       "        text-align: right;\n",
       "    }\n",
       "</style>\n",
       "<table border=\"1\" class=\"dataframe\">\n",
       "  <thead>\n",
       "    <tr style=\"text-align: right;\">\n",
       "      <th></th>\n",
       "      <th>madde_sayisi</th>\n",
       "      <th>madde_sayisi_pred</th>\n",
       "      <th>baslik</th>\n",
       "      <th>url</th>\n",
       "      <th>kategori</th>\n",
       "    </tr>\n",
       "  </thead>\n",
       "  <tbody>\n",
       "    <tr>\n",
       "      <th>6</th>\n",
       "      <td>76</td>\n",
       "      <td>88</td>\n",
       "      <td>MİLLÎ EĞİTİM BAKANLIĞININ TEŞKİLAT VE GÖREVLERİ HAKKINDA KANUN HÜKMÜNDE KARARNAME İLE BAZI KANUN VE KANUN HÜKMÜNDE KARARNAMELERDE DEĞİŞİKLİK YAPILMASINA DAİR KANUN</td>\n",
       "      <td>https://www.resmigazete.gov.tr/eskiler/2016/12/20161209-5.htm</td>\n",
       "      <td>Kanun</td>\n",
       "    </tr>\n",
       "    <tr>\n",
       "      <th>8</th>\n",
       "      <td>17</td>\n",
       "      <td>94</td>\n",
       "      <td>YÜKSEKÖĞRETİM KANUNU İLE BAZI KANUN VE KANUN HÜKMÜNDE KARARNAMELERDE DEĞİŞİKLİK YAPILMASINA DAİR KANUN</td>\n",
       "      <td>https://www.resmigazete.gov.tr/eskiler/2018/05/20180518-1.htm</td>\n",
       "      <td>Kanun</td>\n",
       "    </tr>\n",
       "    <tr>\n",
       "      <th>11</th>\n",
       "      <td>70</td>\n",
       "      <td>80</td>\n",
       "      <td>VERGİ KANUNLARI İLE BAZI KANUN VE KANUN HÜKMÜNDE KARARNAMELERDE DEĞİŞİKLİK YAPILMASINA DAİR KANUN</td>\n",
       "      <td>https://www.resmigazete.gov.tr/eskiler/2019/01/20190118-1.htm</td>\n",
       "      <td>Kanun</td>\n",
       "    </tr>\n",
       "    <tr>\n",
       "      <th>14</th>\n",
       "      <td>35</td>\n",
       "      <td>61</td>\n",
       "      <td>GELİR VERGİSİ KANUNU İLE BAZI KANUNLARDA DEĞİŞİKLİK YAPILMASI HAKKINDA KANUN</td>\n",
       "      <td>http://www.resmigazete.gov.tr/eskiler/2019/07/20190719M1-1.htm</td>\n",
       "      <td>Kanun</td>\n",
       "    </tr>\n",
       "    <tr>\n",
       "      <th>15</th>\n",
       "      <td>19</td>\n",
       "      <td>22</td>\n",
       "      <td>ÖDEME VE MENKUL KIYMET MUTABAKAT SİSTEMLERİ, ÖDEME HİZMETLERİ VE ELEKTRONİK PARA KURULUŞLARI HAKKINDA KANUN İLE BAZI KANUNLARDA DEĞİŞİKLİK YAPILMASINA DAİR KANUN</td>\n",
       "      <td>https://www.resmigazete.gov.tr/eskiler/2019/11/20191122-2.htm</td>\n",
       "      <td>Kanun</td>\n",
       "    </tr>\n",
       "  </tbody>\n",
       "</table>\n",
       "</div>"
      ],
      "text/plain": [
       "    madde_sayisi madde_sayisi_pred  \\\n",
       "6             76                88   \n",
       "8             17                94   \n",
       "11            70                80   \n",
       "14            35                61   \n",
       "15            19                22   \n",
       "\n",
       "                                                                                                                                                                 baslik  \\\n",
       "6   MİLLÎ EĞİTİM BAKANLIĞININ TEŞKİLAT VE GÖREVLERİ HAKKINDA KANUN HÜKMÜNDE KARARNAME İLE BAZI KANUN VE KANUN HÜKMÜNDE KARARNAMELERDE DEĞİŞİKLİK YAPILMASINA DAİR KANUN   \n",
       "8                                                                YÜKSEKÖĞRETİM KANUNU İLE BAZI KANUN VE KANUN HÜKMÜNDE KARARNAMELERDE DEĞİŞİKLİK YAPILMASINA DAİR KANUN   \n",
       "11                                                                    VERGİ KANUNLARI İLE BAZI KANUN VE KANUN HÜKMÜNDE KARARNAMELERDE DEĞİŞİKLİK YAPILMASINA DAİR KANUN   \n",
       "14                                                                                         GELİR VERGİSİ KANUNU İLE BAZI KANUNLARDA DEĞİŞİKLİK YAPILMASI HAKKINDA KANUN   \n",
       "15    ÖDEME VE MENKUL KIYMET MUTABAKAT SİSTEMLERİ, ÖDEME HİZMETLERİ VE ELEKTRONİK PARA KURULUŞLARI HAKKINDA KANUN İLE BAZI KANUNLARDA DEĞİŞİKLİK YAPILMASINA DAİR KANUN   \n",
       "\n",
       "                                                               url kategori  \n",
       "6    https://www.resmigazete.gov.tr/eskiler/2016/12/20161209-5.htm    Kanun  \n",
       "8    https://www.resmigazete.gov.tr/eskiler/2018/05/20180518-1.htm    Kanun  \n",
       "11   https://www.resmigazete.gov.tr/eskiler/2019/01/20190118-1.htm    Kanun  \n",
       "14  http://www.resmigazete.gov.tr/eskiler/2019/07/20190719M1-1.htm    Kanun  \n",
       "15   https://www.resmigazete.gov.tr/eskiler/2019/11/20191122-2.htm    Kanun  "
      ]
     },
     "execution_count": 24,
     "metadata": {},
     "output_type": "execute_result"
    }
   ],
   "source": [
    "show_false_predictions(input_df=df,\n",
    "                       feature_extractor=madde_sayisi_extractor,\n",
    "                       cols=[\"baslik\", \"url\", \"kategori\"],\n",
    "                       include_na=False,\n",
    "                       first_n=5)"
   ]
  },
  {
   "cell_type": "markdown",
   "id": "24119920",
   "metadata": {},
   "source": [
    "### MEVZUAT NO"
   ]
  },
  {
   "cell_type": "code",
   "execution_count": 25,
   "id": "cb4ee10c",
   "metadata": {
    "scrolled": true
   },
   "outputs": [],
   "source": [
    "mevzuat_no_extractor = MevzuatNoExtractor()"
   ]
  },
  {
   "cell_type": "code",
   "execution_count": 26,
   "id": "3bfe4af7",
   "metadata": {},
   "outputs": [
    {
     "name": "stdout",
     "output_type": "stream",
     "text": [
      "'mevzuat_no' cikariliyor... -> 'mevzuat_no_pred'\n"
     ]
    },
    {
     "data": {
      "application/vnd.jupyter.widget-view+json": {
       "model_id": "16570ee391024231ae04b64864827ca7",
       "version_major": 2,
       "version_minor": 0
      },
      "text/plain": [
       "  0%|          | 0/1723 [00:00<?, ?it/s]"
      ]
     },
     "metadata": {},
     "output_type": "display_data"
    }
   ],
   "source": [
    "mevzuat_no_extractor.extract(df)"
   ]
  },
  {
   "cell_type": "code",
   "execution_count": 27,
   "id": "f737fc57",
   "metadata": {},
   "outputs": [
    {
     "name": "stdout",
     "output_type": "stream",
     "text": [
      "Veri Sayisi: 1091\n",
      "Dogru Tahmin Sayisi: 968\n",
      "Yanlis Tahmin Sayisi: 123\n",
      "Basari Orani: 0.8873\n"
     ]
    }
   ],
   "source": [
    "calculate_accuracy(input_df=df,\n",
    "                   feature_extractor=mevzuat_no_extractor,\n",
    "                   include_na=False)"
   ]
  },
  {
   "cell_type": "code",
   "execution_count": 28,
   "id": "134f26c7",
   "metadata": {},
   "outputs": [
    {
     "data": {
      "text/html": [
       "<div>\n",
       "<style scoped>\n",
       "    .dataframe tbody tr th:only-of-type {\n",
       "        vertical-align: middle;\n",
       "    }\n",
       "\n",
       "    .dataframe tbody tr th {\n",
       "        vertical-align: top;\n",
       "    }\n",
       "\n",
       "    .dataframe thead th {\n",
       "        text-align: right;\n",
       "    }\n",
       "</style>\n",
       "<table border=\"1\" class=\"dataframe\">\n",
       "  <thead>\n",
       "    <tr style=\"text-align: right;\">\n",
       "      <th></th>\n",
       "      <th>mevzuat_no</th>\n",
       "      <th>mevzuat_no_pred</th>\n",
       "      <th>baslik</th>\n",
       "      <th>url</th>\n",
       "      <th>kategori</th>\n",
       "    </tr>\n",
       "  </thead>\n",
       "  <tbody>\n",
       "    <tr>\n",
       "      <th>920</th>\n",
       "      <td>2018/1</td>\n",
       "      <td>NaN</td>\n",
       "      <td>YENİDEN YAPILANDIRMA HAKKINDA GENELGE</td>\n",
       "      <td>https://www.bddk.org.tr/Mevzuat/DokumanGetir/900</td>\n",
       "      <td>Genelge</td>\n",
       "    </tr>\n",
       "    <tr>\n",
       "      <th>921</th>\n",
       "      <td>2021/23</td>\n",
       "      <td>NaN</td>\n",
       "      <td>ENGELLİ HAKLARI İZLEME VE DEĞERLENDİRME KURULU İLE İLGİLİ 2021/23 SAYILI CUMHURBAŞKANLIĞI GENELGESİ</td>\n",
       "      <td>https://www.mevzuat.gov.tr/MevzuatMetin/CumhurbaskanligiGenelgeleri/20211203-23.pdf</td>\n",
       "      <td>Genelge</td>\n",
       "    </tr>\n",
       "    <tr>\n",
       "      <th>922</th>\n",
       "      <td>2006/16</td>\n",
       "      <td>16/375ek</td>\n",
       "      <td>SOSYAL GÜVENLİK KURUMU, YATIRIMLARIN VE İSTİHDAMIN TEŞVİKİNE İLİŞKİN 26.06.2006 TARİHLİ 2006-16 SAYILI GENELGE</td>\n",
       "      <td>https://kms.kaysis.gov.tr/Home/Goster/106310</td>\n",
       "      <td>Genelge</td>\n",
       "    </tr>\n",
       "    <tr>\n",
       "      <th>923</th>\n",
       "      <td>2005/16-358</td>\n",
       "      <td>16/358ek</td>\n",
       "      <td>SOSYAL GÜVENLİK KURUMU, İHALE KONUSU İŞLERDEN KAYNAKLANAN BORÇLARIN TAKİBİ HAKKINDA 06/12/2005 TARİHLİ 2005/16-358 EK SAYILI GENELGE</td>\n",
       "      <td>https://kms.kaysis.gov.tr/Home/Goster/128284</td>\n",
       "      <td>Genelge</td>\n",
       "    </tr>\n",
       "    <tr>\n",
       "      <th>1068</th>\n",
       "      <td>2010/100</td>\n",
       "      <td>NaN</td>\n",
       "      <td>SOSYAL GÜVENLİK KURUMU 2010/100 SAYILI GENELGESİ (Geçici 17 nci Madde Uygulaması Hk.)</td>\n",
       "      <td>http://www.sgk.gov.tr/wps/wcm/connect/41fd3a0f-9826-4098-9d27-45e0fc75a2e5/2010_100.pdf?MOD=AJPERES&amp;CACHEID=41fd3a0f-9826-4098-9d27-45e0fc75a2e5</td>\n",
       "      <td>Genelge</td>\n",
       "    </tr>\n",
       "  </tbody>\n",
       "</table>\n",
       "</div>"
      ],
      "text/plain": [
       "       mevzuat_no mevzuat_no_pred  \\\n",
       "920        2018/1             NaN   \n",
       "921       2021/23             NaN   \n",
       "922       2006/16        16/375ek   \n",
       "923   2005/16-358        16/358ek   \n",
       "1068     2010/100             NaN   \n",
       "\n",
       "                                                                                                                                    baslik  \\\n",
       "920                                                                                                  YENİDEN YAPILANDIRMA HAKKINDA GENELGE   \n",
       "921                                    ENGELLİ HAKLARI İZLEME VE DEĞERLENDİRME KURULU İLE İLGİLİ 2021/23 SAYILI CUMHURBAŞKANLIĞI GENELGESİ   \n",
       "922                         SOSYAL GÜVENLİK KURUMU, YATIRIMLARIN VE İSTİHDAMIN TEŞVİKİNE İLİŞKİN 26.06.2006 TARİHLİ 2006-16 SAYILI GENELGE   \n",
       "923   SOSYAL GÜVENLİK KURUMU, İHALE KONUSU İŞLERDEN KAYNAKLANAN BORÇLARIN TAKİBİ HAKKINDA 06/12/2005 TARİHLİ 2005/16-358 EK SAYILI GENELGE   \n",
       "1068                                                 SOSYAL GÜVENLİK KURUMU 2010/100 SAYILI GENELGESİ (Geçici 17 nci Madde Uygulaması Hk.)   \n",
       "\n",
       "                                                                                                                                                   url  \\\n",
       "920                                                                                                   https://www.bddk.org.tr/Mevzuat/DokumanGetir/900   \n",
       "921                                                                https://www.mevzuat.gov.tr/MevzuatMetin/CumhurbaskanligiGenelgeleri/20211203-23.pdf   \n",
       "922                                                                                                       https://kms.kaysis.gov.tr/Home/Goster/106310   \n",
       "923                                                                                                       https://kms.kaysis.gov.tr/Home/Goster/128284   \n",
       "1068  http://www.sgk.gov.tr/wps/wcm/connect/41fd3a0f-9826-4098-9d27-45e0fc75a2e5/2010_100.pdf?MOD=AJPERES&CACHEID=41fd3a0f-9826-4098-9d27-45e0fc75a2e5   \n",
       "\n",
       "     kategori  \n",
       "920   Genelge  \n",
       "921   Genelge  \n",
       "922   Genelge  \n",
       "923   Genelge  \n",
       "1068  Genelge  "
      ]
     },
     "execution_count": 28,
     "metadata": {},
     "output_type": "execute_result"
    }
   ],
   "source": [
    "show_false_predictions(input_df=df,\n",
    "                       feature_extractor=mevzuat_no_extractor,\n",
    "                       cols=[\"baslik\", \"url\", \"kategori\"],\n",
    "                       include_na=False,\n",
    "                       first_n=5)"
   ]
  },
  {
   "cell_type": "code",
   "execution_count": 31,
   "id": "1ffe4a6c",
   "metadata": {},
   "outputs": [
    {
     "data": {
      "text/plain": [
       "['Kanun',\n",
       " 'Kanun Hükmünde Kararname',\n",
       " 'Genelge',\n",
       " 'Cumhurbaşkanlığı Kararnamesi',\n",
       " 'Tüzük',\n",
       " 'Yönetmelik']"
      ]
     },
     "execution_count": 31,
     "metadata": {},
     "output_type": "execute_result"
    }
   ],
   "source": [
    "constants.COLS_MEVZUAT_NO"
   ]
  },
  {
   "cell_type": "code",
   "execution_count": 37,
   "id": "b82dc4e9",
   "metadata": {},
   "outputs": [
    {
     "name": "stdout",
     "output_type": "stream",
     "text": [
      "Veri Sayisi: 154\n",
      "Dogru Tahmin Sayisi: 116\n",
      "Yanlis Tahmin Sayisi: 38\n",
      "Basari Orani: 0.7532\n"
     ]
    },
    {
     "data": {
      "text/html": [
       "<div>\n",
       "<style scoped>\n",
       "    .dataframe tbody tr th:only-of-type {\n",
       "        vertical-align: middle;\n",
       "    }\n",
       "\n",
       "    .dataframe tbody tr th {\n",
       "        vertical-align: top;\n",
       "    }\n",
       "\n",
       "    .dataframe thead th {\n",
       "        text-align: right;\n",
       "    }\n",
       "</style>\n",
       "<table border=\"1\" class=\"dataframe\">\n",
       "  <thead>\n",
       "    <tr style=\"text-align: right;\">\n",
       "      <th></th>\n",
       "      <th>mevzuat_no</th>\n",
       "      <th>mevzuat_no_pred</th>\n",
       "      <th>baslik</th>\n",
       "      <th>url</th>\n",
       "      <th>kategori</th>\n",
       "    </tr>\n",
       "  </thead>\n",
       "  <tbody>\n",
       "    <tr>\n",
       "      <th>922</th>\n",
       "      <td>2006/16</td>\n",
       "      <td>16/375ek</td>\n",
       "      <td>SOSYAL GÜVENLİK KURUMU, YATIRIMLARIN VE İSTİHDAMIN TEŞVİKİNE İLİŞKİN 26.06.2006 TARİHLİ 2006-16 SAYILI GENELGE</td>\n",
       "      <td>https://kms.kaysis.gov.tr/Home/Goster/106310</td>\n",
       "      <td>Genelge</td>\n",
       "    </tr>\n",
       "    <tr>\n",
       "      <th>923</th>\n",
       "      <td>2005/16-358</td>\n",
       "      <td>16/358ek</td>\n",
       "      <td>SOSYAL GÜVENLİK KURUMU, İHALE KONUSU İŞLERDEN KAYNAKLANAN BORÇLARIN TAKİBİ HAKKINDA 06/12/2005 TARİHLİ 2005/16-358 EK SAYILI GENELGE</td>\n",
       "      <td>https://kms.kaysis.gov.tr/Home/Goster/128284</td>\n",
       "      <td>Genelge</td>\n",
       "    </tr>\n",
       "    <tr>\n",
       "      <th>1135</th>\n",
       "      <td>2017/12</td>\n",
       "      <td>2017u2</td>\n",
       "      <td>SOSYAL GÜVENLİK KURUMU, FATURA BEDELLERİNİN ÖDENMESİ GENELGESİNİN YÜRÜRLÜKTEN KALDIRILMASINA DAİR 2017/12 SAYILI GENELGE</td>\n",
       "      <td>https://kms.kaysis.gov.tr/Home/Goster/104268</td>\n",
       "      <td>Genelge</td>\n",
       "    </tr>\n",
       "    <tr>\n",
       "      <th>1139</th>\n",
       "      <td>1046330</td>\n",
       "      <td>NaN</td>\n",
       "      <td>SOSYAL GÜVENLİK KURUMU, 2017/1 SAYILI GENELGE</td>\n",
       "      <td>https://kms.kaysis.gov.tr/Home/Goster/105981</td>\n",
       "      <td>Genelge</td>\n",
       "    </tr>\n",
       "    <tr>\n",
       "      <th>1148</th>\n",
       "      <td>2016/17</td>\n",
       "      <td>kurumumuzkadroluvesozlesmeliavukatlaritarafindanhukukmusavirligineiletilen</td>\n",
       "      <td>SOSYAL GÜVENLİK KURUMU, HUKUK SERVİSLERİNİN İHTİYAÇLARINA İLİŞKİN 2016/17 SAYILI GENELGE</td>\n",
       "      <td>https://kms.kaysis.gov.tr/Home/Goster/75464</td>\n",
       "      <td>Genelge</td>\n",
       "    </tr>\n",
       "  </tbody>\n",
       "</table>\n",
       "</div>"
      ],
      "text/plain": [
       "       mevzuat_no  \\\n",
       "922       2006/16   \n",
       "923   2005/16-358   \n",
       "1135      2017/12   \n",
       "1139      1046330   \n",
       "1148      2016/17   \n",
       "\n",
       "                                                                 mevzuat_no_pred  \\\n",
       "922                                                                     16/375ek   \n",
       "923                                                                     16/358ek   \n",
       "1135                                                                      2017u2   \n",
       "1139                                                                         NaN   \n",
       "1148  kurumumuzkadroluvesozlesmeliavukatlaritarafindanhukukmusavirligineiletilen   \n",
       "\n",
       "                                                                                                                                    baslik  \\\n",
       "922                         SOSYAL GÜVENLİK KURUMU, YATIRIMLARIN VE İSTİHDAMIN TEŞVİKİNE İLİŞKİN 26.06.2006 TARİHLİ 2006-16 SAYILI GENELGE   \n",
       "923   SOSYAL GÜVENLİK KURUMU, İHALE KONUSU İŞLERDEN KAYNAKLANAN BORÇLARIN TAKİBİ HAKKINDA 06/12/2005 TARİHLİ 2005/16-358 EK SAYILI GENELGE   \n",
       "1135              SOSYAL GÜVENLİK KURUMU, FATURA BEDELLERİNİN ÖDENMESİ GENELGESİNİN YÜRÜRLÜKTEN KALDIRILMASINA DAİR 2017/12 SAYILI GENELGE   \n",
       "1139                                                                                         SOSYAL GÜVENLİK KURUMU, 2017/1 SAYILI GENELGE   \n",
       "1148                                              SOSYAL GÜVENLİK KURUMU, HUKUK SERVİSLERİNİN İHTİYAÇLARINA İLİŞKİN 2016/17 SAYILI GENELGE   \n",
       "\n",
       "                                               url kategori  \n",
       "922   https://kms.kaysis.gov.tr/Home/Goster/106310  Genelge  \n",
       "923   https://kms.kaysis.gov.tr/Home/Goster/128284  Genelge  \n",
       "1135  https://kms.kaysis.gov.tr/Home/Goster/104268  Genelge  \n",
       "1139  https://kms.kaysis.gov.tr/Home/Goster/105981  Genelge  \n",
       "1148   https://kms.kaysis.gov.tr/Home/Goster/75464  Genelge  "
      ]
     },
     "execution_count": 37,
     "metadata": {},
     "output_type": "execute_result"
    }
   ],
   "source": [
    "filtered_df = filter_dataframe(input_df=df,\n",
    "                               selected_categories=[\"Genelge\"],\n",
    "                               custom_filter_array=[df.url.str.contains(\"kms.kaysis.gov.tr\")])\n",
    "\n",
    "calculate_accuracy(input_df=filtered_df,\n",
    "                   feature_extractor=mevzuat_no_extractor,\n",
    "                   include_na=False)\n",
    "\n",
    "show_false_predictions(input_df=filtered_df,\n",
    "                       feature_extractor=mevzuat_no_extractor,\n",
    "                       cols=[\"baslik\", \"url\", \"kategori\"],\n",
    "                       include_na=False,\n",
    "                       first_n=5)"
   ]
  }
 ],
 "metadata": {
  "kernelspec": {
   "display_name": "Python 3 (ipykernel)",
   "language": "python",
   "name": "python3"
  },
  "language_info": {
   "codemirror_mode": {
    "name": "ipython",
    "version": 3
   },
   "file_extension": ".py",
   "mimetype": "text/x-python",
   "name": "python",
   "nbconvert_exporter": "python",
   "pygments_lexer": "ipython3",
   "version": "3.8.12"
  }
 },
 "nbformat": 4,
 "nbformat_minor": 5
}
