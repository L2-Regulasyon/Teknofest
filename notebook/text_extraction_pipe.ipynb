{
  "nbformat": 4,
  "nbformat_minor": 0,
  "metadata": {
    "colab": {
      "name": "text_extraction_pipe.ipynb",
      "provenance": [],
      "collapsed_sections": []
    },
    "kernelspec": {
      "name": "python3",
      "display_name": "Python 3"
    },
    "language_info": {
      "name": "python"
    }
  },
  "cells": [
    {
      "cell_type": "code",
      "source": [
        "import pathlib\n",
        "from pathlib import Path\n",
        "\n",
        "import numpy as np\n",
        "import pandas as pd\n",
        "\n",
        "#%load_ext lab_black\n",
        "\n",
        "pd.options.display.max_colwidth = 250\n",
        "pd.options.display.max_columns = 250"
      ],
      "metadata": {
        "id": "Nq2BNFy_4zWh"
      },
      "execution_count": 800,
      "outputs": []
    },
    {
      "cell_type": "code",
      "execution_count": 801,
      "metadata": {
        "colab": {
          "base_uri": "https://localhost:8080/"
        },
        "id": "yISxqczm1SIB",
        "outputId": "f4a46afc-ff88-4265-e798-0aea18d29beb"
      },
      "outputs": [
        {
          "output_type": "stream",
          "name": "stdout",
          "text": [
            "Drive already mounted at /content/drive; to attempt to forcibly remount, call drive.mount(\"/content/drive\", force_remount=True).\n"
          ]
        }
      ],
      "source": [
        "from google.colab import drive\n",
        "\n",
        "drive.mount('/content/drive')\n",
        "\n",
        "DATA_DIR = Path(\"data\")\n",
        "DATA_DIR.mkdir(exist_ok=True)\n",
        "(DATA_DIR / \"raw\").mkdir(exist_ok=True)\n",
        "\n",
        "!cp drive/MyDrive/comp_data/openhack/kanunum-nlp-doc-analysis-dataset.csv data/raw"
      ]
    },
    {
      "cell_type": "code",
      "source": [
        "df = pd.read_csv(Path(DATA_DIR) / \"raw\" / \"kanunum-nlp-doc-analysis-dataset.csv\")\n",
        "df[\"kategori\"] = df[\"kategori\"].str.lower().str.strip()\n",
        "\n",
        "num_class = df[\"kategori\"].nunique()"
      ],
      "metadata": {
        "id": "BSsltOEO45FX"
      },
      "execution_count": 802,
      "outputs": []
    },
    {
      "cell_type": "code",
      "source": [
        "#rega_no, Mükerrer no, sira no"
      ],
      "metadata": {
        "id": "TJ1olq7V5gGP"
      },
      "execution_count": 799,
      "outputs": []
    },
    {
      "cell_type": "markdown",
      "source": [
        "| Kategori                                                               | İçerik Sayısı     | Hedef Değişkenler                                                                                            |\n",
        "| :-------                                                               | :------------     | :---------------------------                                                                                              |\n",
        "| [Kanun](#kategori-kanun)                                               | 514               | `kategori`, `rega_no`, `mukerrer_no`, `rega_tarihi`, `mevzuat_no`,`mevzuat_tarihi`, `madde_sayisi`\n",
        "| [Kanun Hükmünde Kararname](#kategori-kanun-hükmünde-kararname-khk)     | 91                | `kategori`, `rega_no`, `mukerrer_no`, `rega_tarihi`, `mevzuat_no`, `mevzuat_tarihi`, `madde_sayisi`\n",
        "| [Resmi Gazete](#kategori-resmi-gazete)                                 | 546               | `kategori`, `rega_no`, `mukerrer_no`, `rega_tarihi`\n",
        "|\n",
        "| [Komisyon Raporu](#kategori-komisyon-raporu)                           | 500               | `kategori`, `donem` ve `sira_no`                                                                       |\n",
        "| [Genelge](#kategori-genelge)                                           | 385               | `kategori`, `mevzuat_tarihi` ve varsa `mevzuat_no` yoksa `belge_sayi` \n",
        "| [Cumhurbaşkanlığı Kararnamesi](#kategori-cumhurbaşkanlığı-kararnamesi) | 54                | `kategori`, `rega_no`, `mukerrer_no`, `rega_tarihi`, `mevzuat_no`, `madde_sayisi` ve varsa ` mevzuat_tarihi`\n",
        "| [Tüzük](#kategori-tüzük)                                               | 82                |  `kategori`, `rega_no`, `mukerrer_no`, `rega_tarihi`, `mevzuat_no`, `mevzuat_tarihi`, `madde_sayisi`\n",
        "| [Yönetmelik](#kategori-yönetmelik)                                     | 597               | `kategori`, `rega_no`, `mukerrer_no`, `rega_tarihi`, `kurum`, `madde_sayisi`       |\n",
        "| [Tebliğ](#kategori-tebliğ)                                             | 623               | `kategori`, `rega_no`, `mukerrer_no`, `rega_tarihi`, `kurum` \n",
        "| [Özelge](#kategori-özelge)                                             | 750               | `kategori`, `mevzuat_tarihi`"
      ],
      "metadata": {
        "id": "A1qrZwCV6Wpt"
      }
    },
    {
      "cell_type": "code",
      "source": [
        "#list(pd.Index(df[\"kategori\"].unique()).difference([\"komisyon raporu\", \"genelge\", \"özelge\"]))"
      ],
      "metadata": {
        "id": "8G7zdIOvQnXk"
      },
      "execution_count": 797,
      "outputs": []
    },
    {
      "cell_type": "code",
      "source": [
        "exclude_conf = {\"mukerrer_no\": [\"komisyon raporu\", \"genelge\", \"özelge\"],\n",
        " \"sira_no\": ['cumhurbaşkanlığı kararnamesi',\n",
        " 'genelge',\n",
        " 'kanun',\n",
        " 'kanun hükmünde kararname',\n",
        " 'resmi gazete',\n",
        " 'tebliğ',\n",
        " 'tüzük',\n",
        " 'yönetmelik',\n",
        " 'özelge'],\n",
        " \"rega_no\":  [\"komisyon raporu\", \"genelge\", \"özelge\"],\n",
        "}"
      ],
      "metadata": {
        "id": "0zYeyMyWQj3H"
      },
      "execution_count": 803,
      "outputs": []
    },
    {
      "cell_type": "code",
      "source": [
        "import re\n",
        "\n",
        "def iter_pattern(string, pattern, group=2):\n",
        "\n",
        "    collection = re.finditer(pattern, string)\n",
        "\n",
        "    if not collection:\n",
        "        raise Exception(f\"The pattern {pattern} isn't found in {string}\")\n",
        "\n",
        "    for match in collection:\n",
        "        try:\n",
        "            match_ = match.group(group)\n",
        "        except Exception as e:\n",
        "            raise e\n",
        "        else:\n",
        "            break\n",
        "    \n",
        "    return match_\n",
        "    \n",
        "\n",
        "def extract_rega_no_pattern(row):\n",
        "    pattern = \"(sayı:)(\\d+)\"\n",
        "\n",
        "    try:\n",
        "      rega_no = int(iter_pattern(row, pattern, 2))#int(re.search(pattern, row).group(2))\n",
        "    except Exception as e:\n",
        "        \n",
        "        try:\n",
        "          pattern = \"(\\d+)(sayı)\"\n",
        "          rega_no = int(iter_pattern(row, pattern, 1))#int(re.search(pattern, row).group(1))\n",
        "        \n",
        "        except Exception as e:\n",
        "            print(row, e)\n",
        "            rega_no = None\n",
        "\n",
        "    return rega_no\n",
        "\n",
        "def extract_mukerrer_no_pattern(row):\n",
        "    pattern = \"(\\d+)\\. mükerrer\"\n",
        "\n",
        "    try:\n",
        "      mukerrer_no = int(iter_pattern(row, pattern, 1))#int(re.search(pattern, row).group(2))\n",
        "    except Exception as e:\n",
        "      print(row, e)\n",
        "      mukerrer_no = 0\n",
        "\n",
        "    return mukerrer_no"
      ],
      "metadata": {
        "id": "FxaU4wsT8nGd"
      },
      "execution_count": 805,
      "outputs": []
    },
    {
      "cell_type": "code",
      "source": [
        "def extract_sira_no_pattern(row):\n",
        "    pattern = \"(\\d+) (e \\| nci|e \\| ci|e ] nei|e 1 nci|e 1 nc|e|a) (ek|ilâve|ilave)\"\n",
        "\n",
        "    try:\n",
        "      sira_no = str(int(iter_pattern(row, pattern, 1))) + \" ek 1\"#int(re.search(pattern, row).group(2))\n",
        "    except Exception as e:\n",
        "      pattern = \"(\\d+) (ek|e+k|e|a) (\\d+)\"\n",
        "      try:\n",
        "        sira_no = str(int(iter_pattern(row, pattern, 1))) + \" ek \" + str(int(iter_pattern(row, pattern, 3)))\n",
        "\n",
        "      except Exception as e:\n",
        "        pattern = \"(s\\.|sira) saisi (\\d+)\"\n",
        "        try:\n",
        "          sira_no = str(int(iter_pattern(row, pattern, 2)))\n",
        "\n",
        "        except Exception as e:\n",
        "          sira_no = 0\n",
        "\n",
        "        else:\n",
        "          pass\n",
        "\n",
        "      else:\n",
        "        pass\n",
        "\n",
        "    return sira_no"
      ],
      "metadata": {
        "id": "c4nA0lXQe3rb"
      },
      "execution_count": 806,
      "outputs": []
    },
    {
      "cell_type": "code",
      "source": [
        "#del df[\"pred__rega_no\"]\n",
        "\n",
        "df[\"pred__rega_no\"] = df[\"data_text\"].str.lower()\\\n",
        "                                     .str.replace(\"\\n+\", \"***\")\\\n",
        "                                     .str.replace(\"\\s+\", \"\")\\\n",
        "                                     .str.replace(\"sayi\", \"sayı\")\\\n",
        "                                     .str.replace(\"sayısı\", \"sayı\")\\\n",
        "                                     .str.replace(\"sayılı\", \"sayı\")\\\n",
        "                                     .str.replace(\"sayıfa\", \"sayfa\")\\\n",
        "                                     .apply(extract_rega_no_pattern)\n",
        "\n",
        "df[\"rega_no\"] = df[\"rega_no\"].astype(str).str.replace(\" \\(Mükerrer\\)\", \"\").astype(float)\n",
        "df[\"pred__rega_no\"] = df[\"pred__rega_no\"].fillna(\"\").astype(str).str.split(\".\").str.get(0).str.replace(\".\", \"\").str.slice(0, 5).replace(\"\", np.nan).astype(float)"
      ],
      "metadata": {
        "id": "EVXeaBNkREoA"
      },
      "execution_count": null,
      "outputs": []
    },
    {
      "cell_type": "code",
      "source": [
        "#del df[\"pred__mukerrer_no\"] \n",
        "\n",
        "df.loc[~df[\"kategori\"].isin(exclude_conf[\"mukerrer_no\"]),\n",
        "        \"pred__mukerrer_no\"] = df.loc[~df[\"kategori\"].isin(exclude_conf[\"mukerrer_no\"]),\n",
        "        \"data_text\"].str.lower()\\\n",
        "                    .str.replace(\"\\s+\", \" \")\\\n",
        "                    .apply(extract_mukerrer_no_pattern)\n",
        "df.loc[(~df[\"data_text\"].str.lower().str.replace(\"\\s+\", \" \").str.contains(\"(\\d+)\\. mükerrer\")) &\\\n",
        "       (df[\"data_text\"].str.lower().str.split('\\n').str.get(0).str.contains(\"mükerrer\")), \"pred__mukerrer_no\"] = 1"
      ],
      "metadata": {
        "id": "mY0l43zVdvTF"
      },
      "execution_count": null,
      "outputs": []
    },
    {
      "cell_type": "code",
      "source": [
        "#!pip install unidecode\n",
        "#import unidecode\n",
        "#df.data_text = df.data_text.apply(unidecode.unidecode).str.lower()"
      ],
      "metadata": {
        "colab": {
          "base_uri": "https://localhost:8080/"
        },
        "id": "wIr-X5gQyHjc",
        "outputId": "32bcaeab-0e45-4a04-8987-9e2a72083864"
      },
      "execution_count": 568,
      "outputs": [
        {
          "output_type": "stream",
          "name": "stdout",
          "text": [
            "Looking in indexes: https://pypi.org/simple, https://us-python.pkg.dev/colab-wheels/public/simple/\n",
            "Collecting unidecode\n",
            "  Downloading Unidecode-1.3.4-py3-none-any.whl (235 kB)\n",
            "\u001b[K     |████████████████████████████████| 235 kB 4.2 MB/s \n",
            "\u001b[?25hInstalling collected packages: unidecode\n",
            "Successfully installed unidecode-1.3.4\n"
          ]
        }
      ]
    },
    {
      "cell_type": "code",
      "source": [
        "#del df[\"pred__sira_no\"]\n",
        "                    #.str.replace(\"\\|\", \"1\")\\\n",
        "\n",
        "df.loc[~df[\"kategori\"].isin(exclude_conf[\"sira_no\"]),\n",
        "        \"pred__sira_no\"] = df.loc[~df[\"kategori\"].isin(exclude_conf[\"sira_no\"]),\n",
        "        \"data_text\"].str.lower()\\\n",
        "                    .str.replace(\"'\", \" \")\\\n",
        "                    .str.replace(\"©\", \"ek\")\\\n",
        "                    .str.replace(\"\\(c\\)\", \"ek\")\\\n",
        "                    .str.replace(\"ek\", \" ek\")\\\n",
        "                    .str.replace(\":\", \"\")\\\n",
        "                    .replace({\"birinci\": \"1\",\n",
        "                                \"ikinci\": \"2\",\n",
        "                                \"ücüncü\": \"3\",\n",
        "                                \"üçüncü\": \"3\",\n",
        "                                \"dördüncü\": \"4\",\n",
        "                                \"besinci\": \"5\",\n",
        "                                \"beşinci\": \"5\",\n",
        "                                \"altıncı\": \"6\",\n",
        "                                \"yedinci\": \"7\",\n",
        "                                \"sekizinci\": \"8\",\n",
        "                                \"dokuzuncu\": \"9\",\n",
        "                                'birinci': '1',\n",
        "                                'ikinci': '2',\n",
        "                                'ucuncu': '3',\n",
        "                                'uçuncu': '3',\n",
        "                                'dörduncu': '4',\n",
        "                                'besinci': '5',\n",
        "                                'beşinci': '5',\n",
        "                                'altıncı': '6',\n",
        "                                'yedinci': '7',\n",
        "                                'sekizinci': '8',\n",
        "                                'dokuzuncu': '9'\n",
        "                                }, regex=True)\\\n",
        "                    .str.replace(\"\\s+\", \" \")\\\n",
        "                    .str.replace(\"s ira\", \"sira\")\\\n",
        "                    .str.replace(\"slra\", \"sira\")\\\n",
        "                    .str.replace(\"ı\", \"i\")\\\n",
        "                    .str.replace(\"y\", \"\")\\\n",
        "                    .apply(extract_sira_no_pattern)"
      ],
      "metadata": {
        "colab": {
          "base_uri": "https://localhost:8080/"
        },
        "id": "4FBCpGCJfNeH",
        "outputId": "b10d005b-b07a-4982-df1b-407613f69d45"
      },
      "execution_count": 812,
      "outputs": [
        {
          "output_type": "stream",
          "name": "stderr",
          "text": [
            "/usr/local/lib/python3.7/dist-packages/ipykernel_launcher.py:9: FutureWarning: The default value of regex will change from True to False in a future version.\n",
            "  if __name__ == '__main__':\n",
            "/usr/local/lib/python3.7/dist-packages/ipykernel_launcher.py:35: FutureWarning: The default value of regex will change from True to False in a future version.\n"
          ]
        }
      ]
    },
    {
      "cell_type": "code",
      "source": [
        "label = \"rega_no\"\n",
        "df[~df[\"kategori\"].isin(exclude_conf[label])].assign(is_matched=lambda df: df[f\"pred__{label}\"] == df[label].astype(float)).aggregate(**{\"is_matched\": (\"is_matched\", \"sum\"),\n",
        "                                                                                                                                \"size\": (\"is_matched\", \"size\"),\n",
        "                                                                                                                                 })"
      ],
      "metadata": {
        "colab": {
          "base_uri": "https://localhost:8080/",
          "height": 112
        },
        "id": "bGw0vbDv39l-",
        "outputId": "820a9391-390e-41c0-c247-06dfab1fe41c"
      },
      "execution_count": 813,
      "outputs": [
        {
          "output_type": "execute_result",
          "data": {
            "text/plain": [
              "            is_matched\n",
              "is_matched        2478\n",
              "size              2507"
            ],
            "text/html": [
              "\n",
              "  <div id=\"df-0ecf7809-326c-40c3-a716-0a132546fad7\">\n",
              "    <div class=\"colab-df-container\">\n",
              "      <div>\n",
              "<style scoped>\n",
              "    .dataframe tbody tr th:only-of-type {\n",
              "        vertical-align: middle;\n",
              "    }\n",
              "\n",
              "    .dataframe tbody tr th {\n",
              "        vertical-align: top;\n",
              "    }\n",
              "\n",
              "    .dataframe thead th {\n",
              "        text-align: right;\n",
              "    }\n",
              "</style>\n",
              "<table border=\"1\" class=\"dataframe\">\n",
              "  <thead>\n",
              "    <tr style=\"text-align: right;\">\n",
              "      <th></th>\n",
              "      <th>is_matched</th>\n",
              "    </tr>\n",
              "  </thead>\n",
              "  <tbody>\n",
              "    <tr>\n",
              "      <th>is_matched</th>\n",
              "      <td>2478</td>\n",
              "    </tr>\n",
              "    <tr>\n",
              "      <th>size</th>\n",
              "      <td>2507</td>\n",
              "    </tr>\n",
              "  </tbody>\n",
              "</table>\n",
              "</div>\n",
              "      <button class=\"colab-df-convert\" onclick=\"convertToInteractive('df-0ecf7809-326c-40c3-a716-0a132546fad7')\"\n",
              "              title=\"Convert this dataframe to an interactive table.\"\n",
              "              style=\"display:none;\">\n",
              "        \n",
              "  <svg xmlns=\"http://www.w3.org/2000/svg\" height=\"24px\"viewBox=\"0 0 24 24\"\n",
              "       width=\"24px\">\n",
              "    <path d=\"M0 0h24v24H0V0z\" fill=\"none\"/>\n",
              "    <path d=\"M18.56 5.44l.94 2.06.94-2.06 2.06-.94-2.06-.94-.94-2.06-.94 2.06-2.06.94zm-11 1L8.5 8.5l.94-2.06 2.06-.94-2.06-.94L8.5 2.5l-.94 2.06-2.06.94zm10 10l.94 2.06.94-2.06 2.06-.94-2.06-.94-.94-2.06-.94 2.06-2.06.94z\"/><path d=\"M17.41 7.96l-1.37-1.37c-.4-.4-.92-.59-1.43-.59-.52 0-1.04.2-1.43.59L10.3 9.45l-7.72 7.72c-.78.78-.78 2.05 0 2.83L4 21.41c.39.39.9.59 1.41.59.51 0 1.02-.2 1.41-.59l7.78-7.78 2.81-2.81c.8-.78.8-2.07 0-2.86zM5.41 20L4 18.59l7.72-7.72 1.47 1.35L5.41 20z\"/>\n",
              "  </svg>\n",
              "      </button>\n",
              "      \n",
              "  <style>\n",
              "    .colab-df-container {\n",
              "      display:flex;\n",
              "      flex-wrap:wrap;\n",
              "      gap: 12px;\n",
              "    }\n",
              "\n",
              "    .colab-df-convert {\n",
              "      background-color: #E8F0FE;\n",
              "      border: none;\n",
              "      border-radius: 50%;\n",
              "      cursor: pointer;\n",
              "      display: none;\n",
              "      fill: #1967D2;\n",
              "      height: 32px;\n",
              "      padding: 0 0 0 0;\n",
              "      width: 32px;\n",
              "    }\n",
              "\n",
              "    .colab-df-convert:hover {\n",
              "      background-color: #E2EBFA;\n",
              "      box-shadow: 0px 1px 2px rgba(60, 64, 67, 0.3), 0px 1px 3px 1px rgba(60, 64, 67, 0.15);\n",
              "      fill: #174EA6;\n",
              "    }\n",
              "\n",
              "    [theme=dark] .colab-df-convert {\n",
              "      background-color: #3B4455;\n",
              "      fill: #D2E3FC;\n",
              "    }\n",
              "\n",
              "    [theme=dark] .colab-df-convert:hover {\n",
              "      background-color: #434B5C;\n",
              "      box-shadow: 0px 1px 3px 1px rgba(0, 0, 0, 0.15);\n",
              "      filter: drop-shadow(0px 1px 2px rgba(0, 0, 0, 0.3));\n",
              "      fill: #FFFFFF;\n",
              "    }\n",
              "  </style>\n",
              "\n",
              "      <script>\n",
              "        const buttonEl =\n",
              "          document.querySelector('#df-0ecf7809-326c-40c3-a716-0a132546fad7 button.colab-df-convert');\n",
              "        buttonEl.style.display =\n",
              "          google.colab.kernel.accessAllowed ? 'block' : 'none';\n",
              "\n",
              "        async function convertToInteractive(key) {\n",
              "          const element = document.querySelector('#df-0ecf7809-326c-40c3-a716-0a132546fad7');\n",
              "          const dataTable =\n",
              "            await google.colab.kernel.invokeFunction('convertToInteractive',\n",
              "                                                     [key], {});\n",
              "          if (!dataTable) return;\n",
              "\n",
              "          const docLinkHtml = 'Like what you see? Visit the ' +\n",
              "            '<a target=\"_blank\" href=https://colab.research.google.com/notebooks/data_table.ipynb>data table notebook</a>'\n",
              "            + ' to learn more about interactive tables.';\n",
              "          element.innerHTML = '';\n",
              "          dataTable['output_type'] = 'display_data';\n",
              "          await google.colab.output.renderOutput(dataTable, element);\n",
              "          const docLink = document.createElement('div');\n",
              "          docLink.innerHTML = docLinkHtml;\n",
              "          element.appendChild(docLink);\n",
              "        }\n",
              "      </script>\n",
              "    </div>\n",
              "  </div>\n",
              "  "
            ]
          },
          "metadata": {},
          "execution_count": 813
        }
      ]
    },
    {
      "cell_type": "code",
      "source": [
        "label = \"sira_no\"\n",
        "df[~df[\"kategori\"].isin(exclude_conf[label])].assign(is_matched=lambda df: df[f\"pred__{label}\"] == df[label]).aggregate(**{\"is_matched\": (\"is_matched\", \"sum\"),\n",
        "                                                                                                                                \"size\": (\"is_matched\", \"size\"),\n",
        "                                                                                                                                 })"
      ],
      "metadata": {
        "colab": {
          "base_uri": "https://localhost:8080/",
          "height": 112
        },
        "id": "Qnfbpv_S4D_H",
        "outputId": "6e042168-065f-4db1-cd42-f73fe64b0440"
      },
      "execution_count": 815,
      "outputs": [
        {
          "output_type": "execute_result",
          "data": {
            "text/plain": [
              "            is_matched\n",
              "is_matched         474\n",
              "size               500"
            ],
            "text/html": [
              "\n",
              "  <div id=\"df-f30facf4-913c-47a4-9a8d-513f01ac3576\">\n",
              "    <div class=\"colab-df-container\">\n",
              "      <div>\n",
              "<style scoped>\n",
              "    .dataframe tbody tr th:only-of-type {\n",
              "        vertical-align: middle;\n",
              "    }\n",
              "\n",
              "    .dataframe tbody tr th {\n",
              "        vertical-align: top;\n",
              "    }\n",
              "\n",
              "    .dataframe thead th {\n",
              "        text-align: right;\n",
              "    }\n",
              "</style>\n",
              "<table border=\"1\" class=\"dataframe\">\n",
              "  <thead>\n",
              "    <tr style=\"text-align: right;\">\n",
              "      <th></th>\n",
              "      <th>is_matched</th>\n",
              "    </tr>\n",
              "  </thead>\n",
              "  <tbody>\n",
              "    <tr>\n",
              "      <th>is_matched</th>\n",
              "      <td>474</td>\n",
              "    </tr>\n",
              "    <tr>\n",
              "      <th>size</th>\n",
              "      <td>500</td>\n",
              "    </tr>\n",
              "  </tbody>\n",
              "</table>\n",
              "</div>\n",
              "      <button class=\"colab-df-convert\" onclick=\"convertToInteractive('df-f30facf4-913c-47a4-9a8d-513f01ac3576')\"\n",
              "              title=\"Convert this dataframe to an interactive table.\"\n",
              "              style=\"display:none;\">\n",
              "        \n",
              "  <svg xmlns=\"http://www.w3.org/2000/svg\" height=\"24px\"viewBox=\"0 0 24 24\"\n",
              "       width=\"24px\">\n",
              "    <path d=\"M0 0h24v24H0V0z\" fill=\"none\"/>\n",
              "    <path d=\"M18.56 5.44l.94 2.06.94-2.06 2.06-.94-2.06-.94-.94-2.06-.94 2.06-2.06.94zm-11 1L8.5 8.5l.94-2.06 2.06-.94-2.06-.94L8.5 2.5l-.94 2.06-2.06.94zm10 10l.94 2.06.94-2.06 2.06-.94-2.06-.94-.94-2.06-.94 2.06-2.06.94z\"/><path d=\"M17.41 7.96l-1.37-1.37c-.4-.4-.92-.59-1.43-.59-.52 0-1.04.2-1.43.59L10.3 9.45l-7.72 7.72c-.78.78-.78 2.05 0 2.83L4 21.41c.39.39.9.59 1.41.59.51 0 1.02-.2 1.41-.59l7.78-7.78 2.81-2.81c.8-.78.8-2.07 0-2.86zM5.41 20L4 18.59l7.72-7.72 1.47 1.35L5.41 20z\"/>\n",
              "  </svg>\n",
              "      </button>\n",
              "      \n",
              "  <style>\n",
              "    .colab-df-container {\n",
              "      display:flex;\n",
              "      flex-wrap:wrap;\n",
              "      gap: 12px;\n",
              "    }\n",
              "\n",
              "    .colab-df-convert {\n",
              "      background-color: #E8F0FE;\n",
              "      border: none;\n",
              "      border-radius: 50%;\n",
              "      cursor: pointer;\n",
              "      display: none;\n",
              "      fill: #1967D2;\n",
              "      height: 32px;\n",
              "      padding: 0 0 0 0;\n",
              "      width: 32px;\n",
              "    }\n",
              "\n",
              "    .colab-df-convert:hover {\n",
              "      background-color: #E2EBFA;\n",
              "      box-shadow: 0px 1px 2px rgba(60, 64, 67, 0.3), 0px 1px 3px 1px rgba(60, 64, 67, 0.15);\n",
              "      fill: #174EA6;\n",
              "    }\n",
              "\n",
              "    [theme=dark] .colab-df-convert {\n",
              "      background-color: #3B4455;\n",
              "      fill: #D2E3FC;\n",
              "    }\n",
              "\n",
              "    [theme=dark] .colab-df-convert:hover {\n",
              "      background-color: #434B5C;\n",
              "      box-shadow: 0px 1px 3px 1px rgba(0, 0, 0, 0.15);\n",
              "      filter: drop-shadow(0px 1px 2px rgba(0, 0, 0, 0.3));\n",
              "      fill: #FFFFFF;\n",
              "    }\n",
              "  </style>\n",
              "\n",
              "      <script>\n",
              "        const buttonEl =\n",
              "          document.querySelector('#df-f30facf4-913c-47a4-9a8d-513f01ac3576 button.colab-df-convert');\n",
              "        buttonEl.style.display =\n",
              "          google.colab.kernel.accessAllowed ? 'block' : 'none';\n",
              "\n",
              "        async function convertToInteractive(key) {\n",
              "          const element = document.querySelector('#df-f30facf4-913c-47a4-9a8d-513f01ac3576');\n",
              "          const dataTable =\n",
              "            await google.colab.kernel.invokeFunction('convertToInteractive',\n",
              "                                                     [key], {});\n",
              "          if (!dataTable) return;\n",
              "\n",
              "          const docLinkHtml = 'Like what you see? Visit the ' +\n",
              "            '<a target=\"_blank\" href=https://colab.research.google.com/notebooks/data_table.ipynb>data table notebook</a>'\n",
              "            + ' to learn more about interactive tables.';\n",
              "          element.innerHTML = '';\n",
              "          dataTable['output_type'] = 'display_data';\n",
              "          await google.colab.output.renderOutput(dataTable, element);\n",
              "          const docLink = document.createElement('div');\n",
              "          docLink.innerHTML = docLinkHtml;\n",
              "          element.appendChild(docLink);\n",
              "        }\n",
              "      </script>\n",
              "    </div>\n",
              "  </div>\n",
              "  "
            ]
          },
          "metadata": {},
          "execution_count": 815
        }
      ]
    },
    {
      "cell_type": "code",
      "source": [
        "label = \"mukerrer_no\"\n",
        "df[~df[\"kategori\"].isin(exclude_conf[label])].assign(is_matched=lambda df: df[f\"pred__{label}\"] == df[label]).aggregate(**{\"is_matched\": (\"is_matched\", \"sum\"),\n",
        "                                                                                                                                \"size\": (\"is_matched\", \"size\"),\n",
        "                                                                                                                                 })"
      ],
      "metadata": {
        "colab": {
          "base_uri": "https://localhost:8080/",
          "height": 112
        },
        "id": "kM0rTDUB4Mfv",
        "outputId": "7439a415-a245-4328-d84a-926669c84758"
      },
      "execution_count": 816,
      "outputs": [
        {
          "output_type": "execute_result",
          "data": {
            "text/plain": [
              "            is_matched\n",
              "is_matched        2477\n",
              "size              2507"
            ],
            "text/html": [
              "\n",
              "  <div id=\"df-bf8fc82e-1790-44e7-9c6d-02e2668ef8ac\">\n",
              "    <div class=\"colab-df-container\">\n",
              "      <div>\n",
              "<style scoped>\n",
              "    .dataframe tbody tr th:only-of-type {\n",
              "        vertical-align: middle;\n",
              "    }\n",
              "\n",
              "    .dataframe tbody tr th {\n",
              "        vertical-align: top;\n",
              "    }\n",
              "\n",
              "    .dataframe thead th {\n",
              "        text-align: right;\n",
              "    }\n",
              "</style>\n",
              "<table border=\"1\" class=\"dataframe\">\n",
              "  <thead>\n",
              "    <tr style=\"text-align: right;\">\n",
              "      <th></th>\n",
              "      <th>is_matched</th>\n",
              "    </tr>\n",
              "  </thead>\n",
              "  <tbody>\n",
              "    <tr>\n",
              "      <th>is_matched</th>\n",
              "      <td>2477</td>\n",
              "    </tr>\n",
              "    <tr>\n",
              "      <th>size</th>\n",
              "      <td>2507</td>\n",
              "    </tr>\n",
              "  </tbody>\n",
              "</table>\n",
              "</div>\n",
              "      <button class=\"colab-df-convert\" onclick=\"convertToInteractive('df-bf8fc82e-1790-44e7-9c6d-02e2668ef8ac')\"\n",
              "              title=\"Convert this dataframe to an interactive table.\"\n",
              "              style=\"display:none;\">\n",
              "        \n",
              "  <svg xmlns=\"http://www.w3.org/2000/svg\" height=\"24px\"viewBox=\"0 0 24 24\"\n",
              "       width=\"24px\">\n",
              "    <path d=\"M0 0h24v24H0V0z\" fill=\"none\"/>\n",
              "    <path d=\"M18.56 5.44l.94 2.06.94-2.06 2.06-.94-2.06-.94-.94-2.06-.94 2.06-2.06.94zm-11 1L8.5 8.5l.94-2.06 2.06-.94-2.06-.94L8.5 2.5l-.94 2.06-2.06.94zm10 10l.94 2.06.94-2.06 2.06-.94-2.06-.94-.94-2.06-.94 2.06-2.06.94z\"/><path d=\"M17.41 7.96l-1.37-1.37c-.4-.4-.92-.59-1.43-.59-.52 0-1.04.2-1.43.59L10.3 9.45l-7.72 7.72c-.78.78-.78 2.05 0 2.83L4 21.41c.39.39.9.59 1.41.59.51 0 1.02-.2 1.41-.59l7.78-7.78 2.81-2.81c.8-.78.8-2.07 0-2.86zM5.41 20L4 18.59l7.72-7.72 1.47 1.35L5.41 20z\"/>\n",
              "  </svg>\n",
              "      </button>\n",
              "      \n",
              "  <style>\n",
              "    .colab-df-container {\n",
              "      display:flex;\n",
              "      flex-wrap:wrap;\n",
              "      gap: 12px;\n",
              "    }\n",
              "\n",
              "    .colab-df-convert {\n",
              "      background-color: #E8F0FE;\n",
              "      border: none;\n",
              "      border-radius: 50%;\n",
              "      cursor: pointer;\n",
              "      display: none;\n",
              "      fill: #1967D2;\n",
              "      height: 32px;\n",
              "      padding: 0 0 0 0;\n",
              "      width: 32px;\n",
              "    }\n",
              "\n",
              "    .colab-df-convert:hover {\n",
              "      background-color: #E2EBFA;\n",
              "      box-shadow: 0px 1px 2px rgba(60, 64, 67, 0.3), 0px 1px 3px 1px rgba(60, 64, 67, 0.15);\n",
              "      fill: #174EA6;\n",
              "    }\n",
              "\n",
              "    [theme=dark] .colab-df-convert {\n",
              "      background-color: #3B4455;\n",
              "      fill: #D2E3FC;\n",
              "    }\n",
              "\n",
              "    [theme=dark] .colab-df-convert:hover {\n",
              "      background-color: #434B5C;\n",
              "      box-shadow: 0px 1px 3px 1px rgba(0, 0, 0, 0.15);\n",
              "      filter: drop-shadow(0px 1px 2px rgba(0, 0, 0, 0.3));\n",
              "      fill: #FFFFFF;\n",
              "    }\n",
              "  </style>\n",
              "\n",
              "      <script>\n",
              "        const buttonEl =\n",
              "          document.querySelector('#df-bf8fc82e-1790-44e7-9c6d-02e2668ef8ac button.colab-df-convert');\n",
              "        buttonEl.style.display =\n",
              "          google.colab.kernel.accessAllowed ? 'block' : 'none';\n",
              "\n",
              "        async function convertToInteractive(key) {\n",
              "          const element = document.querySelector('#df-bf8fc82e-1790-44e7-9c6d-02e2668ef8ac');\n",
              "          const dataTable =\n",
              "            await google.colab.kernel.invokeFunction('convertToInteractive',\n",
              "                                                     [key], {});\n",
              "          if (!dataTable) return;\n",
              "\n",
              "          const docLinkHtml = 'Like what you see? Visit the ' +\n",
              "            '<a target=\"_blank\" href=https://colab.research.google.com/notebooks/data_table.ipynb>data table notebook</a>'\n",
              "            + ' to learn more about interactive tables.';\n",
              "          element.innerHTML = '';\n",
              "          dataTable['output_type'] = 'display_data';\n",
              "          await google.colab.output.renderOutput(dataTable, element);\n",
              "          const docLink = document.createElement('div');\n",
              "          docLink.innerHTML = docLinkHtml;\n",
              "          element.appendChild(docLink);\n",
              "        }\n",
              "      </script>\n",
              "    </div>\n",
              "  </div>\n",
              "  "
            ]
          },
          "metadata": {},
          "execution_count": 816
        }
      ]
    },
    {
      "cell_type": "code",
      "source": [
        "#1 sorunu\n",
        "#sirano -> sirano \n",
        "#slra -> sira\n",
        "#sirasaisi -> sira saisi\n",
        "#s aisi \n",
        "idx = 6"
      ],
      "metadata": {
        "id": "Aaz1BAEPw3eO"
      },
      "execution_count": 791,
      "outputs": []
    },
    {
      "cell_type": "markdown",
      "source": [
        "t1 = df.loc[~df[\"kategori\"].isin(exclude_conf[\"sira_no\"])].reset_index(drop=True)\n",
        "t1 = t1[~(t1[\"sira_no\"] == t1[\"pred__sira_no\"])].reset_index(drop=True)\n",
        "print(t1.loc[idx, \"sira_no\"])\n",
        "print(t1.loc[idx, \"pred__sira_no\"])\n",
        "print(t1.loc[[idx], \"data_text\"].str.lower()\\\n",
        "                    .str.replace(\"'\", \" \")\\\n",
        "                    .str.replace(\"©\", \"ek\")\\\n",
        "                    .str.replace(\"ek\", \" ek\")\\\n",
        "                    .str.replace(\"\\s+\", \" \")\\\n",
        "                    .str.replace(\"s ira\", \"sira\")\\\n",
        "                    .str.replace(\"ı\", \"i\")\\\n",
        "                    .str.replace(\":\", \"\")\\\n",
        "                    .str.replace(\"y\", \"\")[idx])\n",
        "print(t1.loc[idx, \"data_text\"])"
      ],
      "metadata": {
        "id": "5GUpAz8N4nZv"
      }
    },
    {
      "cell_type": "code",
      "source": [
        "#df.loc[~df[\"kategori\"].isin(exclude_conf[\"mukerrer_no\"]), [\"mukerrer_no\", \"pred__mukerrer_no\"]].assign(is_matched=lambda df: df[\"mukerrer_no\"] == df[\"pred__mukerrer_no\"]).groupby([\"mukerrer_no\", \"is_matched\"]).size()"
      ],
      "metadata": {
        "id": "yEhedvUqXMWo"
      },
      "execution_count": 818,
      "outputs": []
    },
    {
      "cell_type": "code",
      "source": [
        "#2478/2507, 474/500, 2477/2507"
      ],
      "metadata": {
        "id": "hNyVnrNu5N8z"
      },
      "execution_count": 820,
      "outputs": []
    }
  ]
}